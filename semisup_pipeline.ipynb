{
 "cells": [
  {
   "cell_type": "code",
   "execution_count": 1,
   "metadata": {},
   "outputs": [],
   "source": [
    "import os\n",
    "from os.path import isdir, join\n",
    "from pathlib import Path\n",
    "import pandas as pd\n",
    "from tqdm import tqdm\n",
    "\n",
    "# Math\n",
    "import numpy as np\n",
    "import scipy.stats\n",
    "from scipy.fftpack import fft\n",
    "from scipy import signal\n",
    "from scipy.io import wavfile\n",
    "import librosa\n",
    "import librosa.display\n",
    "from scipy import sparse, stats, spatial\n",
    "import scipy.sparse.linalg\n",
    "\n",
    "# Machine learning\n",
    "from sklearn.neural_network import MLPClassifier\n",
    "from sklearn.svm import SVC\n",
    "from sklearn.utils import shuffle\n",
    "from sklearn.metrics import  confusion_matrix\n",
    "from sklearn.naive_bayes import GaussianNB\n",
    "from sklearn.model_selection import cross_val_score\n",
    "\n",
    "# Visualization\n",
    "import matplotlib.pyplot as plt\n",
    "import seaborn as sns\n",
    "import IPython.display as ipd\n",
    "import pandas as pd\n",
    "\n",
    "# Benchmarking\n",
    "import time\n",
    "\n",
    "# Cutting \n",
    "\n",
    "from cut_audio import *\n",
    "\n",
    "%matplotlib inline"
   ]
  },
  {
   "cell_type": "markdown",
   "metadata": {},
   "source": [
    "### Get original features"
   ]
  },
  {
   "cell_type": "code",
   "execution_count": 2,
   "metadata": {},
   "outputs": [
    {
     "data": {
      "text/html": [
       "<div>\n",
       "<style scoped>\n",
       "    .dataframe tbody tr th:only-of-type {\n",
       "        vertical-align: middle;\n",
       "    }\n",
       "\n",
       "    .dataframe tbody tr th {\n",
       "        vertical-align: top;\n",
       "    }\n",
       "\n",
       "    .dataframe thead tr th {\n",
       "        text-align: left;\n",
       "    }\n",
       "</style>\n",
       "<table border=\"1\" class=\"dataframe\">\n",
       "  <thead>\n",
       "    <tr>\n",
       "      <th></th>\n",
       "      <th colspan=\"4\" halign=\"left\">info</th>\n",
       "      <th colspan=\"17\" halign=\"left\">mfcc</th>\n",
       "    </tr>\n",
       "    <tr>\n",
       "      <th></th>\n",
       "      <th>iteration</th>\n",
       "      <th>path</th>\n",
       "      <th>speaker</th>\n",
       "      <th>word</th>\n",
       "      <th colspan=\"17\" halign=\"left\">raw_mfcc</th>\n",
       "    </tr>\n",
       "    <tr>\n",
       "      <th></th>\n",
       "      <th></th>\n",
       "      <th></th>\n",
       "      <th></th>\n",
       "      <th></th>\n",
       "      <th>0</th>\n",
       "      <th>1</th>\n",
       "      <th>2</th>\n",
       "      <th>3</th>\n",
       "      <th>4</th>\n",
       "      <th>5</th>\n",
       "      <th>...</th>\n",
       "      <th>190</th>\n",
       "      <th>191</th>\n",
       "      <th>192</th>\n",
       "      <th>193</th>\n",
       "      <th>194</th>\n",
       "      <th>195</th>\n",
       "      <th>196</th>\n",
       "      <th>197</th>\n",
       "      <th>198</th>\n",
       "      <th>199</th>\n",
       "    </tr>\n",
       "  </thead>\n",
       "  <tbody>\n",
       "    <tr>\n",
       "      <th>0</th>\n",
       "      <td>0</td>\n",
       "      <td>../Project/data/train/audio/bed/988e2f9a_nohas...</td>\n",
       "      <td>988e2f9a</td>\n",
       "      <td>bed</td>\n",
       "      <td>-532.804</td>\n",
       "      <td>-373.747</td>\n",
       "      <td>-281.723</td>\n",
       "      <td>-259.193</td>\n",
       "      <td>-260.494</td>\n",
       "      <td>-258.983</td>\n",
       "      <td>...</td>\n",
       "      <td>1.9078</td>\n",
       "      <td>-6.68038</td>\n",
       "      <td>-12.3779</td>\n",
       "      <td>-7.88019</td>\n",
       "      <td>-4.89838</td>\n",
       "      <td>5.09246</td>\n",
       "      <td>5.23662</td>\n",
       "      <td>5.81571</td>\n",
       "      <td>2.533</td>\n",
       "      <td>3.65357</td>\n",
       "    </tr>\n",
       "    <tr>\n",
       "      <th>1</th>\n",
       "      <td>2</td>\n",
       "      <td>../Project/data/train/audio/bed/6d818f6c_nohas...</td>\n",
       "      <td>6d818f6c</td>\n",
       "      <td>bed</td>\n",
       "      <td>-407.218</td>\n",
       "      <td>-255.981</td>\n",
       "      <td>-163.47</td>\n",
       "      <td>-131.31</td>\n",
       "      <td>-112.495</td>\n",
       "      <td>-118.76</td>\n",
       "      <td>...</td>\n",
       "      <td>-0.523793</td>\n",
       "      <td>-2.98547</td>\n",
       "      <td>-3.1049</td>\n",
       "      <td>-10.3242</td>\n",
       "      <td>-19.2463</td>\n",
       "      <td>-25.6867</td>\n",
       "      <td>-23.1932</td>\n",
       "      <td>-13.7993</td>\n",
       "      <td>-17.9949</td>\n",
       "      <td>-12.81</td>\n",
       "    </tr>\n",
       "    <tr>\n",
       "      <th>2</th>\n",
       "      <td>0</td>\n",
       "      <td>../Project/data/train/audio/bed/93ec8b84_nohas...</td>\n",
       "      <td>93ec8b84</td>\n",
       "      <td>bed</td>\n",
       "      <td>-466.171</td>\n",
       "      <td>-337.843</td>\n",
       "      <td>-244.057</td>\n",
       "      <td>-223.569</td>\n",
       "      <td>-248.308</td>\n",
       "      <td>-250.754</td>\n",
       "      <td>...</td>\n",
       "      <td>-19.4222</td>\n",
       "      <td>-8.93999</td>\n",
       "      <td>-2.63587</td>\n",
       "      <td>-2.76918</td>\n",
       "      <td>-9.29244</td>\n",
       "      <td>-14.9003</td>\n",
       "      <td>-17.6517</td>\n",
       "      <td>-15.8084</td>\n",
       "      <td>-25.7532</td>\n",
       "      <td>-30.9885</td>\n",
       "    </tr>\n",
       "    <tr>\n",
       "      <th>3</th>\n",
       "      <td>1</td>\n",
       "      <td>../Project/data/train/audio/bed/a9abc695_nohas...</td>\n",
       "      <td>a9abc695</td>\n",
       "      <td>bed</td>\n",
       "      <td>-556.172</td>\n",
       "      <td>-371.435</td>\n",
       "      <td>-267.924</td>\n",
       "      <td>-229.983</td>\n",
       "      <td>-221.044</td>\n",
       "      <td>-213.585</td>\n",
       "      <td>...</td>\n",
       "      <td>-13.8834</td>\n",
       "      <td>-18.6183</td>\n",
       "      <td>-15.9497</td>\n",
       "      <td>-13.2618</td>\n",
       "      <td>-9.06467</td>\n",
       "      <td>-12.7498</td>\n",
       "      <td>-12.3417</td>\n",
       "      <td>-14.7705</td>\n",
       "      <td>-19.5946</td>\n",
       "      <td>-22.2862</td>\n",
       "    </tr>\n",
       "    <tr>\n",
       "      <th>4</th>\n",
       "      <td>0</td>\n",
       "      <td>../Project/data/train/audio/bed/a8cb6dda_nohas...</td>\n",
       "      <td>a8cb6dda</td>\n",
       "      <td>bed</td>\n",
       "      <td>-483.963</td>\n",
       "      <td>-384.623</td>\n",
       "      <td>-221.676</td>\n",
       "      <td>-136.899</td>\n",
       "      <td>-108.406</td>\n",
       "      <td>-110.998</td>\n",
       "      <td>...</td>\n",
       "      <td>9.02163</td>\n",
       "      <td>2.85084</td>\n",
       "      <td>-1.81553</td>\n",
       "      <td>-2.05279</td>\n",
       "      <td>0.79797</td>\n",
       "      <td>-2.28227</td>\n",
       "      <td>-10.0107</td>\n",
       "      <td>-13.8224</td>\n",
       "      <td>-10.9754</td>\n",
       "      <td>-9.73626</td>\n",
       "    </tr>\n",
       "  </tbody>\n",
       "</table>\n",
       "<p>5 rows × 204 columns</p>\n",
       "</div>"
      ],
      "text/plain": [
       "       info                                                                    \\\n",
       "  iteration                                               path   speaker word   \n",
       "                                                                                \n",
       "0         0  ../Project/data/train/audio/bed/988e2f9a_nohas...  988e2f9a  bed   \n",
       "1         2  ../Project/data/train/audio/bed/6d818f6c_nohas...  6d818f6c  bed   \n",
       "2         0  ../Project/data/train/audio/bed/93ec8b84_nohas...  93ec8b84  bed   \n",
       "3         1  ../Project/data/train/audio/bed/a9abc695_nohas...  a9abc695  bed   \n",
       "4         0  ../Project/data/train/audio/bed/a8cb6dda_nohas...  a8cb6dda  bed   \n",
       "\n",
       "      mfcc                                                ...               \\\n",
       "  raw_mfcc                                                ...                \n",
       "         0        1        2        3        4        5   ...          190   \n",
       "0 -532.804 -373.747 -281.723 -259.193 -260.494 -258.983   ...       1.9078   \n",
       "1 -407.218 -255.981  -163.47  -131.31 -112.495  -118.76   ...    -0.523793   \n",
       "2 -466.171 -337.843 -244.057 -223.569 -248.308 -250.754   ...     -19.4222   \n",
       "3 -556.172 -371.435 -267.924 -229.983 -221.044 -213.585   ...     -13.8834   \n",
       "4 -483.963 -384.623 -221.676 -136.899 -108.406 -110.998   ...      9.02163   \n",
       "\n",
       "                                                                           \\\n",
       "                                                                            \n",
       "       191      192      193      194      195      196      197      198   \n",
       "0 -6.68038 -12.3779 -7.88019 -4.89838  5.09246  5.23662  5.81571    2.533   \n",
       "1 -2.98547  -3.1049 -10.3242 -19.2463 -25.6867 -23.1932 -13.7993 -17.9949   \n",
       "2 -8.93999 -2.63587 -2.76918 -9.29244 -14.9003 -17.6517 -15.8084 -25.7532   \n",
       "3 -18.6183 -15.9497 -13.2618 -9.06467 -12.7498 -12.3417 -14.7705 -19.5946   \n",
       "4  2.85084 -1.81553 -2.05279  0.79797 -2.28227 -10.0107 -13.8224 -10.9754   \n",
       "\n",
       "            \n",
       "            \n",
       "       199  \n",
       "0  3.65357  \n",
       "1   -12.81  \n",
       "2 -30.9885  \n",
       "3 -22.2862  \n",
       "4 -9.73626  \n",
       "\n",
       "[5 rows x 204 columns]"
      ]
     },
     "execution_count": 2,
     "metadata": {},
     "output_type": "execute_result"
    }
   ],
   "source": [
    "# Load features\n",
    "features_og = pd.read_pickle('./Features Data/cut_mfccs_all_raw_10_1028_20.pickle')\n",
    "features_og.head()"
   ]
  },
  {
   "cell_type": "markdown",
   "metadata": {},
   "source": [
    "### Create balanced training and testing set"
   ]
  },
  {
   "cell_type": "code",
   "execution_count": 3,
   "metadata": {},
   "outputs": [
    {
     "data": {
      "text/plain": [
       "(64720, 204)"
      ]
     },
     "execution_count": 3,
     "metadata": {},
     "output_type": "execute_result"
    }
   ],
   "source": [
    "features_og.shape"
   ]
  },
  {
   "cell_type": "code",
   "execution_count": 27,
   "metadata": {},
   "outputs": [
    {
     "data": {
      "text/plain": [
       "<matplotlib.axes._subplots.AxesSubplot at 0x1c5fcbba518>"
      ]
     },
     "execution_count": 27,
     "metadata": {},
     "output_type": "execute_result"
    },
    {
     "data": {
      "image/png": "[encoded data removed]",
      "text/plain": [
       "<matplotlib.figure.Figure at 0x1c5fcbc0ac8>"
      ]
     },
     "metadata": {},
     "output_type": "display_data"
    }
   ],
   "source": [
    "#features_og['mfcc']\n",
    "\n",
    "# Build Label vector\n",
    "# Define class name vector, the index will correspond to the class label\n",
    "class_names = features_og['info']['word'].unique()\n",
    "label_vec = np.ones(len(features_og))\n",
    "for i in range(0,len(class_names)):\n",
    "    label_vec +=(features_og['info','word'] == class_names[i]) * i\n",
    "    \n",
    "#equalize label count\n",
    "#label_vec = label_vec[1800:]    \n",
    "\n",
    "label_vec.plot()"
   ]
  },
  {
   "cell_type": "code",
   "execution_count": 28,
   "metadata": {},
   "outputs": [],
   "source": [
    "# sample classes such as test and train have equal proportion of classes\n",
    "train_size = 160\n",
    "test_size = 100\n",
    "\n",
    "train_x = np.array([])\n",
    "train_y = np.array([])\n",
    "\n",
    "test_x = np.array([])\n",
    "test_y = np.array([])\n",
    "\n",
    "for i in range(len(class_names)):\n",
    "    class_index = np.where(label_vec == (i+1))[0]\n",
    "    random_index = np.random.choice(range(len(class_index)), size=train_size+test_size, replace=False)\n",
    "    \n",
    "    train_x_class = class_index[random_index[:train_size]]\n",
    "    train_y_class = label_vec[train_x_class]\n",
    "    train_x = np.append(train_x, train_x_class).astype(int)\n",
    "    train_y = np.append(train_y, train_y_class).astype(int)\n",
    "\n",
    "    test_x_class = class_index[random_index[train_size:train_size+test_size]]\n",
    "    test_y_class = label_vec[test_x_class]\n",
    "    test_x = np.append(test_x, test_x_class).astype(int)\n",
    "    test_y = np.append(test_y, test_y_class).astype(int)\n",
    "    "
   ]
  },
  {
   "cell_type": "code",
   "execution_count": 29,
   "metadata": {},
   "outputs": [
    {
     "data": {
      "text/plain": [
       "[<matplotlib.lines.Line2D at 0x1c588733240>]"
      ]
     },
     "execution_count": 29,
     "metadata": {},
     "output_type": "execute_result"
    },
    {
     "data": {
      "image/png": "[encoded data removed]",
      "text/plain": [
       "<matplotlib.figure.Figure at 0x1c58506b7f0>"
      ]
     },
     "metadata": {},
     "output_type": "display_data"
    }
   ],
   "source": [
    "plt.plot(train_x)"
   ]
  },
  {
   "cell_type": "code",
   "execution_count": 30,
   "metadata": {},
   "outputs": [
    {
     "data": {
      "text/plain": [
       "[<matplotlib.lines.Line2D at 0x1c5f4f93ba8>]"
      ]
     },
     "execution_count": 30,
     "metadata": {},
     "output_type": "execute_result"
    },
    {
     "data": {
      "image/png": "[encoded data removed]",
      "text/plain": [
       "<matplotlib.figure.Figure at 0x1c584d5be48>"
      ]
     },
     "metadata": {},
     "output_type": "display_data"
    }
   ],
   "source": [
    "plt.plot(test_x)"
   ]
  },
  {
   "cell_type": "markdown",
   "metadata": {},
   "source": [
    "### Semisupervised learning functions"
   ]
  },
  {
   "cell_type": "code",
   "execution_count": 31,
   "metadata": {},
   "outputs": [],
   "source": [
    "# Functions\n",
    "def prepare_observations(Y, perc):\n",
    "    \"\"\"Prepare observations, where p is the percentage of values to keep.\"\"\"\n",
    "    M = np.array(np.random.random_sample(np.shape(Y))>(1-perc),dtype = 'int64')\n",
    "    Y_compr = Y*M\n",
    "    return Y_compr, M\n",
    "\n",
    "def solve(Y_compr, M, L, alpha, beta):\n",
    "    X = np.ones(Y_compr.shape)\n",
    "    for i in range(Y_compr.shape[0]):\n",
    "        Mask = np.diag(M[i,:])\n",
    "        #Mask = sparse.csr_matrix(Mask)\n",
    "        y_i_compr = Y_compr[i,:]\n",
    "        X[i,:] = np.linalg.solve((Mask+alpha*L+beta),y_i_compr)\n",
    "        #X[i,:] = scipy.sparse.linalg.spsolve((Mask+alpha*L+beta),y_i_compr)\n",
    "  \n",
    "    return X\n",
    "\n",
    "def adapt_labels(x_hat):\n",
    "    # Real accuracy considering only the main words :\n",
    "    class_names_list = [\"yes\", \"no\", \"up\", \"down\", \"left\", \"right\", \"on\", \"off\", \"stop\", \"go\", \"zero\", \"one\", \"two\", \"three\", \"four\", \"five\", \"six\", \"seven\", \"eight\", \"nine\"]\n",
    "    mask_names_main = [True if name in class_names_list else False for name in class_names]\n",
    "    index_names_main = [i for i in range(len(mask_names_main)) if mask_names_main[i] == True]\n",
    "    inverted_index_names = dict(zip(index_names_main,range(len(index_names_main))))\n",
    "\n",
    "    # Creating the label names :\n",
    "    class_names_main = class_names[mask_names_main].tolist()\n",
    "    class_names_main.extend([\"unknown\"])\n",
    "\n",
    "    # Adapting the labels in the test and prediction sets :\n",
    "    return np.array([inverted_index_names[int(x_hat[i])] if x_hat[i] in index_names_main else len(class_names_main)-1 for i in range(len(x_hat)) ])\n"
   ]
  },
  {
   "cell_type": "markdown",
   "metadata": {},
   "source": [
    "### Main loop :"
   ]
  },
  {
   "cell_type": "code",
   "execution_count": 32,
   "metadata": {},
   "outputs": [],
   "source": [
    "batch_size = 200\n",
    "NEIGHBORS = 30\n",
    "n_batch = int(len(test_x) / batch_size)\n",
    "\n",
    "alpha = 1e-3\n",
    "beta = 1e-7"
   ]
  },
  {
   "cell_type": "code",
   "execution_count": 33,
   "metadata": {},
   "outputs": [
    {
     "name": "stderr",
     "output_type": "stream",
     "text": [
      "  0%|                                                   | 0/15 [00:00<?, ?it/s]C:\\Users\\Kiran\\Anaconda3\\envs\\NTDS\\lib\\site-packages\\ipykernel_launcher.py:35: RuntimeWarning: divide by zero encountered in power\n",
      "100%|█████████████████████████████████████████| 15/15 [26:27<00:00, 105.82s/it]\n"
     ]
    }
   ],
   "source": [
    "accuracy_tot = []\n",
    "accuracy = []\n",
    "remaining_test = np.array(test_x)\n",
    "\n",
    "# encode training samples classes into 1-hot array\n",
    "n_class = np.max(train_y)\n",
    "Y = np.eye(len(class_names))[train_y - 1].T\n",
    "\n",
    "for batch in tqdm(range(n_batch)):\n",
    "    potential_elements  = np.array(list(enumerate(remaining_test)))\n",
    "    indices = np.random.choice(potential_elements[:,0].reshape(-1,), batch_size, replace=False)\n",
    "    batch_index = potential_elements[:,0].reshape(-1,)[indices]\n",
    "    remaining_test = np.delete(remaining_test, indices)\n",
    "        \n",
    "    features = pd.DataFrame(features_og['mfcc'], np.append(train_x, batch_index))\n",
    "    features -= features.mean(axis=0)\n",
    "    features /= features.std(axis=0)\n",
    "\n",
    "    # keep mapping from batch id to main id\n",
    "    id_mapping = dict(zip(features.index, range(len(features))))\n",
    "    \n",
    "    distances = spatial.distance.squareform(spatial.distance.pdist(features,'cosine'))\n",
    "\n",
    "    n=distances.shape[0]\n",
    "    kernel_width = distances.mean()\n",
    "    weights = np.exp(np.divide(-np.square(distances),kernel_width**2))\n",
    "    np.fill_diagonal(weights,0)\n",
    "    \n",
    "    for i in range(weights.shape[0]):\n",
    "        idx = weights[i,:].argsort()[:-NEIGHBORS]\n",
    "        weights[i,idx] = 0\n",
    "        weights[idx,i] = 0\n",
    "        \n",
    "    degrees = np.sum(weights,axis=0)\n",
    "    laplacian = np.diag(degrees**-0.5) @ (np.diag(degrees) - weights) @ np.diag(degrees**-0.5)\n",
    "    laplacian = sparse.csr_matrix(laplacian)\n",
    "\n",
    "    # add test samples to 1-hot array\n",
    "    M = np.zeros((len(class_names), len(train_y) + batch_size)) # mask matrix\n",
    "    M[:len(train_y),:len(train_y)] = 1\n",
    "    Y_compr = np.concatenate((Y, np.zeros((len(class_names), batch_size))), axis=1)\n",
    "    y = np.concatenate((train_y,np.zeros((batch_size,))))\n",
    "\n",
    "    # Solve\n",
    "    X = solve(Y_compr, M, laplacian, alpha = alpha, beta = beta)\n",
    "\n",
    "    # Make label vector\n",
    "    x_hat = np.argmax(X,axis = 0)+np.ones(X[0,:].shape)\n",
    "\n",
    "    # Unify labels 13-30\n",
    "    x_hat_adapted = adapt_labels(x_hat)\n",
    "    true_y = np.concatenate((train_y,label_vec[batch_index]))\n",
    "    y_adapted = adapt_labels(true_y)\n",
    "    \n",
    "    # Only consider unknowns\n",
    "    accuracy_tot.append(np.sum(x_hat[(len(x_hat)-batch_size):]==true_y[(len(x_hat)-batch_size):])/batch_size) # for all 30 words\n",
    "    accuracy.append(np.sum(x_hat_adapted[(len(x_hat)-batch_size):]==y_adapted[(len(x_hat)-batch_size):])/batch_size) # only core words\n",
    "    "
   ]
  },
  {
   "cell_type": "code",
   "execution_count": 35,
   "metadata": {},
   "outputs": [
    {
     "name": "stdout",
     "output_type": "stream",
     "text": [
      "[1.0, 1.0, 1.0, 1.0, 1.0, 1.0, 1.0, 1.0, 1.0, 1.0, 1.0, 1.0, 1.0, 1.0, 1.0]\n",
      "The achieved overall accuracy was 100.0%\n"
     ]
    }
   ],
   "source": [
    "#print(accuracy_tot)\n",
    "print(accuracy)\n",
    "print('The achieved overall accuracy was {}%'.format(round(np.sum(accuracy)/len(accuracy)*100)))"
   ]
  },
  {
   "cell_type": "code",
   "execution_count": null,
   "metadata": {},
   "outputs": [],
   "source": []
  }
 ],
 "metadata": {
  "kernelspec": {
   "display_name": "Python 3",
   "language": "python",
   "name": "python3"
  },
  "language_info": {
   "codemirror_mode": {
    "name": "ipython",
    "version": 3
   },
   "file_extension": ".py",
   "mimetype": "text/x-python",
   "name": "python",
   "nbconvert_exporter": "python",
   "pygments_lexer": "ipython3",
   "version": "3.6.3"
  }
 },
 "nbformat": 4,
 "nbformat_minor": 2
}
