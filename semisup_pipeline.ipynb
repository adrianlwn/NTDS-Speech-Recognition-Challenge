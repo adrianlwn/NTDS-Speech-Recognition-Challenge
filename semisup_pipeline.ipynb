{
 "cells": [
  {
   "cell_type": "code",
   "execution_count": 1,
   "metadata": {},
   "outputs": [],
   "source": [
    "import os\n",
    "from os.path import isdir, join\n",
    "from pathlib import Path\n",
    "import pandas as pd\n",
    "from tqdm import tqdm\n",
    "\n",
    "# Math\n",
    "import numpy as np\n",
    "import scipy.stats\n",
    "from scipy.fftpack import fft\n",
    "from scipy import signal\n",
    "from scipy.io import wavfile\n",
    "import librosa\n",
    "import librosa.display\n",
    "from scipy import sparse, stats, spatial\n",
    "import scipy.sparse.linalg\n",
    "\n",
    "# Machine learning\n",
    "from sklearn.neural_network import MLPClassifier\n",
    "from sklearn.svm import SVC\n",
    "from sklearn.utils import shuffle\n",
    "from sklearn.metrics import  confusion_matrix\n",
    "from sklearn.naive_bayes import GaussianNB\n",
    "from sklearn.model_selection import cross_val_score\n",
    "\n",
    "# Visualization\n",
    "import matplotlib.pyplot as plt\n",
    "import seaborn as sns\n",
    "import IPython.display as ipd\n",
    "import pandas as pd\n",
    "\n",
    "# Benchmarking\n",
    "import time\n",
    "\n",
    "# Cutting \n",
    "\n",
    "from cut_audio import *\n",
    "\n",
    "%matplotlib inline"
   ]
  },
  {
   "cell_type": "markdown",
   "metadata": {},
   "source": [
    "### Get original features"
   ]
  },
  {
   "cell_type": "code",
   "execution_count": 2,
   "metadata": {},
   "outputs": [
    {
     "data": {
      "text/html": [
       "<div>\n",
       "<style scoped>\n",
       "    .dataframe tbody tr th:only-of-type {\n",
       "        vertical-align: middle;\n",
       "    }\n",
       "\n",
       "    .dataframe tbody tr th {\n",
       "        vertical-align: top;\n",
       "    }\n",
       "\n",
       "    .dataframe thead tr th {\n",
       "        text-align: left;\n",
       "    }\n",
       "</style>\n",
       "<table border=\"1\" class=\"dataframe\">\n",
       "  <thead>\n",
       "    <tr>\n",
       "      <th></th>\n",
       "      <th colspan=\"4\" halign=\"left\">info</th>\n",
       "      <th colspan=\"17\" halign=\"left\">mfcc</th>\n",
       "    </tr>\n",
       "    <tr>\n",
       "      <th></th>\n",
       "      <th>iteration</th>\n",
       "      <th>path</th>\n",
       "      <th>speaker</th>\n",
       "      <th>word</th>\n",
       "      <th colspan=\"17\" halign=\"left\">raw_mfcc</th>\n",
       "    </tr>\n",
       "    <tr>\n",
       "      <th></th>\n",
       "      <th></th>\n",
       "      <th></th>\n",
       "      <th></th>\n",
       "      <th></th>\n",
       "      <th>0</th>\n",
       "      <th>1</th>\n",
       "      <th>2</th>\n",
       "      <th>3</th>\n",
       "      <th>4</th>\n",
       "      <th>5</th>\n",
       "      <th>...</th>\n",
       "      <th>190</th>\n",
       "      <th>191</th>\n",
       "      <th>192</th>\n",
       "      <th>193</th>\n",
       "      <th>194</th>\n",
       "      <th>195</th>\n",
       "      <th>196</th>\n",
       "      <th>197</th>\n",
       "      <th>198</th>\n",
       "      <th>199</th>\n",
       "    </tr>\n",
       "  </thead>\n",
       "  <tbody>\n",
       "    <tr>\n",
       "      <th>0</th>\n",
       "      <td>1</td>\n",
       "      <td>../../Project/data/train/audio/bed/4ca37738_no...</td>\n",
       "      <td>4ca37738</td>\n",
       "      <td>bed</td>\n",
       "      <td>-668.472</td>\n",
       "      <td>-415.371</td>\n",
       "      <td>-290.229</td>\n",
       "      <td>-254.907</td>\n",
       "      <td>-252.813</td>\n",
       "      <td>-260.467</td>\n",
       "      <td>...</td>\n",
       "      <td>8.8606</td>\n",
       "      <td>6.04937</td>\n",
       "      <td>4.8401</td>\n",
       "      <td>4.01919</td>\n",
       "      <td>-0.133351</td>\n",
       "      <td>0.378658</td>\n",
       "      <td>3.76517</td>\n",
       "      <td>-1.42274</td>\n",
       "      <td>-4.17407</td>\n",
       "      <td>-3.91277</td>\n",
       "    </tr>\n",
       "    <tr>\n",
       "      <th>1</th>\n",
       "      <td>2</td>\n",
       "      <td>../../Project/data/train/audio/bed/18a8f03f_no...</td>\n",
       "      <td>18a8f03f</td>\n",
       "      <td>bed</td>\n",
       "      <td>-561.085</td>\n",
       "      <td>-397.186</td>\n",
       "      <td>-277.837</td>\n",
       "      <td>-223.332</td>\n",
       "      <td>-208.684</td>\n",
       "      <td>-220.36</td>\n",
       "      <td>...</td>\n",
       "      <td>2.33488</td>\n",
       "      <td>4.11028</td>\n",
       "      <td>1.74313</td>\n",
       "      <td>2.6409</td>\n",
       "      <td>6.6949</td>\n",
       "      <td>10.9252</td>\n",
       "      <td>6.93298</td>\n",
       "      <td>-4.79697</td>\n",
       "      <td>-4.86165</td>\n",
       "      <td>-0.626862</td>\n",
       "    </tr>\n",
       "    <tr>\n",
       "      <th>2</th>\n",
       "      <td>1</td>\n",
       "      <td>../../Project/data/train/audio/bed/f7879738_no...</td>\n",
       "      <td>f7879738</td>\n",
       "      <td>bed</td>\n",
       "      <td>-502.24</td>\n",
       "      <td>-338.144</td>\n",
       "      <td>-238.475</td>\n",
       "      <td>-206.876</td>\n",
       "      <td>-223.549</td>\n",
       "      <td>-245.039</td>\n",
       "      <td>...</td>\n",
       "      <td>5.72451</td>\n",
       "      <td>3.07895</td>\n",
       "      <td>-2.90304</td>\n",
       "      <td>-7.45183</td>\n",
       "      <td>-14.9102</td>\n",
       "      <td>-12.0231</td>\n",
       "      <td>0.339006</td>\n",
       "      <td>-13.2369</td>\n",
       "      <td>-20.0365</td>\n",
       "      <td>-17.2599</td>\n",
       "    </tr>\n",
       "    <tr>\n",
       "      <th>3</th>\n",
       "      <td>0</td>\n",
       "      <td>../../Project/data/train/audio/bed/6b81fead_no...</td>\n",
       "      <td>6b81fead</td>\n",
       "      <td>bed</td>\n",
       "      <td>-454.289</td>\n",
       "      <td>-308.713</td>\n",
       "      <td>-192.137</td>\n",
       "      <td>-164.981</td>\n",
       "      <td>-157.227</td>\n",
       "      <td>-153.436</td>\n",
       "      <td>...</td>\n",
       "      <td>9.39723</td>\n",
       "      <td>7.8392</td>\n",
       "      <td>14.7211</td>\n",
       "      <td>9.11578</td>\n",
       "      <td>1.19525</td>\n",
       "      <td>4.52858</td>\n",
       "      <td>0.660116</td>\n",
       "      <td>5.49804</td>\n",
       "      <td>-4.77591</td>\n",
       "      <td>-3.40447</td>\n",
       "    </tr>\n",
       "    <tr>\n",
       "      <th>4</th>\n",
       "      <td>2</td>\n",
       "      <td>../../Project/data/train/audio/bed/f104f742_no...</td>\n",
       "      <td>f104f742</td>\n",
       "      <td>bed</td>\n",
       "      <td>-590.271</td>\n",
       "      <td>-500.679</td>\n",
       "      <td>-405.667</td>\n",
       "      <td>-347.118</td>\n",
       "      <td>-326.56</td>\n",
       "      <td>-331.76</td>\n",
       "      <td>...</td>\n",
       "      <td>-14.2663</td>\n",
       "      <td>-16.7753</td>\n",
       "      <td>-19.6517</td>\n",
       "      <td>-13.0846</td>\n",
       "      <td>-11.6816</td>\n",
       "      <td>-13.9107</td>\n",
       "      <td>-20.9241</td>\n",
       "      <td>-23.9006</td>\n",
       "      <td>-18.0101</td>\n",
       "      <td>-4.77511</td>\n",
       "    </tr>\n",
       "  </tbody>\n",
       "</table>\n",
       "<p>5 rows × 204 columns</p>\n",
       "</div>"
      ],
      "text/plain": [
       "       info                                                                    \\\n",
       "  iteration                                               path   speaker word   \n",
       "                                                                                \n",
       "0         1  ../../Project/data/train/audio/bed/4ca37738_no...  4ca37738  bed   \n",
       "1         2  ../../Project/data/train/audio/bed/18a8f03f_no...  18a8f03f  bed   \n",
       "2         1  ../../Project/data/train/audio/bed/f7879738_no...  f7879738  bed   \n",
       "3         0  ../../Project/data/train/audio/bed/6b81fead_no...  6b81fead  bed   \n",
       "4         2  ../../Project/data/train/audio/bed/f104f742_no...  f104f742  bed   \n",
       "\n",
       "      mfcc                                                 ...              \\\n",
       "  raw_mfcc                                                 ...               \n",
       "         0        1        2        3        4        5    ...         190   \n",
       "0 -668.472 -415.371 -290.229 -254.907 -252.813 -260.467    ...      8.8606   \n",
       "1 -561.085 -397.186 -277.837 -223.332 -208.684  -220.36    ...     2.33488   \n",
       "2  -502.24 -338.144 -238.475 -206.876 -223.549 -245.039    ...     5.72451   \n",
       "3 -454.289 -308.713 -192.137 -164.981 -157.227 -153.436    ...     9.39723   \n",
       "4 -590.271 -500.679 -405.667 -347.118  -326.56  -331.76    ...    -14.2663   \n",
       "\n",
       "                                                                              \\\n",
       "                                                                               \n",
       "       191      192      193       194       195       196      197      198   \n",
       "0  6.04937   4.8401  4.01919 -0.133351  0.378658   3.76517 -1.42274 -4.17407   \n",
       "1  4.11028  1.74313   2.6409    6.6949   10.9252   6.93298 -4.79697 -4.86165   \n",
       "2  3.07895 -2.90304 -7.45183  -14.9102  -12.0231  0.339006 -13.2369 -20.0365   \n",
       "3   7.8392  14.7211  9.11578   1.19525   4.52858  0.660116  5.49804 -4.77591   \n",
       "4 -16.7753 -19.6517 -13.0846  -11.6816  -13.9107  -20.9241 -23.9006 -18.0101   \n",
       "\n",
       "             \n",
       "             \n",
       "        199  \n",
       "0  -3.91277  \n",
       "1 -0.626862  \n",
       "2  -17.2599  \n",
       "3  -3.40447  \n",
       "4  -4.77511  \n",
       "\n",
       "[5 rows x 204 columns]"
      ]
     },
     "execution_count": 2,
     "metadata": {},
     "output_type": "execute_result"
    }
   ],
   "source": [
    "# Load features\n",
    "features_og = pd.read_pickle('./Features Data/cut_mfccs_raw_10_1028_20.pickle')\n",
    "features_og.head()"
   ]
  },
  {
   "cell_type": "markdown",
   "metadata": {},
   "source": [
    "### Create balanced training and testing set"
   ]
  },
  {
   "cell_type": "code",
   "execution_count": 3,
   "metadata": {},
   "outputs": [
    {
     "data": {
      "text/plain": [
       "<matplotlib.axes._subplots.AxesSubplot at 0x1ca1ce074a8>"
      ]
     },
     "execution_count": 3,
     "metadata": {},
     "output_type": "execute_result"
    },
    {
     "data": {
      "image/png": "[encoded data removed]",
      "text/plain": [
       "<matplotlib.figure.Figure at 0x1ca1cddb400>"
      ]
     },
     "metadata": {},
     "output_type": "display_data"
    }
   ],
   "source": [
    "#features_og['mfcc']\n",
    "\n",
    "# Build Label vector\n",
    "# Define class name vector, the index will correspond to the class label\n",
    "class_names = features_og['info']['word'].unique()\n",
    "label_vec = np.ones(len(features_og))\n",
    "for i in range(0,len(class_names)):\n",
    "    label_vec +=(features_og['info','word'] == class_names[i]) * i\n",
    "    \n",
    "#equalize label count\n",
    "#label_vec = label_vec[1800:]    \n",
    "\n",
    "label_vec.plot()"
   ]
  },
  {
   "cell_type": "code",
   "execution_count": 20,
   "metadata": {},
   "outputs": [],
   "source": [
    "# sample classes such as test and train have equal proportion of classes\n",
    "train_size = 80\n",
    "test_size = 20\n",
    "\n",
    "train_x = np.array([])\n",
    "train_y = np.array([])\n",
    "\n",
    "test_x = np.array([])\n",
    "test_y = np.array([])\n",
    "\n",
    "for i in range(len(class_names)):\n",
    "    class_index = np.where(label_vec == (i+1))[0]\n",
    "    random_index = np.random.choice(range(len(class_index)), size=train_size+test_size, replace=False)\n",
    "    \n",
    "    train_x_class = class_index[random_index[:train_size]]\n",
    "    train_y_class = label_vec[train_x_class]\n",
    "    train_x = np.append(train_x, train_x_class).astype(int)\n",
    "    train_y = np.append(train_y, train_y_class).astype(int)\n",
    "\n",
    "    test_x_class = class_index[random_index[train_size:train_size+test_size]]\n",
    "    test_y_class = label_vec[test_x_class]\n",
    "    test_x = np.append(test_x, test_x_class).astype(int)\n",
    "    test_y = np.append(test_y, test_y_class).astype(int)\n",
    "    "
   ]
  },
  {
   "cell_type": "markdown",
   "metadata": {},
   "source": [
    "### Semisupervised learning functions"
   ]
  },
  {
   "cell_type": "code",
   "execution_count": 21,
   "metadata": {},
   "outputs": [],
   "source": [
    "# Functions\n",
    "def prepare_observations(Y, perc):\n",
    "    \"\"\"Prepare observations, where p is the percentage of values to keep.\"\"\"\n",
    "    M = np.array(np.random.random_sample(np.shape(Y))>(1-perc),dtype = 'int64')\n",
    "    Y_compr = Y*M\n",
    "    return Y_compr, M\n",
    "\n",
    "def solve(Y_compr, M, L, alpha, beta):\n",
    "    X = np.ones(Y_compr.shape)\n",
    "    for i in range(Y_compr.shape[0]):\n",
    "        Mask = np.diag(M[i,:])\n",
    "        y_i_compr = Y_compr[i,:]\n",
    "        X[i,:] = np.linalg.solve((Mask+alpha*L+beta),y_i_compr)\n",
    "        \n",
    "    return X\n",
    "\n",
    "def adapt_labels(x_hat):\n",
    "    # Real accuracy considering only the main words :\n",
    "    class_names_list = [\"yes\", \"no\", \"up\", \"down\", \"left\", \"right\", \"on\", \"off\", \"stop\", \"go\", \"zero\", \"one\", \"two\", \"three\", \"four\", \"five\", \"six\", \"seven\", \"eight\", \"nine\"]\n",
    "    mask_names_main = [True if name in class_names_list else False for name in class_names]\n",
    "    index_names_main = [i for i in range(len(mask_names_main)) if mask_names_main[i] == True]\n",
    "    inverted_index_names = dict(zip(index_names_main,range(len(index_names_main))))\n",
    "\n",
    "    # Creating the label names :\n",
    "    class_names_main = class_names[mask_names_main].tolist()\n",
    "    class_names_main.extend([\"unknown\"])\n",
    "\n",
    "    # Adapting the labels in the test and prediction sets :\n",
    "    return np.array([inverted_index_names[int(x_hat[i])] if x_hat[i] in index_names_main else len(class_names_main)-1 for i in range(len(x_hat)) ])\n"
   ]
  },
  {
   "cell_type": "markdown",
   "metadata": {},
   "source": [
    "### Main loop :"
   ]
  },
  {
   "cell_type": "code",
   "execution_count": 22,
   "metadata": {},
   "outputs": [],
   "source": [
    "batch_size = 100\n",
    "NEIGHBORS = 400\n",
    "n_batch = int(len(test_x) / batch_size)\n"
   ]
  },
  {
   "cell_type": "code",
   "execution_count": 42,
   "metadata": {},
   "outputs": [
    {
     "name": "stderr",
     "output_type": "stream",
     "text": [
      "  0%|                                                    | 0/6 [00:00<?, ?it/s]C:\\Users\\Kiran\\Anaconda3\\envs\\NTDS\\lib\\site-packages\\ipykernel_launcher.py:11: DeprecationWarning: in the future out of bounds indices will raise an error instead of being ignored by `numpy.delete`.\n",
      "  # This is added back by InteractiveShellApp.init_path()\n",
      "100%|████████████████████████████████████████████| 6/6 [01:56<00:00, 19.49s/it]\n"
     ]
    }
   ],
   "source": [
    "accuracy_tot = []\n",
    "accuracy = []\n",
    "remaining_test = np.array(test_x)\n",
    "\n",
    "# encode training samples classes into 1-hot array\n",
    "n_class = np.max(train_y)\n",
    "Y = np.eye(len(class_names))[train_y - 1].T\n",
    "\n",
    "for batch in tqdm(range(n_batch)):\n",
    "    batch_index = np.random.choice(remaining_test, batch_size, replace=False)\n",
    "    remaining_test = np.delete(remaining_test, batch_index)\n",
    "    \n",
    "    features = pd.DataFrame(features_og['mfcc'], np.append(train_x, batch_index))\n",
    "    features -= features.mean(axis=0)\n",
    "    features /= features.std(axis=0)\n",
    "\n",
    "    # keep mapping from batch id to main id\n",
    "    id_mapping = dict(zip(features.index, range(len(features))))\n",
    "\n",
    "    distances = spatial.distance.squareform(spatial.distance.pdist(features,'cosine'))\n",
    "\n",
    "    n=distances.shape[0]\n",
    "    kernel_width = distances.mean()\n",
    "    weights = np.exp(np.divide(-np.square(distances),kernel_width**2))\n",
    "    np.fill_diagonal(weights,0)\n",
    "    \n",
    "    for i in range(weights.shape[0]):\n",
    "        idx = weights[i,:].argsort()[:-NEIGHBORS]\n",
    "        weights[i,idx] = 0\n",
    "        weights[idx,i] = 0\n",
    "        \n",
    "    degrees = np.sum(weights,axis=0)\n",
    "    laplacian = np.diag(degrees**-0.5) @ (np.diag(degrees) - weights) @ np.diag(degrees**-0.5)\n",
    "    laplacian = sparse.csr_matrix(laplacian)\n",
    "\n",
    "    # add test samples to 1-hot array\n",
    "    M = np.zeros((len(class_names), len(train_y) + batch_size)) # mask matrix\n",
    "    M[:len(train_y),len(train_y)] = 1\n",
    "    Y_compr = np.concatenate((Y, np.zeros((len(class_names), batch_size))), axis=1)\n",
    "    y = np.concatenate((train_y,np.zeros((batch_size,))))\n",
    "    \n",
    "    # Solve\n",
    "    X = solve(Y_compr, M, laplacian, alpha = 1e-3, beta = 1e-7)\n",
    "\n",
    "    # Make label vector\n",
    "    x_hat = np.argmax(X,axis = 0)+np.ones(X[0,:].shape)\n",
    "\n",
    "    # Unify labels 13-30\n",
    "    x_hat_adapted = adapt_labels(x_hat)\n",
    "    true_y = np.concatenate((train_y,label_vec[batch_index]))\n",
    "    y_adapted = adapt_labels(true_y)\n",
    "\n",
    "    # Only consider unknowns\n",
    "    M_inv = np.array(np.sum(Y_compr,axis = 0)==0,dtype = 'int64')\n",
    "    accuracy_tot.append(np.sum(x_hat[M_inv==1]==true_y[M_inv==1])/x_hat[M_inv==1].shape[0]) # for all 30 words\n",
    "    accuracy.append(np.sum(x_hat_adapted[M_inv==1]==y_adapted[M_inv==1])/x_hat_adapted[M_inv==1].shape[0]) # only core words\n",
    "    "
   ]
  },
  {
   "cell_type": "code",
   "execution_count": 43,
   "metadata": {},
   "outputs": [
    {
     "name": "stdout",
     "output_type": "stream",
     "text": [
      "[0.32000000000000001, 0.44, 0.37, 0.40000000000000002, 0.38, 0.41999999999999998]\n",
      "[0.46000000000000002, 0.47999999999999998, 0.46000000000000002, 0.48999999999999999, 0.47999999999999998, 0.48999999999999999]\n"
     ]
    }
   ],
   "source": [
    "print(accuracy_tot)\n",
    "print(accuracy)"
   ]
  },
  {
   "cell_type": "code",
   "execution_count": 25,
   "metadata": {},
   "outputs": [
    {
     "ename": "ValueError",
     "evalue": "operands could not be broadcast together with shapes (30,2500) (30,2400) ",
     "output_type": "error",
     "traceback": [
      "\u001b[1;31m---------------------------------------------------------------------------\u001b[0m",
      "\u001b[1;31mValueError\u001b[0m                                Traceback (most recent call last)",
      "\u001b[1;32m<ipython-input-25-2ce308d5717c>\u001b[0m in \u001b[0;36m<module>\u001b[1;34m()\u001b[0m\n\u001b[0;32m      4\u001b[0m \u001b[0mM\u001b[0m\u001b[1;33m[\u001b[0m\u001b[1;33m:\u001b[0m\u001b[0mlen\u001b[0m\u001b[1;33m(\u001b[0m\u001b[0mtrain_y\u001b[0m\u001b[1;33m)\u001b[0m\u001b[1;33m,\u001b[0m\u001b[0mlen\u001b[0m\u001b[1;33m(\u001b[0m\u001b[0mtrain_y\u001b[0m\u001b[1;33m)\u001b[0m\u001b[1;33m]\u001b[0m \u001b[1;33m=\u001b[0m \u001b[1;36m1\u001b[0m\u001b[1;33m\u001b[0m\u001b[0m\n\u001b[0;32m      5\u001b[0m \u001b[1;33m\u001b[0m\u001b[0m\n\u001b[1;32m----> 6\u001b[1;33m \u001b[0mY_compr\u001b[0m \u001b[1;33m=\u001b[0m \u001b[0mM\u001b[0m\u001b[1;33m*\u001b[0m\u001b[0mY\u001b[0m\u001b[1;33m\u001b[0m\u001b[0m\n\u001b[0m\u001b[0;32m      7\u001b[0m \u001b[0mY_compr\u001b[0m\u001b[1;33m\u001b[0m\u001b[0m\n",
      "\u001b[1;31mValueError\u001b[0m: operands could not be broadcast together with shapes (30,2500) (30,2400) "
     ]
    }
   ],
   "source": [
    "Y = np.eye(len(class_names))[train_y - 1].T\n",
    "\n",
    "M = np.zeros((len(class_names), len(train_y) + batch_size))\n",
    "M[:len(train_y),len(train_y)] = 1\n",
    "\n",
    "Y_compr = M*Y\n",
    "Y_compr"
   ]
  },
  {
   "cell_type": "code",
   "execution_count": 56,
   "metadata": {},
   "outputs": [
    {
     "data": {
      "text/plain": [
       "array([ 8, 11, 17,  0, 13,  4, 20, 13, 17, 11, 11, 20,  2, 12, 20,  9, 20,\n",
       "        4, 20, 20,  9, 13,  3, 20, 16, 20, 20, 17,  2, 12, 20,  9,  6, 20,\n",
       "       20, 12, 20,  9,  5,  4, 20, 12, 16, 11, 13, 19, 20, 20, 19, 17, 12,\n",
       "        8,  9, 13, 20,  4,  2, 20,  9,  2, 13,  2,  5,  9,  9,  4,  1, 20,\n",
       "       20, 17, 20,  9, 20, 20, 16, 19,  0, 20,  4, 20, 13, 20, 11,  9, 20,\n",
       "        2,  9, 20,  9, 20, 16,  9, 20,  0,  6, 13,  4,  6, 13, 20])"
      ]
     },
     "execution_count": 56,
     "metadata": {},
     "output_type": "execute_result"
    }
   ],
   "source": [
    "x_hat_adapted[2400:]"
   ]
  },
  {
   "cell_type": "code",
   "execution_count": 54,
   "metadata": {},
   "outputs": [
    {
     "data": {
      "text/plain": [
       "array([ 15.,  18.,  26.,   4.,  21.,   8.,   3.,  21.,  26.,  18.,  18.,\n",
       "         1.,   6.,  19.,   3.,  16.,   1.,   8.,  24.,   1.,  16.,  21.,\n",
       "         7.,   3.,  25.,   2.,  27.,  26.,   6.,  19.,   2.,  16.,  13.,\n",
       "        27.,  27.,  19.,   1.,  16.,  11.,   8.,  20.,  19.,  25.,  18.,\n",
       "        21.,  29.,   1.,   3.,  29.,  26.,  19.,  15.,  16.,  21.,   2.,\n",
       "         8.,   6.,  24.,  16.,   6.,  21.,   6.,  11.,  16.,  16.,   8.,\n",
       "         5.,   3.,  30.,  26.,   3.,  16.,   3.,   3.,  25.,  29.,   4.,\n",
       "         1.,   8.,   3.,  21.,   3.,  18.,  16.,  30.,   6.,  16.,   3.,\n",
       "        16.,   3.,  25.,  16.,  27.,   4.,  13.,  21.,   8.,  13.,  21.,\n",
       "        27.])"
      ]
     },
     "execution_count": 54,
     "metadata": {},
     "output_type": "execute_result"
    }
   ],
   "source": [
    "x_hat[2400:]"
   ]
  },
  {
   "cell_type": "code",
   "execution_count": 50,
   "metadata": {},
   "outputs": [
    {
     "data": {
      "text/plain": [
       "array([ 15.,  22.,  24.,  27.,  11.,  23.,   1.,  23.,  12.,  18.,  18.,\n",
       "         7.,   6.,  19.,   3.,   4.,  20.,   8.,  19.,  19.,  23.,  21.,\n",
       "         8.,   3.,  25.,  12.,  14.,  14.,  22.,   7.,   2.,  23.,  10.,\n",
       "        16.,  27.,   7.,   9.,  16.,  11.,  12.,  20.,  13.,  25.,  18.,\n",
       "         8.,  18.,   1.,  11.,  30.,  15.,  19.,  15.,   8.,  21.,   2.,\n",
       "         9.,   6.,  24.,  16.,   6.,  30.,  24.,  11.,  16.,  16.,  18.,\n",
       "         5.,   5.,  30.,  30.,   3.,  16.,  14.,  20.,  22.,  11.,   9.,\n",
       "         1.,   9.,  10.,  29.,  13.,  18.,  11.,  30.,   6.,  27.,   9.,\n",
       "        17.,   3.,  25.,  17.,  27.,   5.,  13.,  26.,  19.,  19.,  21.,\n",
       "        11.])"
      ]
     },
     "execution_count": 50,
     "metadata": {},
     "output_type": "execute_result"
    }
   ],
   "source": [
    "true_y[2400:]"
   ]
  },
  {
   "cell_type": "code",
   "execution_count": 51,
   "metadata": {},
   "outputs": [
    {
     "data": {
      "text/plain": [
       "array([ 8, 14, 20, 20,  5, 15, 20, 15, 20, 11, 11,  3,  2, 12, 20,  0, 20,\n",
       "        4, 12, 12, 15, 13,  4, 20, 16, 20,  7,  7, 14,  3, 20, 15, 20,  9,\n",
       "       20,  3, 20,  9,  5, 20, 20,  6, 16, 11,  4, 11, 20,  5, 20,  8, 12,\n",
       "        8,  4, 13, 20, 20,  2, 20,  9,  2, 20, 20,  5,  9,  9, 11,  1,  1,\n",
       "       20, 20, 20,  9,  7, 20, 14,  5, 20, 20, 20, 20, 19,  6, 11,  5, 20,\n",
       "        2, 20, 20, 10, 20, 16, 10, 20,  1,  6, 17, 12, 12, 13,  5])"
      ]
     },
     "execution_count": 51,
     "metadata": {},
     "output_type": "execute_result"
    }
   ],
   "source": [
    "y_adapted[2400:]"
   ]
  },
  {
   "cell_type": "code",
   "execution_count": 52,
   "metadata": {},
   "outputs": [
    {
     "data": {
      "text/plain": [
       "[<matplotlib.lines.Line2D at 0x1ca20297400>]"
      ]
     },
     "execution_count": 52,
     "metadata": {},
     "output_type": "execute_result"
    },
    {
     "data": {
      "image/png": "[encoded data removed]",
      "text/plain": [
       "<matplotlib.figure.Figure at 0x1ca20387588>"
      ]
     },
     "metadata": {},
     "output_type": "display_data"
    }
   ],
   "source": [
    "plt.plot(label_vec[batch_index])"
   ]
  },
  {
   "cell_type": "code",
   "execution_count": null,
   "metadata": {},
   "outputs": [],
   "source": []
  }
 ],
 "metadata": {
  "kernelspec": {
   "display_name": "Python 3",
   "language": "python",
   "name": "python3"
  },
  "language_info": {
   "codemirror_mode": {
    "name": "ipython",
    "version": 3
   },
   "file_extension": ".py",
   "mimetype": "text/x-python",
   "name": "python",
   "nbconvert_exporter": "python",
   "pygments_lexer": "ipython3",
   "version": "3.6.3"
  }
 },
 "nbformat": 4,
 "nbformat_minor": 2
}
