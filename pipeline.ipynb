{
 "cells": [
  {
   "cell_type": "code",
   "execution_count": 1,
   "metadata": {},
   "outputs": [],
   "source": [
    "import os\n",
    "from os.path import isdir, join\n",
    "from pathlib import Path\n",
    "import pandas as pd\n",
    "from tqdm import tqdm\n",
    "\n",
    "# Math\n",
    "import numpy as np\n",
    "import scipy.stats\n",
    "from scipy.fftpack import fft\n",
    "from scipy import signal\n",
    "from scipy.io import wavfile\n",
    "import librosa\n",
    "import librosa.display\n",
    "from scipy import sparse, stats, spatial\n",
    "import scipy.sparse.linalg\n",
    "\n",
    "# Machine learning\n",
    "from sklearn.neural_network import MLPClassifier\n",
    "from sklearn.svm import SVC\n",
    "from sklearn.utils import shuffle\n",
    "from sklearn.metrics import  confusion_matrix\n",
    "from sklearn.naive_bayes import GaussianNB\n",
    "from sklearn.model_selection import cross_val_score\n",
    "\n",
    "# Visualization\n",
    "import matplotlib.pyplot as plt\n",
    "import seaborn as sns\n",
    "import IPython.display as ipd\n",
    "import pandas as pd\n",
    "\n",
    "# Cutting \n",
    "\n",
    "from cut_audio import *\n",
    "\n",
    "%matplotlib inline"
   ]
  },
  {
   "cell_type": "code",
   "execution_count": 2,
   "metadata": {},
   "outputs": [
    {
     "data": {
      "text/html": [
       "<div>\n",
       "<style scoped>\n",
       "    .dataframe tbody tr th:only-of-type {\n",
       "        vertical-align: middle;\n",
       "    }\n",
       "\n",
       "    .dataframe tbody tr th {\n",
       "        vertical-align: top;\n",
       "    }\n",
       "\n",
       "    .dataframe thead tr th {\n",
       "        text-align: left;\n",
       "    }\n",
       "</style>\n",
       "<table border=\"1\" class=\"dataframe\">\n",
       "  <thead>\n",
       "    <tr>\n",
       "      <th></th>\n",
       "      <th colspan=\"4\" halign=\"left\">info</th>\n",
       "      <th colspan=\"17\" halign=\"left\">mfcc</th>\n",
       "    </tr>\n",
       "    <tr>\n",
       "      <th></th>\n",
       "      <th>iteration</th>\n",
       "      <th>path</th>\n",
       "      <th>speaker</th>\n",
       "      <th>word</th>\n",
       "      <th colspan=\"17\" halign=\"left\">raw_mfcc</th>\n",
       "    </tr>\n",
       "    <tr>\n",
       "      <th></th>\n",
       "      <th></th>\n",
       "      <th></th>\n",
       "      <th></th>\n",
       "      <th></th>\n",
       "      <th>0</th>\n",
       "      <th>1</th>\n",
       "      <th>2</th>\n",
       "      <th>3</th>\n",
       "      <th>4</th>\n",
       "      <th>5</th>\n",
       "      <th>...</th>\n",
       "      <th>190</th>\n",
       "      <th>191</th>\n",
       "      <th>192</th>\n",
       "      <th>193</th>\n",
       "      <th>194</th>\n",
       "      <th>195</th>\n",
       "      <th>196</th>\n",
       "      <th>197</th>\n",
       "      <th>198</th>\n",
       "      <th>199</th>\n",
       "    </tr>\n",
       "  </thead>\n",
       "  <tbody>\n",
       "    <tr>\n",
       "      <th>0</th>\n",
       "      <td>1</td>\n",
       "      <td>../Project/data/train/audio/bed/26e9ae6b_nohas...</td>\n",
       "      <td>26e9ae6b</td>\n",
       "      <td>bed</td>\n",
       "      <td>-792.254</td>\n",
       "      <td>-787.7</td>\n",
       "      <td>-791.539</td>\n",
       "      <td>-789.665</td>\n",
       "      <td>-654.321</td>\n",
       "      <td>-601.683</td>\n",
       "      <td>...</td>\n",
       "      <td>8.70598</td>\n",
       "      <td>2.59404</td>\n",
       "      <td>0.659452</td>\n",
       "      <td>5.04189</td>\n",
       "      <td>2.56198</td>\n",
       "      <td>13.0749</td>\n",
       "      <td>8.08766</td>\n",
       "      <td>14.1877</td>\n",
       "      <td>24.2039</td>\n",
       "      <td>18.5999</td>\n",
       "    </tr>\n",
       "    <tr>\n",
       "      <th>1</th>\n",
       "      <td>0</td>\n",
       "      <td>../Project/data/train/audio/bed/c1eebc0b_nohas...</td>\n",
       "      <td>c1eebc0b</td>\n",
       "      <td>bed</td>\n",
       "      <td>-489.317</td>\n",
       "      <td>-281.411</td>\n",
       "      <td>-153.447</td>\n",
       "      <td>-96.2069</td>\n",
       "      <td>-85.2913</td>\n",
       "      <td>-99.3898</td>\n",
       "      <td>...</td>\n",
       "      <td>21.8332</td>\n",
       "      <td>19.6169</td>\n",
       "      <td>17.4731</td>\n",
       "      <td>15.8701</td>\n",
       "      <td>14.147</td>\n",
       "      <td>11.3736</td>\n",
       "      <td>8.31899</td>\n",
       "      <td>-0.998932</td>\n",
       "      <td>-6.97295</td>\n",
       "      <td>-4.75059</td>\n",
       "    </tr>\n",
       "    <tr>\n",
       "      <th>2</th>\n",
       "      <td>0</td>\n",
       "      <td>../Project/data/train/audio/bed/888a0c49_nohas...</td>\n",
       "      <td>888a0c49</td>\n",
       "      <td>bed</td>\n",
       "      <td>-551.097</td>\n",
       "      <td>-514.938</td>\n",
       "      <td>-492.838</td>\n",
       "      <td>-486.028</td>\n",
       "      <td>-497.269</td>\n",
       "      <td>-272.339</td>\n",
       "      <td>...</td>\n",
       "      <td>9.25921</td>\n",
       "      <td>12.553</td>\n",
       "      <td>9.90252</td>\n",
       "      <td>15.5926</td>\n",
       "      <td>10.9931</td>\n",
       "      <td>10.1983</td>\n",
       "      <td>11.9801</td>\n",
       "      <td>15.2197</td>\n",
       "      <td>7.28049</td>\n",
       "      <td>-5.99168</td>\n",
       "    </tr>\n",
       "    <tr>\n",
       "      <th>3</th>\n",
       "      <td>0</td>\n",
       "      <td>../Project/data/train/audio/bed/413997c1_nohas...</td>\n",
       "      <td>413997c1</td>\n",
       "      <td>bed</td>\n",
       "      <td>-561.107</td>\n",
       "      <td>-313.113</td>\n",
       "      <td>-226.13</td>\n",
       "      <td>-243.191</td>\n",
       "      <td>-254.779</td>\n",
       "      <td>-258.498</td>\n",
       "      <td>...</td>\n",
       "      <td>21.6845</td>\n",
       "      <td>22.4279</td>\n",
       "      <td>21.6987</td>\n",
       "      <td>-0.481375</td>\n",
       "      <td>-5.69828</td>\n",
       "      <td>-1.02575</td>\n",
       "      <td>-1.86343</td>\n",
       "      <td>2.16876</td>\n",
       "      <td>-1.24089</td>\n",
       "      <td>-7.62565</td>\n",
       "    </tr>\n",
       "    <tr>\n",
       "      <th>4</th>\n",
       "      <td>1</td>\n",
       "      <td>../Project/data/train/audio/bed/2be08ce4_nohas...</td>\n",
       "      <td>2be08ce4</td>\n",
       "      <td>bed</td>\n",
       "      <td>-471.951</td>\n",
       "      <td>-397.382</td>\n",
       "      <td>-295.359</td>\n",
       "      <td>-241.427</td>\n",
       "      <td>-219.029</td>\n",
       "      <td>-215.649</td>\n",
       "      <td>...</td>\n",
       "      <td>35.6558</td>\n",
       "      <td>33.4182</td>\n",
       "      <td>35.1405</td>\n",
       "      <td>36.9393</td>\n",
       "      <td>35.4168</td>\n",
       "      <td>30.4814</td>\n",
       "      <td>26.2262</td>\n",
       "      <td>22.3652</td>\n",
       "      <td>20.4492</td>\n",
       "      <td>21.4971</td>\n",
       "    </tr>\n",
       "  </tbody>\n",
       "</table>\n",
       "<p>5 rows × 204 columns</p>\n",
       "</div>"
      ],
      "text/plain": [
       "       info                                                                    \\\n",
       "  iteration                                               path   speaker word   \n",
       "                                                                                \n",
       "0         1  ../Project/data/train/audio/bed/26e9ae6b_nohas...  26e9ae6b  bed   \n",
       "1         0  ../Project/data/train/audio/bed/c1eebc0b_nohas...  c1eebc0b  bed   \n",
       "2         0  ../Project/data/train/audio/bed/888a0c49_nohas...  888a0c49  bed   \n",
       "3         0  ../Project/data/train/audio/bed/413997c1_nohas...  413997c1  bed   \n",
       "4         1  ../Project/data/train/audio/bed/2be08ce4_nohas...  2be08ce4  bed   \n",
       "\n",
       "      mfcc                                                ...              \\\n",
       "  raw_mfcc                                                ...               \n",
       "         0        1        2        3        4        5   ...         190   \n",
       "0 -792.254   -787.7 -791.539 -789.665 -654.321 -601.683   ...     8.70598   \n",
       "1 -489.317 -281.411 -153.447 -96.2069 -85.2913 -99.3898   ...     21.8332   \n",
       "2 -551.097 -514.938 -492.838 -486.028 -497.269 -272.339   ...     9.25921   \n",
       "3 -561.107 -313.113  -226.13 -243.191 -254.779 -258.498   ...     21.6845   \n",
       "4 -471.951 -397.382 -295.359 -241.427 -219.029 -215.649   ...     35.6558   \n",
       "\n",
       "                                                                              \\\n",
       "                                                                               \n",
       "       191       192       193      194      195      196       197      198   \n",
       "0  2.59404  0.659452   5.04189  2.56198  13.0749  8.08766   14.1877  24.2039   \n",
       "1  19.6169   17.4731   15.8701   14.147  11.3736  8.31899 -0.998932 -6.97295   \n",
       "2   12.553   9.90252   15.5926  10.9931  10.1983  11.9801   15.2197  7.28049   \n",
       "3  22.4279   21.6987 -0.481375 -5.69828 -1.02575 -1.86343   2.16876 -1.24089   \n",
       "4  33.4182   35.1405   36.9393  35.4168  30.4814  26.2262   22.3652  20.4492   \n",
       "\n",
       "            \n",
       "            \n",
       "       199  \n",
       "0  18.5999  \n",
       "1 -4.75059  \n",
       "2 -5.99168  \n",
       "3 -7.62565  \n",
       "4  21.4971  \n",
       "\n",
       "[5 rows x 204 columns]"
      ]
     },
     "execution_count": 2,
     "metadata": {},
     "output_type": "execute_result"
    }
   ],
   "source": [
    "# Load features\n",
    "features_og = pd.read_pickle('./Features Data/cut_mfccs_raw_10_1028_20.pickle')\n",
    "features_og.head()"
   ]
  },
  {
   "cell_type": "markdown",
   "metadata": {},
   "source": [
    "### Split data in batches :"
   ]
  },
  {
   "cell_type": "code",
   "execution_count": 31,
   "metadata": {},
   "outputs": [
    {
     "data": {
      "text/plain": [
       "<matplotlib.axes._subplots.AxesSubplot at 0x262f819a6d8>"
      ]
     },
     "execution_count": 31,
     "metadata": {},
     "output_type": "execute_result"
    },
    {
     "data": {
      "image/png": "[encoded data removed]",
      "text/plain": [
       "<matplotlib.figure.Figure at 0x262f85f5518>"
      ]
     },
     "metadata": {},
     "output_type": "display_data"
    }
   ],
   "source": [
    "# Build Label vector\n",
    "# Define class name vector, the index will correspond to the class label\n",
    "class_names = features_og['info']['word'].unique()\n",
    "label_vec = np.ones(len(features_og))\n",
    "for i in range(0,len(class_names)):\n",
    "    label_vec +=(features_og['info','word'] == class_names[i]) * i\n",
    "    \n",
    "label_vec.plot()"
   ]
  },
  {
   "cell_type": "code",
   "execution_count": 32,
   "metadata": {},
   "outputs": [],
   "source": [
    "n_classes = len(class_names)\n",
    "n_samples = len(features_og)\n",
    "\n",
    "k_fold = 5\n",
    "\n",
    "batch_size = int(n_samples / k_fold)\n",
    "class_size = int(batch_size / n_classes)\n",
    "                 \n",
    "batch_idx = np.zeros((k_fold, batch_size))"
   ]
  },
  {
   "cell_type": "code",
   "execution_count": 33,
   "metadata": {},
   "outputs": [],
   "source": [
    "for i in range(n_classes):\n",
    "    class_index = np.where(label_vec == (i+1))[0]\n",
    "    random_index = np.reshape(np.random.choice(range(len(class_index)), size=class_size*k_fold, replace=False), \n",
    "                              (k_fold, class_size))\n",
    "    \n",
    "    batch_idx[:,class_size * i: class_size*(i+1)] = class_index[random_index]\n",
    "    "
   ]
  },
  {
   "cell_type": "code",
   "execution_count": 34,
   "metadata": {},
   "outputs": [
    {
     "data": {
      "text/plain": [
       "[<matplotlib.lines.Line2D at 0x262f8d34128>]"
      ]
     },
     "execution_count": 34,
     "metadata": {},
     "output_type": "execute_result"
    },
    {
     "data": {
      "image/png": "[encoded data removed]",
      "text/plain": [
       "<matplotlib.figure.Figure at 0x262f8c096d8>"
      ]
     },
     "metadata": {},
     "output_type": "display_data"
    }
   ],
   "source": [
    "plt.plot(batch_idx[0,:])"
   ]
  },
  {
   "cell_type": "markdown",
   "metadata": {},
   "source": [
    "### Spectral clustering :"
   ]
  },
  {
   "cell_type": "code",
   "execution_count": 125,
   "metadata": {},
   "outputs": [
    {
     "name": "stderr",
     "output_type": "stream",
     "text": [
      "100%|████████████████████████████████████████████| 5/5 [00:01<00:00,  2.63it/s]\n"
     ]
    }
   ],
   "source": [
    "accuracy = []\n",
    "\n",
    "for k in tqdm(range(k_fold)):\n",
    "    features = pd.DataFrame(features_og['mfcc'].iloc[batch_idx[k][:].astype(int)])\n",
    "    features -= features.mean(axis=0)\n",
    "    features /= features.std(axis=0)\n",
    "    \n",
    "    # keep mapping from batch id to main id\n",
    "    id_mapping = dict(zip(features.index, range(len(features))))\n",
    "    \n",
    "    distances = spatial.distance.squareform(spatial.distance.pdist(features,'cosine'))\n",
    "    \n",
    "    n=distances.shape[0]\n",
    "    kernel_width = distances.mean()\n",
    "    weights = np.exp(np.divide(-np.square(distances),kernel_width**2))\n",
    "    np.fill_diagonal(weights,0)\n",
    "    \n",
    "    NEIGHBORS = 600\n",
    "\n",
    "    for i in range(weights.shape[0]):\n",
    "        idx = weights[i,:].argsort()[:-NEIGHBORS]\n",
    "        weights[i,idx] = 0\n",
    "        weights[idx,i] = 0\n",
    "        \n",
    "    degrees = np.sum(weights,axis=0)\n",
    "    laplacian = np.diag(degrees**-0.5) @ (np.diag(degrees) - weights) @ np.diag(degrees**-0.5)\n",
    "    laplacian = sparse.csr_matrix(laplacian)\n",
    "\n",
    "    eigenvalues, eigenvectors = sparse.linalg.eigsh(A=laplacian,k=25,which='SM')\n",
    "        \n",
    "    # get training and testing features\n",
    "    ml_index = np.reshape(batch_idx[k,:], (-1, class_size))\n",
    "    train_index = np.reshape(ml_index[:,:int(0.8*class_size)].astype(int), (1,-1))\n",
    "    test_index = np.reshape(ml_index[:,int(0.8*class_size):].astype(int), (1,-1))\n",
    "\n",
    "    train_index = [id_mapping[i] for i in train_index[0]]\n",
    "    test_index = [id_mapping[i] for i in test_index[0]]\n",
    "\n",
    "    # get features\n",
    "    train_features = eigenvectors[train_index,:]\n",
    "    test_features = eigenvectors[test_index,:]\n",
    "    train_y = label_vec[train_index]\n",
    "    test_y = label_vec[test_index]\n",
    "    \n",
    "    # ML\n",
    "    clf  = GaussianNB()\n",
    "    clf.fit(train_features, train_y)\n",
    "    predict_y = clf.predict(test_features)\n",
    "    accuracy.append(np.sum(test_y==predict_y)/len(test_y))\n",
    "    "
   ]
  },
  {
   "cell_type": "code",
   "execution_count": 126,
   "metadata": {},
   "outputs": [
    {
     "data": {
      "text/plain": [
       "[0.5,\n",
       " 0.54166666666666663,\n",
       " 0.53333333333333333,\n",
       " 0.55833333333333335,\n",
       " 0.5083333333333333]"
      ]
     },
     "execution_count": 126,
     "metadata": {},
     "output_type": "execute_result"
    }
   ],
   "source": [
    "accuracy"
   ]
  }
 ],
 "metadata": {
  "kernelspec": {
   "display_name": "Python 3",
   "language": "python",
   "name": "python3"
  },
  "language_info": {
   "codemirror_mode": {
    "name": "ipython",
    "version": 3
   },
   "file_extension": ".py",
   "mimetype": "text/x-python",
   "name": "python",
   "nbconvert_exporter": "python",
   "pygments_lexer": "ipython3",
   "version": "3.6.3"
  }
 },
 "nbformat": 4,
 "nbformat_minor": 2
}
