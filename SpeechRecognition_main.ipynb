{
 "cells": [
  {
   "cell_type": "markdown",
   "metadata": {},
   "source": [
    "# Speech Recognition using Graphs"
   ]
  },
  {
   "cell_type": "markdown",
   "metadata": {},
   "source": [
    "Team members: Adrian Löwenstein, Kiran Bacsa, Manuel Vonlanthen<br>\n",
    "Date:         22.01.2018"
   ]
  },
  {
   "cell_type": "markdown",
   "metadata": {},
   "source": [
    "## Problem Description"
   ]
  },
  {
   "cell_type": "markdown",
   "metadata": {},
   "source": [
    "In this section we will describe in detail the problem we studied during the final project of the course \"Network Tour of Data Science\". We wanted to do speech recognition using the Graph/Network theory learned during the course. We were inspired by the kaggle competition \"Tensor Flow Speech Recognition Challenge: Can you build an algorithm that understands simple speech commands\" put up by google. In said competition the goal was to classify 20 distinct words. Words that do not belong to any of the 20 classes should be classified as \"unknown\". For the kaggle competition the TensorFlow library had to be used. For this purpose Google provided a large training data set (64'720 audio files) with known labels and an even larger test (150'000+ audio files) with unknown labels for them to evaluate the built algorithms. We, however, decided to only work with the provided training data, because the data set is large enough to perform statistically valid model evaluation and it this we we weren't dependant on the kaggle competition.<br>\n",
    "<br>\n",
    "The provided data set consists of 64'720 .wave files of length 1s, sampled with a sampling rate of $16$ kHz. Each audio files contain one of 30 possible spoken words. The files were created using crowd-sourcing, which means that the conditioning of the audio signal is not equal for all audio files. This led to very different noise levels, amplitudes, etc. Also the same speaker might have recorded different audio files. The 20 core words which have to be classified correctly are:\n",
    "\n",
    "    - up, down\n",
    "    - zero, one, two, three, four, five ,six ,seven, eight, nine\n",
    "    - go, stop \n",
    "    - left, rigth\n",
    "    - no, yes\n",
    "    - off, on\n",
    "In addition to these 20 words, 10 other words were provided inside the training set to train the algorithm to classify words which it should not react to as \"unknown\". The following \"unknown\" words are contained in the training data:\n",
    "\n",
    "    - bed\n",
    "    - bird, cat, dog, mouse\n",
    "    - tree\n",
    "    - happy\n",
    "    - marvin, sheila\n",
    "    - wow\n",
    "<br>\n",
    "At this point we want to empphasize that we did not study the problem suggested for the kaggle competition, but a slightly simplified one. First of all we did not restrict ourselves to using TensorFlow, in fact we did not use it at all. However, we did restrict ourselves to use Graph theory as central part of our classification algorithm. Our goal was, using only the provided training set, to build a classifier which calssifies the above listed core words as accurate as possible. In addition, all other words (the 10 additional words) should be classified as \"unknown\". This means we wanted to build a \"word\"-classifier for 21 different classes using graph theory.<br>\n",
    "<br>\n",
    "Mathematically, we can define the task as follows. We split up our training data set into a training set $S_t$ of some size N (we will later comment on its size) and a validation set $S_v$ of size $V = 64'720-N$, used to check how well the classifier works.\n",
    "Using $\\mathbf{x_n} \\in S_t$, which is some training audio file $\\mathbf{x_n} \\in \\mathbb{R}^D$, where $D = 1s\\cdot 16kHz = 16000$ is the number of samples per audio file, we can build our training data matrix $\\mathbf{X}^{\\mathbf{N\\times D}}$. Using $\\mathbf{X}$ we want to learn a function $f(\\mathbf{v_v}, \\mathbf{X}): \\mathbb{R}^{N+1\\times D} \\to \\{1,2,3,...,21\\}$, where $\\mathbf{v_v}\\in S_v$ is a validation audio file $\\mathbf{v_v}\\in\\mathbb{R}^D$, such that the resulting estimated label $\\hat{y_v} = f(\\mathbf{v_V}, \\mathbf{X})$ is equal to the correct label $y_v \\in \\{1,2,3,...,21\\}$ for as many validation samples as possible. Hence we use the accuracy measure defined as\n",
    "$$acc = \\frac{\\sum_{i=1}^{K}\\max[\\min[(|y_k-\\hat{y_k}|),1],0]}{K},$$\n",
    "where $K$ is the number of tested samples $v_k$. We want to remark that the model could also work with a subset $\\mathbb{v}\\subseteq S_v$, also called batch, instead of a single validation file $v_v$. In this case we define the cardinality of said subset $|\\mathbb{v}|=K$ and the model would correspond to $f(\\mathbb{v}, \\mathbf{X}): \\mathbb{R}^{(N+K)\\times D} \\to \\{1,2,3,...,21\\}^K$."
   ]
  },
  {
   "cell_type": "markdown",
   "metadata": {},
   "source": [
    "## Imports"
   ]
  },
  {
   "cell_type": "code",
   "execution_count": 11,
   "metadata": {
    "collapsed": true
   },
   "outputs": [],
   "source": [
    "import os\n",
    "from os.path import isdir, join\n",
    "from pathlib import Path\n",
    "import pandas as pd\n",
    "from tqdm import tqdm\n",
    "\n",
    "# Math\n",
    "import numpy as np\n",
    "import scipy.stats\n",
    "from scipy.fftpack import fft\n",
    "from scipy import signal\n",
    "from scipy.io import wavfile\n",
    "import librosa\n",
    "import librosa.display\n",
    "from scipy import sparse, stats, spatial\n",
    "import scipy.sparse.linalg\n",
    "\n",
    "# Machine learning\n",
    "from sklearn.neural_network import MLPClassifier\n",
    "from sklearn.svm import SVC\n",
    "from sklearn.utils import shuffle\n",
    "from sklearn.metrics import  confusion_matrix\n",
    "from sklearn.naive_bayes import GaussianNB\n",
    "from sklearn.model_selection import cross_val_score\n",
    "\n",
    "# Visualization\n",
    "import matplotlib.pyplot as plt\n",
    "import seaborn as sns\n",
    "import IPython.display as ipd\n",
    "import pandas as pd\n",
    "\n",
    "# Benchmarking\n",
    "import time\n",
    "\n",
    "# Cutting \n",
    "\n",
    "from cut_audio import *\n",
    "\n",
    "%matplotlib inline"
   ]
  },
  {
   "cell_type": "markdown",
   "metadata": {},
   "source": [
    "## Recompute"
   ]
  },
  {
   "cell_type": "markdown",
   "metadata": {},
   "source": [
    "**WARNING** If you set recompute to True this will reextract all featrues and re-classify all audio file, which will take several days, so do not do it. It is here for completeness so you can see how the steps were done during th project. We've already computed these steps and saved the results into pickle files. Our entire used data, as well as the pickle files can be found on \"Link\"."
   ]
  },
  {
   "cell_type": "code",
   "execution_count": 12,
   "metadata": {
    "collapsed": true
   },
   "outputs": [],
   "source": [
    "recompute = False"
   ]
  },
  {
   "cell_type": "markdown",
   "metadata": {},
   "source": [
    "## Feature Extraction (Adrian)"
   ]
  },
  {
   "cell_type": "markdown",
   "metadata": {},
   "source": [
    "Describe the data set....<br>\n",
    "Describe the entire pipeline from audio file to feature vector for one audio dile...<br>\n",
    "Shortly mentione other Features that were tried...<br>\n",
    "Set up python function in which the features of the entire training set could be extracted and put it into a if recompute is true... <br>\n",
    "Load the pickle with all features in them,..."
   ]
  },
  {
   "cell_type": "code",
   "execution_count": 13,
   "metadata": {},
   "outputs": [
    {
     "data": {
      "text/html": [
       "<div>\n",
       "<style>\n",
       "    .dataframe thead tr:only-child th {\n",
       "        text-align: right;\n",
       "    }\n",
       "\n",
       "    .dataframe thead th {\n",
       "        text-align: left;\n",
       "    }\n",
       "\n",
       "    .dataframe tbody tr th {\n",
       "        vertical-align: top;\n",
       "    }\n",
       "</style>\n",
       "<table border=\"1\" class=\"dataframe\">\n",
       "  <thead>\n",
       "    <tr>\n",
       "      <th></th>\n",
       "      <th colspan=\"4\" halign=\"left\">info</th>\n",
       "      <th colspan=\"17\" halign=\"left\">mfcc</th>\n",
       "    </tr>\n",
       "    <tr>\n",
       "      <th></th>\n",
       "      <th>iteration</th>\n",
       "      <th>path</th>\n",
       "      <th>speaker</th>\n",
       "      <th>word</th>\n",
       "      <th colspan=\"17\" halign=\"left\">raw_mfcc</th>\n",
       "    </tr>\n",
       "    <tr>\n",
       "      <th></th>\n",
       "      <th></th>\n",
       "      <th></th>\n",
       "      <th></th>\n",
       "      <th></th>\n",
       "      <th>0</th>\n",
       "      <th>1</th>\n",
       "      <th>2</th>\n",
       "      <th>3</th>\n",
       "      <th>4</th>\n",
       "      <th>5</th>\n",
       "      <th>...</th>\n",
       "      <th>190</th>\n",
       "      <th>191</th>\n",
       "      <th>192</th>\n",
       "      <th>193</th>\n",
       "      <th>194</th>\n",
       "      <th>195</th>\n",
       "      <th>196</th>\n",
       "      <th>197</th>\n",
       "      <th>198</th>\n",
       "      <th>199</th>\n",
       "    </tr>\n",
       "  </thead>\n",
       "  <tbody>\n",
       "    <tr>\n",
       "      <th>0</th>\n",
       "      <td>0</td>\n",
       "      <td>../Project/data/train/audio/bed/988e2f9a_nohas...</td>\n",
       "      <td>988e2f9a</td>\n",
       "      <td>bed</td>\n",
       "      <td>-532.804</td>\n",
       "      <td>-373.747</td>\n",
       "      <td>-281.723</td>\n",
       "      <td>-259.193</td>\n",
       "      <td>-260.494</td>\n",
       "      <td>-258.983</td>\n",
       "      <td>...</td>\n",
       "      <td>1.9078</td>\n",
       "      <td>-6.68038</td>\n",
       "      <td>-12.3779</td>\n",
       "      <td>-7.88019</td>\n",
       "      <td>-4.89838</td>\n",
       "      <td>5.09246</td>\n",
       "      <td>5.23662</td>\n",
       "      <td>5.81571</td>\n",
       "      <td>2.533</td>\n",
       "      <td>3.65357</td>\n",
       "    </tr>\n",
       "    <tr>\n",
       "      <th>1</th>\n",
       "      <td>2</td>\n",
       "      <td>../Project/data/train/audio/bed/6d818f6c_nohas...</td>\n",
       "      <td>6d818f6c</td>\n",
       "      <td>bed</td>\n",
       "      <td>-407.218</td>\n",
       "      <td>-255.981</td>\n",
       "      <td>-163.47</td>\n",
       "      <td>-131.31</td>\n",
       "      <td>-112.495</td>\n",
       "      <td>-118.76</td>\n",
       "      <td>...</td>\n",
       "      <td>-0.523793</td>\n",
       "      <td>-2.98547</td>\n",
       "      <td>-3.1049</td>\n",
       "      <td>-10.3242</td>\n",
       "      <td>-19.2463</td>\n",
       "      <td>-25.6867</td>\n",
       "      <td>-23.1932</td>\n",
       "      <td>-13.7993</td>\n",
       "      <td>-17.9949</td>\n",
       "      <td>-12.81</td>\n",
       "    </tr>\n",
       "    <tr>\n",
       "      <th>2</th>\n",
       "      <td>0</td>\n",
       "      <td>../Project/data/train/audio/bed/93ec8b84_nohas...</td>\n",
       "      <td>93ec8b84</td>\n",
       "      <td>bed</td>\n",
       "      <td>-466.171</td>\n",
       "      <td>-337.843</td>\n",
       "      <td>-244.057</td>\n",
       "      <td>-223.569</td>\n",
       "      <td>-248.308</td>\n",
       "      <td>-250.754</td>\n",
       "      <td>...</td>\n",
       "      <td>-19.4222</td>\n",
       "      <td>-8.93999</td>\n",
       "      <td>-2.63587</td>\n",
       "      <td>-2.76918</td>\n",
       "      <td>-9.29244</td>\n",
       "      <td>-14.9003</td>\n",
       "      <td>-17.6517</td>\n",
       "      <td>-15.8084</td>\n",
       "      <td>-25.7532</td>\n",
       "      <td>-30.9885</td>\n",
       "    </tr>\n",
       "    <tr>\n",
       "      <th>3</th>\n",
       "      <td>1</td>\n",
       "      <td>../Project/data/train/audio/bed/a9abc695_nohas...</td>\n",
       "      <td>a9abc695</td>\n",
       "      <td>bed</td>\n",
       "      <td>-556.172</td>\n",
       "      <td>-371.435</td>\n",
       "      <td>-267.924</td>\n",
       "      <td>-229.983</td>\n",
       "      <td>-221.044</td>\n",
       "      <td>-213.585</td>\n",
       "      <td>...</td>\n",
       "      <td>-13.8834</td>\n",
       "      <td>-18.6183</td>\n",
       "      <td>-15.9497</td>\n",
       "      <td>-13.2618</td>\n",
       "      <td>-9.06467</td>\n",
       "      <td>-12.7498</td>\n",
       "      <td>-12.3417</td>\n",
       "      <td>-14.7705</td>\n",
       "      <td>-19.5946</td>\n",
       "      <td>-22.2862</td>\n",
       "    </tr>\n",
       "    <tr>\n",
       "      <th>4</th>\n",
       "      <td>0</td>\n",
       "      <td>../Project/data/train/audio/bed/a8cb6dda_nohas...</td>\n",
       "      <td>a8cb6dda</td>\n",
       "      <td>bed</td>\n",
       "      <td>-483.963</td>\n",
       "      <td>-384.623</td>\n",
       "      <td>-221.676</td>\n",
       "      <td>-136.899</td>\n",
       "      <td>-108.406</td>\n",
       "      <td>-110.998</td>\n",
       "      <td>...</td>\n",
       "      <td>9.02163</td>\n",
       "      <td>2.85084</td>\n",
       "      <td>-1.81553</td>\n",
       "      <td>-2.05279</td>\n",
       "      <td>0.79797</td>\n",
       "      <td>-2.28227</td>\n",
       "      <td>-10.0107</td>\n",
       "      <td>-13.8224</td>\n",
       "      <td>-10.9754</td>\n",
       "      <td>-9.73626</td>\n",
       "    </tr>\n",
       "  </tbody>\n",
       "</table>\n",
       "<p>5 rows × 204 columns</p>\n",
       "</div>"
      ],
      "text/plain": [
       "       info                                                                    \\\n",
       "  iteration                                               path   speaker word   \n",
       "                                                                                \n",
       "0         0  ../Project/data/train/audio/bed/988e2f9a_nohas...  988e2f9a  bed   \n",
       "1         2  ../Project/data/train/audio/bed/6d818f6c_nohas...  6d818f6c  bed   \n",
       "2         0  ../Project/data/train/audio/bed/93ec8b84_nohas...  93ec8b84  bed   \n",
       "3         1  ../Project/data/train/audio/bed/a9abc695_nohas...  a9abc695  bed   \n",
       "4         0  ../Project/data/train/audio/bed/a8cb6dda_nohas...  a8cb6dda  bed   \n",
       "\n",
       "      mfcc                                                ...               \\\n",
       "  raw_mfcc                                                ...                \n",
       "         0        1        2        3        4        5   ...          190   \n",
       "0 -532.804 -373.747 -281.723 -259.193 -260.494 -258.983   ...       1.9078   \n",
       "1 -407.218 -255.981  -163.47  -131.31 -112.495  -118.76   ...    -0.523793   \n",
       "2 -466.171 -337.843 -244.057 -223.569 -248.308 -250.754   ...     -19.4222   \n",
       "3 -556.172 -371.435 -267.924 -229.983 -221.044 -213.585   ...     -13.8834   \n",
       "4 -483.963 -384.623 -221.676 -136.899 -108.406 -110.998   ...      9.02163   \n",
       "\n",
       "                                                                           \\\n",
       "                                                                            \n",
       "       191      192      193      194      195      196      197      198   \n",
       "0 -6.68038 -12.3779 -7.88019 -4.89838  5.09246  5.23662  5.81571    2.533   \n",
       "1 -2.98547  -3.1049 -10.3242 -19.2463 -25.6867 -23.1932 -13.7993 -17.9949   \n",
       "2 -8.93999 -2.63587 -2.76918 -9.29244 -14.9003 -17.6517 -15.8084 -25.7532   \n",
       "3 -18.6183 -15.9497 -13.2618 -9.06467 -12.7498 -12.3417 -14.7705 -19.5946   \n",
       "4  2.85084 -1.81553 -2.05279  0.79797 -2.28227 -10.0107 -13.8224 -10.9754   \n",
       "\n",
       "            \n",
       "            \n",
       "       199  \n",
       "0  3.65357  \n",
       "1   -12.81  \n",
       "2 -30.9885  \n",
       "3 -22.2862  \n",
       "4 -9.73626  \n",
       "\n",
       "[5 rows x 204 columns]"
      ]
     },
     "execution_count": 13,
     "metadata": {},
     "output_type": "execute_result"
    }
   ],
   "source": [
    "# Load features\n",
    "features_og = pd.read_pickle('./Features Data/cut_mfccs_all_raw_10_1028_20.pickle')\n",
    "features_og.head()"
   ]
  },
  {
   "cell_type": "markdown",
   "metadata": {},
   "source": [
    "## Semi-Supervised Classification (Manuel)"
   ]
  },
  {
   "cell_type": "markdown",
   "metadata": {},
   "source": [
    "Now that we have extracted some meaningful features from the raw data, we want to build a model that uses some training set $S_t$ of cardinality $|S_t|=N$, which can be used to classify the rest of the data (validation set). Our best classification was achived using multi-class semi-supervised classification on graphs, which we'll describe in this section.<br>\n",
    "<br>\n",
    "We found that using a training set of cardinality $|S_t| = N = 4800$ and a validation batch size of $|\\mathbb{v}|= K = 200$ to be both computationally reasonable and yielding good results. This means that we use the same $N$ datapoints (feature vectors of audio files), of which we know the labels, to classify all other audio files (validation set), of which we pretend not to know the labels. The classification of the validation set (size 64'720) is done batch-wise, i.e. $K$ files are classified simultaniously and we iterate trough the entire validation set. Which $N$ datapoints are chosen to form the training set is determined randomly with a restriction that every word (or class) is represented equally. Thus, for $N = 4800$ we choose $160$ audio samples of every one of the 30 clases/words at random.<br>\n",
    "<br>\n",
    "In this section we will classify one batch of size $K = 200$ and while doing that explain the method of semi-supervised classification using graphs in detail."
   ]
  },
  {
   "cell_type": "markdown",
   "metadata": {},
   "source": [
    "### Create training and validation set"
   ]
  },
  {
   "cell_type": "markdown",
   "metadata": {},
   "source": [
    "In a first step, we create the label vector $\\mathbf{y}\\in\\{1,2,3,...,21\\}^{64'720}$ for all datapoints. In addition we plot the labels and the distribution of the classes."
   ]
  },
  {
   "cell_type": "code",
   "execution_count": 92,
   "metadata": {},
   "outputs": [
    {
     "name": "stdout",
     "output_type": "stream",
     "text": [
      "We have 64720 datapoints over the entire dataset.\n"
     ]
    },
    {
     "data": {
      "text/plain": [
       "Text(0,0.5,'number of datapoints')"
      ]
     },
     "execution_count": 92,
     "metadata": {},
     "output_type": "execute_result"
    },
    {
     "data": {
      "image/png": "[encoded data removed]",
      "text/plain": [
       "<matplotlib.figure.Figure at 0x20459a25d30>"
      ]
     },
     "metadata": {},
     "output_type": "display_data"
    }
   ],
   "source": [
    "# Build Label vector\n",
    "# Define class name vector, the index will correspond to the class label\n",
    "class_names = features_og['info']['word'].unique()\n",
    "y = np.ones(len(features_og))\n",
    "for i in range(0,len(class_names)):\n",
    "    y +=(features_og['info','word'] == class_names[i]) * i\n",
    "    \n",
    "# Plot the label vector\n",
    "print('We have {} datapoints over the entire dataset.'.format(len(y)))\n",
    "fix, axes = plt.subplots(1, 2, figsize=(17, 5))\n",
    "axes[0].plot(y)\n",
    "axes[0].grid()\n",
    "axes[0].set_xlabel('datapoint n')\n",
    "axes[0].set_ylabel('label yn')\n",
    "\n",
    "\n",
    "# Plot distribution of classe\n",
    "axes[1].hist(y,30)\n",
    "axes[1].set_xlabel('class')\n",
    "axes[1].set_ylabel('number of datapoints')"
   ]
  },
  {
   "cell_type": "markdown",
   "metadata": {},
   "source": [
    "**Remark**: The classes are not perfectly balanced between classes since $64'720/30 = 2157.33$. However, the set is almost balanced between the 30 classes as we can see in the plot above, which is good enough for our application. In a next step, we split the dataset into a training set $S_t$ of size $N=4800$ and a validation set, as described above. We specify how many datapoints per class are sampled at random to build the training and the validation set respectively. We choose 160 samples for the training set ($30*160 = 4800$) and 1997 samples for the validation set ($1997*30 = 59910$). The remaining 10 words are being discarded."
   ]
  },
  {
   "cell_type": "code",
   "execution_count": 28,
   "metadata": {},
   "outputs": [
    {
     "data": {
      "text/plain": [
       "2157"
      ]
     },
     "execution_count": 28,
     "metadata": {},
     "output_type": "execute_result"
    }
   ],
   "source": [
    "160+1997"
   ]
  },
  {
   "cell_type": "code",
   "execution_count": 51,
   "metadata": {},
   "outputs": [
    {
     "name": "stdout",
     "output_type": "stream",
     "text": [
      "0\n",
      "1713\n",
      "1730\n",
      "1733\n",
      "1746\n",
      "2359\n",
      "2352\n",
      "2357\n",
      "2372\n",
      "2372\n",
      "1742\n",
      "1750\n",
      "2353\n",
      "1746\n",
      "2364\n",
      "2375\n",
      "2357\n",
      "2367\n",
      "2370\n",
      "2367\n",
      "2377\n",
      "1734\n",
      "2369\n",
      "2380\n",
      "2356\n",
      "1733\n",
      "2373\n",
      "2375\n",
      "1745\n",
      "2377\n",
      "2376\n"
     ]
    }
   ],
   "source": [
    "for i in range(31):\n",
    "    print(np.sum(y==i))"
   ]
  },
  {
   "cell_type": "code",
   "execution_count": 25,
   "metadata": {},
   "outputs": [
    {
     "ename": "ValueError",
     "evalue": "Cannot take a larger sample than population when 'replace=False'",
     "output_type": "error",
     "traceback": [
      "\u001b[1;31m---------------------------------------------------------------------------\u001b[0m",
      "\u001b[1;31mValueError\u001b[0m                                Traceback (most recent call last)",
      "\u001b[1;32m<ipython-input-25-3062b06fac50>\u001b[0m in \u001b[0;36m<module>\u001b[1;34m()\u001b[0m\n\u001b[0;32m     11\u001b[0m \u001b[1;32mfor\u001b[0m \u001b[0mi\u001b[0m \u001b[1;32min\u001b[0m \u001b[0mrange\u001b[0m\u001b[1;33m(\u001b[0m\u001b[0mlen\u001b[0m\u001b[1;33m(\u001b[0m\u001b[0mclass_names\u001b[0m\u001b[1;33m)\u001b[0m\u001b[1;33m)\u001b[0m\u001b[1;33m:\u001b[0m\u001b[1;33m\u001b[0m\u001b[0m\n\u001b[0;32m     12\u001b[0m     \u001b[0mclass_index\u001b[0m \u001b[1;33m=\u001b[0m \u001b[0mnp\u001b[0m\u001b[1;33m.\u001b[0m\u001b[0mwhere\u001b[0m\u001b[1;33m(\u001b[0m\u001b[0mlabel_vec\u001b[0m \u001b[1;33m==\u001b[0m \u001b[1;33m(\u001b[0m\u001b[0mi\u001b[0m\u001b[1;33m+\u001b[0m\u001b[1;36m1\u001b[0m\u001b[1;33m)\u001b[0m\u001b[1;33m)\u001b[0m\u001b[1;33m[\u001b[0m\u001b[1;36m0\u001b[0m\u001b[1;33m]\u001b[0m\u001b[1;33m\u001b[0m\u001b[0m\n\u001b[1;32m---> 13\u001b[1;33m     \u001b[0mrandom_index\u001b[0m \u001b[1;33m=\u001b[0m \u001b[0mnp\u001b[0m\u001b[1;33m.\u001b[0m\u001b[0mrandom\u001b[0m\u001b[1;33m.\u001b[0m\u001b[0mchoice\u001b[0m\u001b[1;33m(\u001b[0m\u001b[0mrange\u001b[0m\u001b[1;33m(\u001b[0m\u001b[0mlen\u001b[0m\u001b[1;33m(\u001b[0m\u001b[0mclass_index\u001b[0m\u001b[1;33m)\u001b[0m\u001b[1;33m)\u001b[0m\u001b[1;33m,\u001b[0m \u001b[0msize\u001b[0m\u001b[1;33m=\u001b[0m\u001b[0mtrain_size\u001b[0m\u001b[1;33m+\u001b[0m\u001b[0mvalid_size\u001b[0m\u001b[1;33m,\u001b[0m \u001b[0mreplace\u001b[0m\u001b[1;33m=\u001b[0m\u001b[1;32mFalse\u001b[0m\u001b[1;33m)\u001b[0m\u001b[1;33m\u001b[0m\u001b[0m\n\u001b[0m\u001b[0;32m     14\u001b[0m \u001b[1;33m\u001b[0m\u001b[0m\n\u001b[0;32m     15\u001b[0m     \u001b[0mtrain_x_class\u001b[0m \u001b[1;33m=\u001b[0m \u001b[0mclass_index\u001b[0m\u001b[1;33m[\u001b[0m\u001b[0mrandom_index\u001b[0m\u001b[1;33m[\u001b[0m\u001b[1;33m:\u001b[0m\u001b[0mtrain_size\u001b[0m\u001b[1;33m]\u001b[0m\u001b[1;33m]\u001b[0m\u001b[1;33m\u001b[0m\u001b[0m\n",
      "\u001b[1;32mmtrand.pyx\u001b[0m in \u001b[0;36mmtrand.RandomState.choice\u001b[1;34m()\u001b[0m\n",
      "\u001b[1;31mValueError\u001b[0m: Cannot take a larger sample than population when 'replace=False'"
     ]
    }
   ],
   "source": [
    "# Specify the number of datapoints that should be sampled in each class to build training and validation set\n",
    "train_size = 160\n",
    "valid_size = 1997\n",
    "\n",
    "train_x = np.array([])\n",
    "train_y = np.array([])\n",
    "\n",
    "valid_x = np.array([])\n",
    "valid_y = np.array([])\n",
    "\n",
    "for i in range(len(class_names)):\n",
    "    class_index = np.where(label_vec == (i+1))[0]\n",
    "    random_index = np.random.choice(range(len(class_index)), size=train_size+valid_size, replace=False)\n",
    "    \n",
    "    train_x_class = class_index[random_index[:train_size]]\n",
    "    train_y_class = y[train_x_class]\n",
    "    train_x = np.append(train_x, train_x_class).astype(int)\n",
    "    train_y = np.append(train_y, train_y_class).astype(int)\n",
    "\n",
    "    valid_x_class = class_index[random_index[train_size:train_size+valid_size]]\n",
    "    valid_y_class = y[valid_x_class]\n",
    "    valid_x = np.append(valid_x, valid_x_class).astype(int)\n",
    "    valid_y = np.append(valid_y, valid_y_class).astype(int)"
   ]
  },
  {
   "cell_type": "markdown",
   "metadata": {},
   "source": [
    "## Method Validation (Kiran)"
   ]
  },
  {
   "cell_type": "markdown",
   "metadata": {},
   "source": [
    "Describe that we tweaked parameters and which were found to be the optimal ones, comment on it...<br>\n",
    "Show the resulting accuracy that resulted when going trough the entire training set. For this, simply load a pickle or numpy array, with the results in it and comment on it<br>\n",
    "Add a .py funtion with which we could theoretically call to recompute the accuracy of the entire training set (in a \"if recompute is true\" conditioning). Add the function into main_pipeline.py. <br>\n",
    "(Optional) Also add clustering approach to compare, otherwise we will just mention it..."
   ]
  },
  {
   "cell_type": "code",
   "execution_count": 4,
   "metadata": {},
   "outputs": [
    {
     "data": {
      "text/plain": [
       "160.0"
      ]
     },
     "execution_count": 4,
     "metadata": {},
     "output_type": "execute_result"
    }
   ],
   "source": [
    "4800/30"
   ]
  },
  {
   "cell_type": "code",
   "execution_count": null,
   "metadata": {
    "collapsed": true
   },
   "outputs": [],
   "source": []
  }
 ],
 "metadata": {
  "kernelspec": {
   "display_name": "Python 3",
   "language": "python",
   "name": "python3"
  },
  "language_info": {
   "codemirror_mode": {
    "name": "ipython",
    "version": 3
   },
   "file_extension": ".py",
   "mimetype": "text/x-python",
   "name": "python",
   "nbconvert_exporter": "python",
   "pygments_lexer": "ipython3",
   "version": "3.6.3"
  }
 },
 "nbformat": 4,
 "nbformat_minor": 2
}
