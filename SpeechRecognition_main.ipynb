{
 "cells": [
  {
   "cell_type": "markdown",
   "metadata": {},
   "source": [
    "# Speech Recognition using Graphs"
   ]
  },
  {
   "cell_type": "markdown",
   "metadata": {},
   "source": [
    "Team members: Adrian Löwenstein, Kiran Bacsa, Manuel Vonlanthen<br>\n",
    "Date:         22.01.2018"
   ]
  },
  {
   "cell_type": "markdown",
   "metadata": {},
   "source": [
    "## Problem Description"
   ]
  },
  {
   "cell_type": "markdown",
   "metadata": {},
   "source": [
    "Exactly describe what we wanted to do, i.e. classify 20 out of 30 words, the other 10 as unknown...<br>\n",
    "List the words...<br>\n",
    "Discuss where the data is from...<br>\n",
    "Mention the difference between the original kaggle competition to what whe did, e.g. ignore silence, not using thensor flow, only work with training data, to not be dependent on the kaggle competition...<br>"
   ]
  },
  {
   "cell_type": "markdown",
   "metadata": {},
   "source": [
    "## Imports"
   ]
  },
  {
   "cell_type": "code",
   "execution_count": null,
   "metadata": {
    "collapsed": true
   },
   "outputs": [],
   "source": []
  },
  {
   "cell_type": "markdown",
   "metadata": {},
   "source": [
    "## Recompute"
   ]
  },
  {
   "cell_type": "markdown",
   "metadata": {},
   "source": [
    "**WARNING** If you set recompute to True this will reextract all featrues and re-classify all audio file, which will take several days, so do not do it. It is here for completeness so you can see how the steps were done during th project. We've already computed these steps and saved the results into pickle files. Our entire used data, as well as the pickle files can be found on \"Link\"."
   ]
  },
  {
   "cell_type": "code",
   "execution_count": 3,
   "metadata": {
    "collapsed": true
   },
   "outputs": [],
   "source": [
    "recompute = False"
   ]
  },
  {
   "cell_type": "markdown",
   "metadata": {},
   "source": [
    "## Feature Extraction (Adrian)"
   ]
  },
  {
   "cell_type": "markdown",
   "metadata": {},
   "source": [
    "Describe the data set....<br>\n",
    "Describe the entire pipeline from audio file to feature vector for one audio dile...<br>\n",
    "Shortly mentione other Features that were tried...<br>\n",
    "Set up python function in which the features of the entire training set could be extracted and put it into a if recompute is true... <br>\n",
    "Load the pickle with all features in them,..."
   ]
  },
  {
   "cell_type": "markdown",
   "metadata": {},
   "source": [
    "## Semi-Supervised Classification (Manuel)"
   ]
  },
  {
   "cell_type": "markdown",
   "metadata": {},
   "source": [
    "I this section we describe the entire semi-supervised classification we used in detail. It is basically a step by step description\n",
    "of the semisup pipeline using only one test batch of 200 in a Graph of 5000 nodes. <br>"
   ]
  },
  {
   "cell_type": "markdown",
   "metadata": {},
   "source": [
    "## Method Validation (Kiran)"
   ]
  },
  {
   "cell_type": "markdown",
   "metadata": {},
   "source": [
    "Describe that we tweaked parameters and which were found to be the optimal ones, comment on it...<br>\n",
    "Show the resulting accuracy that resulted when going trough the entire training set. For this, simply load a pickle or numpy array, with the results in it and comment on it<br>\n",
    "Add a .py funtion with which we could theoretically call to recompute the accuracy of the entire training set (in a \"if recompute is true\" conditioning). Add the function into main_pipeline.py. <br>\n",
    "(Optional) Also add clustering approach to compare, otherwise we will just mention it..."
   ]
  },
  {
   "cell_type": "code",
   "execution_count": null,
   "metadata": {
    "collapsed": true
   },
   "outputs": [],
   "source": []
  }
 ],
 "metadata": {
  "kernelspec": {
   "display_name": "Python 3",
   "language": "python",
   "name": "python3"
  },
  "language_info": {
   "codemirror_mode": {
    "name": "ipython",
    "version": 3
   },
   "file_extension": ".py",
   "mimetype": "text/x-python",
   "name": "python",
   "nbconvert_exporter": "python",
   "pygments_lexer": "ipython3",
   "version": "3.6.3"
  }
 },
 "nbformat": 4,
 "nbformat_minor": 2
}
