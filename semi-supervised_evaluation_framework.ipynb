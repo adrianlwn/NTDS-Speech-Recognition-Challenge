{
 "cells": [
  {
   "cell_type": "markdown",
   "metadata": {},
   "source": [
    "# Semi-Supervised Learning on Graphs"
   ]
  },
  {
   "cell_type": "markdown",
   "metadata": {},
   "source": [
    "This framework is used to evaluate the method, which is described in detail in \"semi-supervided_framework.ipynb\".\n",
    "It allows to easily the resulting testing accuries using different model parameters."
   ]
  },
  {
   "cell_type": "markdown",
   "metadata": {},
   "source": [
    "## 1. Import Libraries"
   ]
  },
  {
   "cell_type": "code",
   "execution_count": 1,
   "metadata": {},
   "outputs": [
    {
     "data": {
      "text/html": [
       "<script>requirejs.config({paths: { 'plotly': ['https://cdn.plot.ly/plotly-latest.min']},});if(!window.Plotly) {{require(['plotly'],function(plotly) {window.Plotly=plotly;});}}</script>"
      ],
      "text/vnd.plotly.v1+html": [
       "<script>requirejs.config({paths: { 'plotly': ['https://cdn.plot.ly/plotly-latest.min']},});if(!window.Plotly) {{require(['plotly'],function(plotly) {window.Plotly=plotly;});}}</script>"
      ]
     },
     "metadata": {},
     "output_type": "display_data"
    },
    {
     "name": "stderr",
     "output_type": "stream",
     "text": [
      "2018-01-10 22:37:29,411:[WARNING](pygsp.graphs.nngraphs.nngraph.<module>): Cannot import pyflann (used for faster kNN computations): Traceback (most recent call last):\n",
      "  File \"C:\\Users\\Manuel\\Anaconda3\\lib\\site-packages\\pygsp\\graphs\\nngraphs\\nngraph.py\", line 14, in <module>\n",
      "    import pyflann as pfl\n",
      "  File \"C:\\Users\\Manuel\\Anaconda3\\lib\\site-packages\\pyflann\\__init__.py\", line 27, in <module>\n",
      "    from pyflann.index import *\n",
      "  File \"C:\\Users\\Manuel\\Anaconda3\\lib\\site-packages\\pyflann\\index.py\", line 27, in <module>\n",
      "    from pyflann.bindings.flann_ctypes import *\n",
      "  File \"C:\\Users\\Manuel\\Anaconda3\\lib\\site-packages\\pyflann\\bindings\\__init__.py\", line 30, in <module>\n",
      "    from pyflann.bindings.flann_ctypes import *\n",
      "  File \"C:\\Users\\Manuel\\Anaconda3\\lib\\site-packages\\pyflann\\bindings\\flann_ctypes.py\", line 171, in <module>\n",
      "    raise ImportError('Cannot load dynamic library. Did you compile FLANN?')\n",
      "ImportError: Cannot load dynamic library. Did you compile FLANN?\n",
      "\n"
     ]
    }
   ],
   "source": [
    "import os\n",
    "from os.path import isdir, join\n",
    "from pathlib import Path\n",
    "import pandas as pd\n",
    "from tqdm import tqdm\n",
    "# Math\n",
    "import numpy as np\n",
    "import scipy.stats\n",
    "from scipy.fftpack import fft\n",
    "from scipy import signal\n",
    "from scipy.io import wavfile\n",
    "import librosa\n",
    "import librosa.display\n",
    "from scipy import sparse, stats, spatial\n",
    "import scipy.sparse.linalg\n",
    "\n",
    "from sklearn.decomposition import PCA\n",
    "\n",
    "# Visualization\n",
    "import matplotlib.pyplot as plt\n",
    "import seaborn as sns\n",
    "import IPython.display as ipd\n",
    "\n",
    "import plotly.offline as py\n",
    "py.init_notebook_mode(connected=True)\n",
    "import plotly.graph_objs as go\n",
    "import plotly.tools as tls\n",
    "import pandas as pd\n",
    "import pygsp\n",
    "\n",
    "%matplotlib inline\n",
    "\n",
    "plt.rcParams['figure.figsize'] = (17, 5)\n",
    "pygsp.plotting.BACKEND = 'matplotlib'"
   ]
  },
  {
   "cell_type": "markdown",
   "metadata": {},
   "source": [
    "## 2. Choose parameters to use"
   ]
  },
  {
   "cell_type": "code",
   "execution_count": 2,
   "metadata": {},
   "outputs": [],
   "source": [
    "# Choose the pickle file containing the features and data\n",
    "feature_file = './Features Data/cut_mfccs_raw_10_1028_5.pickle'\n",
    "\n",
    "# How many neighbours?\n",
    "NEIGHBORS = 400\n",
    "\n",
    "# Define which percentage of known labels should be tested\n",
    "perc_vec = np.array([0.1,0.2,0.3,0.4,0.5,0.6,0.7,0.8,0.9,0.95])\n",
    "\n",
    "# Define how many tries (random mask!) \n",
    "N_avg  = 40"
   ]
  },
  {
   "cell_type": "markdown",
   "metadata": {},
   "source": [
    "## 3. Evaluate"
   ]
  },
  {
   "cell_type": "markdown",
   "metadata": {},
   "source": [
    "Load the feature matrix fom a .pickle file. To create a pickle file from the raw audio data we can use the test_featur python notebook. To Check the content we display the head of the panda data frame."
   ]
  },
  {
   "cell_type": "code",
   "execution_count": 3,
   "metadata": {},
   "outputs": [
    {
     "name": "stdout",
     "output_type": "stream",
     "text": [
      "-------------------------------------------------------------\n",
      "Start evluating p = 10.0 %\n"
     ]
    },
    {
     "name": "stderr",
     "output_type": "stream",
     "text": [
      "100%|██████████| 40/40 [14:21<00:00, 21.53s/waves]\n"
     ]
    },
    {
     "name": "stdout",
     "output_type": "stream",
     "text": [
      "-------------------------------------------------------------\n",
      "Start evluating p = 20.0 %\n"
     ]
    },
    {
     "name": "stderr",
     "output_type": "stream",
     "text": [
      "100%|██████████| 40/40 [14:50<00:00, 22.27s/waves]\n"
     ]
    },
    {
     "name": "stdout",
     "output_type": "stream",
     "text": [
      "-------------------------------------------------------------\n",
      "Start evluating p = 30.0 %\n"
     ]
    },
    {
     "name": "stderr",
     "output_type": "stream",
     "text": [
      "100%|██████████| 40/40 [14:55<00:00, 22.38s/waves]\n"
     ]
    },
    {
     "name": "stdout",
     "output_type": "stream",
     "text": [
      "-------------------------------------------------------------\n",
      "Start evluating p = 40.0 %\n"
     ]
    },
    {
     "name": "stderr",
     "output_type": "stream",
     "text": [
      "100%|██████████| 40/40 [14:55<00:00, 22.38s/waves]\n"
     ]
    },
    {
     "name": "stdout",
     "output_type": "stream",
     "text": [
      "-------------------------------------------------------------\n",
      "Start evluating p = 50.0 %\n"
     ]
    },
    {
     "name": "stderr",
     "output_type": "stream",
     "text": [
      "100%|██████████| 40/40 [14:57<00:00, 22.43s/waves]\n"
     ]
    },
    {
     "name": "stdout",
     "output_type": "stream",
     "text": [
      "-------------------------------------------------------------\n",
      "Start evluating p = 60.0 %\n"
     ]
    },
    {
     "name": "stderr",
     "output_type": "stream",
     "text": [
      "100%|██████████| 40/40 [14:57<00:00, 22.43s/waves]\n"
     ]
    },
    {
     "name": "stdout",
     "output_type": "stream",
     "text": [
      "-------------------------------------------------------------\n",
      "Start evluating p = 70.0 %\n"
     ]
    },
    {
     "name": "stderr",
     "output_type": "stream",
     "text": [
      "100%|██████████| 40/40 [14:57<00:00, 22.43s/waves]\n"
     ]
    },
    {
     "name": "stdout",
     "output_type": "stream",
     "text": [
      "-------------------------------------------------------------\n",
      "Start evluating p = 80.0 %\n"
     ]
    },
    {
     "name": "stderr",
     "output_type": "stream",
     "text": [
      "100%|██████████| 40/40 [14:55<00:00, 22.38s/waves]\n"
     ]
    },
    {
     "name": "stdout",
     "output_type": "stream",
     "text": [
      "-------------------------------------------------------------\n",
      "Start evluating p = 90.0 %\n"
     ]
    },
    {
     "name": "stderr",
     "output_type": "stream",
     "text": [
      "100%|██████████| 40/40 [14:55<00:00, 22.39s/waves]\n"
     ]
    },
    {
     "name": "stdout",
     "output_type": "stream",
     "text": [
      "-------------------------------------------------------------\n",
      "Start evluating p = 95.0 %\n"
     ]
    },
    {
     "name": "stderr",
     "output_type": "stream",
     "text": [
      "100%|██████████| 40/40 [14:57<00:00, 22.45s/waves]\n"
     ]
    }
   ],
   "source": [
    "# Functions\n",
    "def prepare_observations(Y, perc):\n",
    "    \"\"\"Prepare observations, where p is the percentage of values to keep.\"\"\"\n",
    "    M = np.array(np.random.random_sample(np.shape(Y))>(1-perc),dtype = 'int64')\n",
    "    Y_compr = Y*M\n",
    "    return Y_compr, M\n",
    "\n",
    "def solve(Y_compr, M, L, alpha, beta):\n",
    "    X = np.ones(Y_compr.shape)\n",
    "    for i in range(Y_compr.shape[0]):\n",
    "        Mask = np.diag(M[i,:])\n",
    "        y_i_compr = Y_compr[i,:]\n",
    "        X[i,:] = np.linalg.solve((Mask+alpha*L+beta),y_i_compr)\n",
    "        \n",
    "    return X\n",
    "\n",
    "def adapt_labels(x_hat):\n",
    "    # Real accuracy considering only the main words :\n",
    "    class_names_list = [\"yes\", \"no\", \"up\", \"down\", \"left\", \"right\", \"on\", \"off\", \"stop\", \"go\", \"zero\", \"one\", \"two\", \"three\", \"four\", \"five\", \"six\", \"seven\", \"eight\", \"nine\"]\n",
    "    mask_names_main = [True if name in class_names_list else False for name in class_names]\n",
    "    index_names_main = [i for i in range(len(mask_names_main)) if mask_names_main[i] == True]\n",
    "    inverted_index_names = dict(zip(index_names_main,range(len(index_names_main))))\n",
    "\n",
    "    # Creating the label names :\n",
    "    class_names_main = class_names[mask_names_main].tolist()\n",
    "    class_names_main.extend([\"unknown\"])\n",
    "\n",
    "    # Adapting the labels in the test and prediction sets :\n",
    "    return np.array([inverted_index_names[int(x_hat[i])] if x_hat[i] in index_names_main else len(class_names_main)-1 for i in range(len(x_hat)) ])\n",
    "\n",
    "# Load features\n",
    "features_og = pd.read_pickle(feature_file)\n",
    "\n",
    "# Normalize Features\n",
    "features = features_og['mfcc']\n",
    "features -= features.mean(axis=0)\n",
    "features /= features.std(axis=0)\n",
    "\n",
    "distances = spatial.distance.squareform(spatial.distance.pdist(features,'cosine'))\n",
    "\n",
    "n=distances.shape[0]\n",
    "kernel_width = distances.mean()\n",
    "weights = np.exp(np.divide(-np.square(distances),kernel_width**2))\n",
    "np.fill_diagonal(weights,0)\n",
    "\n",
    "# Sparsify using k-nearest neighbours\n",
    "for i in range(weights.shape[0]):\n",
    "    idx = weights[i,:].argsort()[:-NEIGHBORS]\n",
    "    weights[i,idx] = 0\n",
    "    weights[idx,i] = 0\n",
    "    \n",
    "# Initialize Graph using the weights matrix\n",
    "G = pygsp.graphs.Graph(weights)\n",
    "\n",
    "# Compute the normalized Graph Laplacian corresponding to the above constructed graph\n",
    "G.compute_laplacian('normalized')\n",
    "\n",
    "# Build Label vector\n",
    "# Define class name vector, the index will correspond to the calss label\n",
    "class_names = features_og['info']['word'].unique()\n",
    "y = np.ones(len(features_og))\n",
    "for i in range(0,len(class_names)):\n",
    "    y +=(features_og['info','word'] == class_names[i]) * i\n",
    "    \n",
    "# From feature label to feature matrix\n",
    "Y = np.zeros((int(np.max(y)),len(y)))\n",
    "                 \n",
    "for i in range(np.shape(Y)[0]):\n",
    "    Y[i,:] = np.array(y == i+1, dtype = 'int64')\n",
    "    \n",
    "# Evaluate\n",
    "pred_vec = np.zeros((N_avg,len(perc_vec)))\n",
    "for i in range(len(perc_vec)):\n",
    "    print('-------------------------------------------------------------')\n",
    "    print('Start evluating p = {} %'.format(perc_vec[i]*100))\n",
    "    for j in tqdm(range(N_avg), total = N_avg, unit = 'waves'):\n",
    "         # Set Up\n",
    "        Y_compr, M = prepare_observations(Y, perc_vec[i])\n",
    "        y_compr  = np.zeros(y.shape)\n",
    "        for k in range(Y.shape[0]):\n",
    "            y_compr += Y_compr[k,:]*(k+1)\n",
    "        \n",
    "        # Solve\n",
    "        X = solve(Y_compr, M, G.L, alpha = 1e-3, beta = 1e-7)\n",
    "\n",
    "        # Make label vector\n",
    "        x_hat = np.argmax(X,axis = 0)+np.ones(X[0,:].shape)\n",
    "\n",
    "        # Unify labels 13-30\n",
    "        x_hat_adapted = adapt_labels(x_hat)\n",
    "        y_adapted = adapt_labels(y)\n",
    "\n",
    "        # Only consider unknowns\n",
    "        M_inv = np.array(np.sum(Y_compr,axis = 0)==0,dtype = 'int64')\n",
    "        pred_vec[j,i] = np.sum(x_hat_adapted[M_inv==1]==y_adapted[M_inv==1])/x_hat_adapted[M_inv==1].shape[0]"
   ]
  },
  {
   "cell_type": "markdown",
   "metadata": {},
   "source": [
    "## 4. Save results\n",
    "\n",
    "\n",
    "        "
   ]
  },
  {
   "cell_type": "code",
   "execution_count": 4,
   "metadata": {
    "collapsed": true
   },
   "outputs": [],
   "source": [
    "# Saves file in same folder\n",
    "np.save('semi-supervised_results/accuracy_cut_mfccs_raw_10_1028_5_Neigh400_Navg100', pred_vec)\n",
    "np.save('semi-supervised_results/percentage_cut_mfccs_raw_10_1028_5_Neigh400_Navg100', perc_vec)"
   ]
  },
  {
   "cell_type": "markdown",
   "metadata": {},
   "source": [
    "## 5. Load and display results"
   ]
  },
  {
   "cell_type": "code",
   "execution_count": 5,
   "metadata": {},
   "outputs": [],
   "source": [
    "# Load file in same folder\n",
    "pred_vec = np.load('semi-supervised_results/accuracy_cut_mfccs_raw_10_1028_5_Neigh400_Navg100.npy')\n",
    "perc_vec = np.load('semi-supervised_results/percentage_cut_mfccs_raw_10_1028_5_Neigh400_Navg100.npy')"
   ]
  },
  {
   "cell_type": "code",
   "execution_count": 6,
   "metadata": {},
   "outputs": [
    {
     "data": {
      "text/plain": [
       "Text(0,0.5,'Classification accuracy')"
      ]
     },
     "execution_count": 6,
     "metadata": {},
     "output_type": "execute_result"
    },
    {
     "data": {
      "image/png": "[encoded data removed]",
      "text/plain": [
       "<matplotlib.figure.Figure at 0x1c231acf160>"
      ]
     },
     "metadata": {},
     "output_type": "display_data"
    }
   ],
   "source": [
    "# Display as boxplot\n",
    "plt.boxplot(pred_vec, labels = perc_vec*100)\n",
    "plt.grid()\n",
    "plt.title('Classification accuracy, depending on percentage of already known labels in the graph.')\n",
    "plt.xlabel('Percentage of known labels in graph')\n",
    "plt.ylabel('Classification accuracy')\n"
   ]
  },
  {
   "cell_type": "code",
   "execution_count": null,
   "metadata": {
    "collapsed": true
   },
   "outputs": [],
   "source": []
  }
 ],
 "metadata": {
  "kernelspec": {
   "display_name": "Python 3",
   "language": "python",
   "name": "python3"
  },
  "language_info": {
   "codemirror_mode": {
    "name": "ipython",
    "version": 3
   },
   "file_extension": ".py",
   "mimetype": "text/x-python",
   "name": "python",
   "nbconvert_exporter": "python",
   "pygments_lexer": "ipython3",
   "version": "3.6.3"
  }
 },
 "nbformat": 4,
 "nbformat_minor": 2
}
