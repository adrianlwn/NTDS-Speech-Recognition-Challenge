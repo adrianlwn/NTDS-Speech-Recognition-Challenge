{
 "cells": [
  {
   "cell_type": "code",
   "execution_count": 2,
   "metadata": {
    "collapsed": true
   },
   "outputs": [],
   "source": [
    "import os\n",
    "from os.path import isdir, join\n",
    "from pathlib import Path\n",
    "import pandas as pd\n",
    "from tqdm import tqdm\n",
    "\n",
    "# Math\n",
    "import numpy as np\n",
    "import scipy.stats\n",
    "from scipy.fftpack import fft\n",
    "from scipy import signal\n",
    "from scipy.io import wavfile\n",
    "import librosa\n",
    "import librosa.display\n",
    "from scipy import sparse, stats, spatial\n",
    "import scipy.sparse.linalg\n",
    "\n",
    "# Machine learning\n",
    "from sklearn.neural_network import MLPClassifier\n",
    "from sklearn.svm import SVC\n",
    "from sklearn.utils import shuffle\n",
    "from sklearn.metrics import  confusion_matrix\n",
    "from sklearn.naive_bayes import GaussianNB\n",
    "\n",
    "# Visualization\n",
    "import matplotlib.pyplot as plt\n",
    "import seaborn as sns\n",
    "import IPython.display as ipd\n",
    "import pandas as pd\n",
    "\n",
    "# Cutting \n",
    "\n",
    "from cut_audio import *\n",
    "\n",
    "%matplotlib inline"
   ]
  },
  {
   "cell_type": "markdown",
   "metadata": {},
   "source": [
    "## Import Data"
   ]
  },
  {
   "cell_type": "code",
   "execution_count": 3,
   "metadata": {
    "collapsed": true
   },
   "outputs": [],
   "source": [
    "N = 100\n",
    "\n",
    "train_audio_path = '../../Project/data/train/audio'\n",
    "dirs = [f for f in os.listdir(train_audio_path) if isdir(join(train_audio_path, f))]\n",
    "dirs.sort()\n",
    "\n",
    "path = []\n",
    "word = []\n",
    "speaker = []\n",
    "iteration = []\n",
    "\n",
    "for direct in dirs:\n",
    "    if not direct.startswith('_'):\n",
    "        # Random selection of N files per folder \n",
    "        list_files = os.listdir(join(train_audio_path, direct))\n",
    "        wave_selected  = list(np.random.choice([ f for f in list_files if f.endswith('.wav')],N,replace=False))\n",
    "        \n",
    "        # Extraction of file informations for dataframe\n",
    "        word.extend(list(np.repeat(direct,N,axis=0)))\n",
    "        speaker.extend([wave_selected[f].split('.')[0].split('_')[0] for f in range(N) ])\n",
    "        iteration.extend([wave_selected[f].split('.')[0].split('_')[-1] for f in range(N) ])\n",
    "        path.extend([train_audio_path + '/' + direct + '/' + wave_selected[f] for f in range(N)])"
   ]
  },
  {
   "cell_type": "code",
   "execution_count": 4,
   "metadata": {},
   "outputs": [
    {
     "name": "stdout",
     "output_type": "stream",
     "text": [
      "Number of signals : 3000\n"
     ]
    },
    {
     "data": {
      "text/html": [
       "<div>\n",
       "<style>\n",
       "    .dataframe thead tr:only-child th {\n",
       "        text-align: right;\n",
       "    }\n",
       "\n",
       "    .dataframe thead th {\n",
       "        text-align: left;\n",
       "    }\n",
       "\n",
       "    .dataframe tbody tr th {\n",
       "        vertical-align: top;\n",
       "    }\n",
       "</style>\n",
       "<table border=\"1\" class=\"dataframe\">\n",
       "  <thead>\n",
       "    <tr>\n",
       "      <th></th>\n",
       "      <th colspan=\"4\" halign=\"left\">info</th>\n",
       "    </tr>\n",
       "    <tr>\n",
       "      <th></th>\n",
       "      <th>iteration</th>\n",
       "      <th>path</th>\n",
       "      <th>speaker</th>\n",
       "      <th>word</th>\n",
       "    </tr>\n",
       "    <tr>\n",
       "      <th></th>\n",
       "      <th></th>\n",
       "      <th></th>\n",
       "      <th></th>\n",
       "      <th></th>\n",
       "    </tr>\n",
       "  </thead>\n",
       "  <tbody>\n",
       "    <tr>\n",
       "      <th>0</th>\n",
       "      <td>0</td>\n",
       "      <td>../../Project/data/train/audio/bed/7846fd85_no...</td>\n",
       "      <td>7846fd85</td>\n",
       "      <td>bed</td>\n",
       "    </tr>\n",
       "    <tr>\n",
       "      <th>1</th>\n",
       "      <td>0</td>\n",
       "      <td>../../Project/data/train/audio/bed/51995cea_no...</td>\n",
       "      <td>51995cea</td>\n",
       "      <td>bed</td>\n",
       "    </tr>\n",
       "    <tr>\n",
       "      <th>2</th>\n",
       "      <td>1</td>\n",
       "      <td>../../Project/data/train/audio/bed/6a203e0e_no...</td>\n",
       "      <td>6a203e0e</td>\n",
       "      <td>bed</td>\n",
       "    </tr>\n",
       "    <tr>\n",
       "      <th>3</th>\n",
       "      <td>1</td>\n",
       "      <td>../../Project/data/train/audio/bed/0474c92a_no...</td>\n",
       "      <td>0474c92a</td>\n",
       "      <td>bed</td>\n",
       "    </tr>\n",
       "    <tr>\n",
       "      <th>4</th>\n",
       "      <td>0</td>\n",
       "      <td>../../Project/data/train/audio/bed/15c371c7_no...</td>\n",
       "      <td>15c371c7</td>\n",
       "      <td>bed</td>\n",
       "    </tr>\n",
       "  </tbody>\n",
       "</table>\n",
       "</div>"
      ],
      "text/plain": [
       "       info                                                                  \n",
       "  iteration                                               path   speaker word\n",
       "                                                                             \n",
       "0         0  ../../Project/data/train/audio/bed/7846fd85_no...  7846fd85  bed\n",
       "1         0  ../../Project/data/train/audio/bed/51995cea_no...  51995cea  bed\n",
       "2         1  ../../Project/data/train/audio/bed/6a203e0e_no...  6a203e0e  bed\n",
       "3         1  ../../Project/data/train/audio/bed/0474c92a_no...  0474c92a  bed\n",
       "4         0  ../../Project/data/train/audio/bed/15c371c7_no...  15c371c7  bed"
      ]
     },
     "execution_count": 4,
     "metadata": {},
     "output_type": "execute_result"
    }
   ],
   "source": [
    "features_og = pd.DataFrame({('info','word',''): word,\n",
    "                            ('info','speaker',''): speaker,\n",
    "                            ('info','iteration',''): iteration,\n",
    "                            ('info','path',''): path})\n",
    "index_og = [('info','word',''),('info','speaker',''),('info','iteration','')]\n",
    "#features_og.set_index(index_og,inplace=True)\n",
    "print('Number of signals : ' + str(len(features_og)))\n",
    "features_og.head()"
   ]
  },
  {
   "cell_type": "markdown",
   "metadata": {},
   "source": [
    "## Extract the Features"
   ]
  },
  {
   "cell_type": "markdown",
   "metadata": {},
   "source": [
    "### MFCCS  statistics (cut)"
   ]
  },
  {
   "cell_type": "code",
   "execution_count": null,
   "metadata": {},
   "outputs": [
    {
     "name": "stderr",
     "output_type": "stream",
     "text": [
      " 68%|██████▊   | 2027/3000 [09:32<04:34,  3.54waves/s]"
     ]
    }
   ],
   "source": [
    "N_MFCC = 10\n",
    "\n",
    "def compute_mfcc(filepath):\n",
    "    ''' \n",
    "    Cuts the signal to reduce the silences and computes the MFCC\n",
    "    '''  \n",
    "    audio, sampling_rate = librosa.load(filepath, sr=None, mono=True)\n",
    "    cut_version = cut_signal(audio)\n",
    "    return librosa.feature.mfcc(y=cut_version,sr=sampling_rate, n_mfcc=N_MFCC)\n",
    "\n",
    "\n",
    "stat_name= ['mean','std','skew','kurtosis','median']\n",
    "col_names = [('mfcc',stat_name[i],j) for i in range(len(stat_name))  for j in range(N_MFCC)]\n",
    "features_mfcc =pd.DataFrame(columns=pd.MultiIndex.from_tuples(col_names),index=features_og.index)\n",
    "# sorting the columns in order to improve index performances (see lexsort errors)\n",
    "features_mfcc.sort_index(axis=1,inplace=True,sort_remaining=True)\n",
    "\n",
    "# MFCC FEATURES :\n",
    "for w in tqdm(range(len(features_og)),total=len(features_og),unit='waves'):\n",
    "    mfcc = compute_mfcc(features_og[('info','path')].iloc[w])\n",
    "    features_mfcc.loc[w, ('mfcc', 'mean')] = np.mean(mfcc,axis=1)\n",
    "    features_mfcc.loc[w, ('mfcc', 'std')] = np.std(mfcc,axis=1)\n",
    "    features_mfcc.loc[w, ('mfcc', 'skew')] = scipy.stats.skew(mfcc,axis=1)\n",
    "    features_mfcc.loc[w, ('mfcc', 'kurtosis')] = scipy.stats.kurtosis(mfcc,axis=1)\n",
    "    features_mfcc.loc[w, ('mfcc', 'median')] = np.median(mfcc,axis=1)\n",
    "\n",
    "features_og = features_og.merge(features_mfcc,left_index=True,right_index=True)\n",
    "# Save features as pickle\n",
    "features_og.to_pickle('./Features Data/cut_mfccs_10.pickle')\n",
    "features_og.head()"
   ]
  },
  {
   "cell_type": "markdown",
   "metadata": {},
   "source": [
    "### MFCCs raw (cut)"
   ]
  },
  {
   "cell_type": "code",
   "execution_count": 5,
   "metadata": {},
   "outputs": [
    {
     "name": "stderr",
     "output_type": "stream",
     "text": [
      "100%|██████████| 3000/3000 [12:30<00:00,  4.00waves/s]\n"
     ]
    },
    {
     "data": {
      "text/html": [
       "<div>\n",
       "<style>\n",
       "    .dataframe thead tr:only-child th {\n",
       "        text-align: right;\n",
       "    }\n",
       "\n",
       "    .dataframe thead th {\n",
       "        text-align: left;\n",
       "    }\n",
       "\n",
       "    .dataframe tbody tr th {\n",
       "        vertical-align: top;\n",
       "    }\n",
       "</style>\n",
       "<table border=\"1\" class=\"dataframe\">\n",
       "  <thead>\n",
       "    <tr>\n",
       "      <th></th>\n",
       "      <th colspan=\"4\" halign=\"left\">info</th>\n",
       "      <th colspan=\"17\" halign=\"left\">mfcc</th>\n",
       "    </tr>\n",
       "    <tr>\n",
       "      <th></th>\n",
       "      <th>iteration</th>\n",
       "      <th>path</th>\n",
       "      <th>speaker</th>\n",
       "      <th>word</th>\n",
       "      <th colspan=\"17\" halign=\"left\">raw_mfcc</th>\n",
       "    </tr>\n",
       "    <tr>\n",
       "      <th></th>\n",
       "      <th></th>\n",
       "      <th></th>\n",
       "      <th></th>\n",
       "      <th></th>\n",
       "      <th>0</th>\n",
       "      <th>1</th>\n",
       "      <th>2</th>\n",
       "      <th>3</th>\n",
       "      <th>4</th>\n",
       "      <th>5</th>\n",
       "      <th>...</th>\n",
       "      <th>40</th>\n",
       "      <th>41</th>\n",
       "      <th>42</th>\n",
       "      <th>43</th>\n",
       "      <th>44</th>\n",
       "      <th>45</th>\n",
       "      <th>46</th>\n",
       "      <th>47</th>\n",
       "      <th>48</th>\n",
       "      <th>49</th>\n",
       "    </tr>\n",
       "  </thead>\n",
       "  <tbody>\n",
       "    <tr>\n",
       "      <th>0</th>\n",
       "      <td>0</td>\n",
       "      <td>../../Project/data/train/audio/bed/7846fd85_no...</td>\n",
       "      <td>7846fd85</td>\n",
       "      <td>bed</td>\n",
       "      <td>-518.607</td>\n",
       "      <td>-219.421</td>\n",
       "      <td>-180.718</td>\n",
       "      <td>-190.083</td>\n",
       "      <td>-236.29</td>\n",
       "      <td>68.603</td>\n",
       "      <td>...</td>\n",
       "      <td>-10.4221</td>\n",
       "      <td>18.9384</td>\n",
       "      <td>24.1173</td>\n",
       "      <td>20.7235</td>\n",
       "      <td>18.4684</td>\n",
       "      <td>-5.64985</td>\n",
       "      <td>-19.628</td>\n",
       "      <td>-11.2644</td>\n",
       "      <td>-14.7974</td>\n",
       "      <td>-4.52644</td>\n",
       "    </tr>\n",
       "    <tr>\n",
       "      <th>1</th>\n",
       "      <td>0</td>\n",
       "      <td>../../Project/data/train/audio/bed/51995cea_no...</td>\n",
       "      <td>51995cea</td>\n",
       "      <td>bed</td>\n",
       "      <td>-739.032</td>\n",
       "      <td>-568.546</td>\n",
       "      <td>-388.788</td>\n",
       "      <td>-395.509</td>\n",
       "      <td>-581.481</td>\n",
       "      <td>148.531</td>\n",
       "      <td>...</td>\n",
       "      <td>2.73401</td>\n",
       "      <td>1.84458</td>\n",
       "      <td>-22.0633</td>\n",
       "      <td>-13.625</td>\n",
       "      <td>-21.5049</td>\n",
       "      <td>-4.46863</td>\n",
       "      <td>-27.791</td>\n",
       "      <td>-4.70561</td>\n",
       "      <td>0.37106</td>\n",
       "      <td>-18.8352</td>\n",
       "    </tr>\n",
       "    <tr>\n",
       "      <th>2</th>\n",
       "      <td>1</td>\n",
       "      <td>../../Project/data/train/audio/bed/6a203e0e_no...</td>\n",
       "      <td>6a203e0e</td>\n",
       "      <td>bed</td>\n",
       "      <td>-357.19</td>\n",
       "      <td>-169.471</td>\n",
       "      <td>-178.325</td>\n",
       "      <td>-164.575</td>\n",
       "      <td>-344.926</td>\n",
       "      <td>68.12</td>\n",
       "      <td>...</td>\n",
       "      <td>8.01755</td>\n",
       "      <td>6.55873</td>\n",
       "      <td>13.8552</td>\n",
       "      <td>13.5544</td>\n",
       "      <td>-8.86286</td>\n",
       "      <td>5.42373</td>\n",
       "      <td>14.5683</td>\n",
       "      <td>18.6055</td>\n",
       "      <td>21.0638</td>\n",
       "      <td>12.8827</td>\n",
       "    </tr>\n",
       "    <tr>\n",
       "      <th>3</th>\n",
       "      <td>1</td>\n",
       "      <td>../../Project/data/train/audio/bed/0474c92a_no...</td>\n",
       "      <td>0474c92a</td>\n",
       "      <td>bed</td>\n",
       "      <td>-380.412</td>\n",
       "      <td>-164.692</td>\n",
       "      <td>-167.224</td>\n",
       "      <td>-183.987</td>\n",
       "      <td>-214.62</td>\n",
       "      <td>59.1119</td>\n",
       "      <td>...</td>\n",
       "      <td>8.6284</td>\n",
       "      <td>32.4299</td>\n",
       "      <td>33.6695</td>\n",
       "      <td>35.5856</td>\n",
       "      <td>31.1413</td>\n",
       "      <td>19.121</td>\n",
       "      <td>9.22734</td>\n",
       "      <td>11.7204</td>\n",
       "      <td>14.5851</td>\n",
       "      <td>17.2044</td>\n",
       "    </tr>\n",
       "    <tr>\n",
       "      <th>4</th>\n",
       "      <td>0</td>\n",
       "      <td>../../Project/data/train/audio/bed/15c371c7_no...</td>\n",
       "      <td>15c371c7</td>\n",
       "      <td>bed</td>\n",
       "      <td>-434.501</td>\n",
       "      <td>-166.17</td>\n",
       "      <td>-54.1217</td>\n",
       "      <td>-147.915</td>\n",
       "      <td>-346.463</td>\n",
       "      <td>82.594</td>\n",
       "      <td>...</td>\n",
       "      <td>15.6221</td>\n",
       "      <td>-25.6132</td>\n",
       "      <td>-13.897</td>\n",
       "      <td>-41.8281</td>\n",
       "      <td>-10.606</td>\n",
       "      <td>4.44877</td>\n",
       "      <td>-27.8419</td>\n",
       "      <td>-22.7576</td>\n",
       "      <td>-11.8162</td>\n",
       "      <td>-16.6746</td>\n",
       "    </tr>\n",
       "  </tbody>\n",
       "</table>\n",
       "<p>5 rows × 54 columns</p>\n",
       "</div>"
      ],
      "text/plain": [
       "       info                                                                    \\\n",
       "  iteration                                               path   speaker word   \n",
       "                                                                                \n",
       "0         0  ../../Project/data/train/audio/bed/7846fd85_no...  7846fd85  bed   \n",
       "1         0  ../../Project/data/train/audio/bed/51995cea_no...  51995cea  bed   \n",
       "2         1  ../../Project/data/train/audio/bed/6a203e0e_no...  6a203e0e  bed   \n",
       "3         1  ../../Project/data/train/audio/bed/0474c92a_no...  0474c92a  bed   \n",
       "4         0  ../../Project/data/train/audio/bed/15c371c7_no...  15c371c7  bed   \n",
       "\n",
       "      mfcc                                                ...              \\\n",
       "  raw_mfcc                                                ...               \n",
       "         0        1        2        3        4        5   ...          40   \n",
       "0 -518.607 -219.421 -180.718 -190.083  -236.29   68.603   ...    -10.4221   \n",
       "1 -739.032 -568.546 -388.788 -395.509 -581.481  148.531   ...     2.73401   \n",
       "2  -357.19 -169.471 -178.325 -164.575 -344.926    68.12   ...     8.01755   \n",
       "3 -380.412 -164.692 -167.224 -183.987  -214.62  59.1119   ...      8.6284   \n",
       "4 -434.501  -166.17 -54.1217 -147.915 -346.463   82.594   ...     15.6221   \n",
       "\n",
       "                                                                           \\\n",
       "                                                                            \n",
       "        41       42       43       44       45       46       47       48   \n",
       "0  18.9384  24.1173  20.7235  18.4684 -5.64985  -19.628 -11.2644 -14.7974   \n",
       "1  1.84458 -22.0633  -13.625 -21.5049 -4.46863  -27.791 -4.70561  0.37106   \n",
       "2  6.55873  13.8552  13.5544 -8.86286  5.42373  14.5683  18.6055  21.0638   \n",
       "3  32.4299  33.6695  35.5856  31.1413   19.121  9.22734  11.7204  14.5851   \n",
       "4 -25.6132  -13.897 -41.8281  -10.606  4.44877 -27.8419 -22.7576 -11.8162   \n",
       "\n",
       "            \n",
       "            \n",
       "        49  \n",
       "0 -4.52644  \n",
       "1 -18.8352  \n",
       "2  12.8827  \n",
       "3  17.2044  \n",
       "4 -16.6746  \n",
       "\n",
       "[5 rows x 54 columns]"
      ]
     },
     "execution_count": 5,
     "metadata": {},
     "output_type": "execute_result"
    }
   ],
   "source": [
    "N_MFCC = 10\n",
    "N_FFT =  int(2048/2)\n",
    "NUM_MFCCS_VEC = 5\n",
    "\n",
    "def compute_mfcc(filepath):\n",
    "    ''' \n",
    "    Cuts the signal to reduce the silences and computes the MFCC\n",
    "    '''  \n",
    "    audio, sampling_rate = librosa.load(filepath, sr=None, mono=True)\n",
    "    cut_version = cut_signal(audio)\n",
    "    mfccs = librosa.feature.mfcc(y=cut_version,sr=sampling_rate, n_mfcc=N_MFCC, n_fft = N_FFT, hop_length = int(np.floor(len(cut_version)/NUM_MFCCS_VEC)))\n",
    "    return mfccs[:,:-1]\n",
    "\n",
    "stat_name= ['raw_mfcc']\n",
    "col_names = [('mfcc',stat_name[i],j) for i in range(len(stat_name))  for j in range(N_MFCC*NUM_MFCCS_VEC)]\n",
    "features_mfcc =pd.DataFrame(columns=pd.MultiIndex.from_tuples(col_names),index=features_og.index)\n",
    "# sorting the columns in order to improve index performances (see lexsort errors)\n",
    "features_mfcc.sort_index(axis=1,inplace=True,sort_remaining=True)\n",
    "\n",
    "# MFCC FEATURES :\n",
    "for w in tqdm(range(len(features_og)),total=len(features_og),unit='waves'):\n",
    "    mfcc = compute_mfcc(features_og[('info','path')].iloc[w])\n",
    "    features_mfcc.loc[w, ('mfcc', 'raw_mfcc')] = mfcc.reshape(-1,)\n",
    "\n",
    "\n",
    "features_og = features_og.merge(features_mfcc,left_index=True,right_index=True)\n",
    "# Save features as pickle\n",
    "features_og.to_pickle('./Features Data/cut_mfccs_raw_10_1028_5.pickle')\n",
    "features_og.head()"
   ]
  },
  {
   "cell_type": "markdown",
   "metadata": {},
   "source": [
    "## Spectral clustering"
   ]
  },
  {
   "cell_type": "code",
   "execution_count": 6,
   "metadata": {},
   "outputs": [
    {
     "data": {
      "text/html": [
       "<div>\n",
       "<style>\n",
       "    .dataframe thead tr:only-child th {\n",
       "        text-align: right;\n",
       "    }\n",
       "\n",
       "    .dataframe thead th {\n",
       "        text-align: left;\n",
       "    }\n",
       "\n",
       "    .dataframe tbody tr th {\n",
       "        vertical-align: top;\n",
       "    }\n",
       "</style>\n",
       "<table border=\"1\" class=\"dataframe\">\n",
       "  <thead>\n",
       "    <tr>\n",
       "      <th></th>\n",
       "      <th colspan=\"4\" halign=\"left\">info</th>\n",
       "      <th colspan=\"17\" halign=\"left\">mfcc</th>\n",
       "    </tr>\n",
       "    <tr>\n",
       "      <th></th>\n",
       "      <th>iteration</th>\n",
       "      <th>path</th>\n",
       "      <th>speaker</th>\n",
       "      <th>word</th>\n",
       "      <th colspan=\"17\" halign=\"left\">raw_mfcc</th>\n",
       "    </tr>\n",
       "    <tr>\n",
       "      <th></th>\n",
       "      <th></th>\n",
       "      <th></th>\n",
       "      <th></th>\n",
       "      <th></th>\n",
       "      <th>0</th>\n",
       "      <th>1</th>\n",
       "      <th>2</th>\n",
       "      <th>3</th>\n",
       "      <th>4</th>\n",
       "      <th>5</th>\n",
       "      <th>...</th>\n",
       "      <th>40</th>\n",
       "      <th>41</th>\n",
       "      <th>42</th>\n",
       "      <th>43</th>\n",
       "      <th>44</th>\n",
       "      <th>45</th>\n",
       "      <th>46</th>\n",
       "      <th>47</th>\n",
       "      <th>48</th>\n",
       "      <th>49</th>\n",
       "    </tr>\n",
       "  </thead>\n",
       "  <tbody>\n",
       "    <tr>\n",
       "      <th>0</th>\n",
       "      <td>0</td>\n",
       "      <td>../../Project/data/train/audio/bed/7846fd85_no...</td>\n",
       "      <td>7846fd85</td>\n",
       "      <td>bed</td>\n",
       "      <td>-518.607</td>\n",
       "      <td>-219.421</td>\n",
       "      <td>-180.718</td>\n",
       "      <td>-190.083</td>\n",
       "      <td>-236.29</td>\n",
       "      <td>68.603</td>\n",
       "      <td>...</td>\n",
       "      <td>-10.4221</td>\n",
       "      <td>18.9384</td>\n",
       "      <td>24.1173</td>\n",
       "      <td>20.7235</td>\n",
       "      <td>18.4684</td>\n",
       "      <td>-5.64985</td>\n",
       "      <td>-19.628</td>\n",
       "      <td>-11.2644</td>\n",
       "      <td>-14.7974</td>\n",
       "      <td>-4.52644</td>\n",
       "    </tr>\n",
       "    <tr>\n",
       "      <th>1</th>\n",
       "      <td>0</td>\n",
       "      <td>../../Project/data/train/audio/bed/51995cea_no...</td>\n",
       "      <td>51995cea</td>\n",
       "      <td>bed</td>\n",
       "      <td>-739.032</td>\n",
       "      <td>-568.546</td>\n",
       "      <td>-388.788</td>\n",
       "      <td>-395.509</td>\n",
       "      <td>-581.481</td>\n",
       "      <td>148.531</td>\n",
       "      <td>...</td>\n",
       "      <td>2.73401</td>\n",
       "      <td>1.84458</td>\n",
       "      <td>-22.0633</td>\n",
       "      <td>-13.625</td>\n",
       "      <td>-21.5049</td>\n",
       "      <td>-4.46863</td>\n",
       "      <td>-27.791</td>\n",
       "      <td>-4.70561</td>\n",
       "      <td>0.37106</td>\n",
       "      <td>-18.8352</td>\n",
       "    </tr>\n",
       "    <tr>\n",
       "      <th>2</th>\n",
       "      <td>1</td>\n",
       "      <td>../../Project/data/train/audio/bed/6a203e0e_no...</td>\n",
       "      <td>6a203e0e</td>\n",
       "      <td>bed</td>\n",
       "      <td>-357.19</td>\n",
       "      <td>-169.471</td>\n",
       "      <td>-178.325</td>\n",
       "      <td>-164.575</td>\n",
       "      <td>-344.926</td>\n",
       "      <td>68.12</td>\n",
       "      <td>...</td>\n",
       "      <td>8.01755</td>\n",
       "      <td>6.55873</td>\n",
       "      <td>13.8552</td>\n",
       "      <td>13.5544</td>\n",
       "      <td>-8.86286</td>\n",
       "      <td>5.42373</td>\n",
       "      <td>14.5683</td>\n",
       "      <td>18.6055</td>\n",
       "      <td>21.0638</td>\n",
       "      <td>12.8827</td>\n",
       "    </tr>\n",
       "    <tr>\n",
       "      <th>3</th>\n",
       "      <td>1</td>\n",
       "      <td>../../Project/data/train/audio/bed/0474c92a_no...</td>\n",
       "      <td>0474c92a</td>\n",
       "      <td>bed</td>\n",
       "      <td>-380.412</td>\n",
       "      <td>-164.692</td>\n",
       "      <td>-167.224</td>\n",
       "      <td>-183.987</td>\n",
       "      <td>-214.62</td>\n",
       "      <td>59.1119</td>\n",
       "      <td>...</td>\n",
       "      <td>8.6284</td>\n",
       "      <td>32.4299</td>\n",
       "      <td>33.6695</td>\n",
       "      <td>35.5856</td>\n",
       "      <td>31.1413</td>\n",
       "      <td>19.121</td>\n",
       "      <td>9.22734</td>\n",
       "      <td>11.7204</td>\n",
       "      <td>14.5851</td>\n",
       "      <td>17.2044</td>\n",
       "    </tr>\n",
       "    <tr>\n",
       "      <th>4</th>\n",
       "      <td>0</td>\n",
       "      <td>../../Project/data/train/audio/bed/15c371c7_no...</td>\n",
       "      <td>15c371c7</td>\n",
       "      <td>bed</td>\n",
       "      <td>-434.501</td>\n",
       "      <td>-166.17</td>\n",
       "      <td>-54.1217</td>\n",
       "      <td>-147.915</td>\n",
       "      <td>-346.463</td>\n",
       "      <td>82.594</td>\n",
       "      <td>...</td>\n",
       "      <td>15.6221</td>\n",
       "      <td>-25.6132</td>\n",
       "      <td>-13.897</td>\n",
       "      <td>-41.8281</td>\n",
       "      <td>-10.606</td>\n",
       "      <td>4.44877</td>\n",
       "      <td>-27.8419</td>\n",
       "      <td>-22.7576</td>\n",
       "      <td>-11.8162</td>\n",
       "      <td>-16.6746</td>\n",
       "    </tr>\n",
       "  </tbody>\n",
       "</table>\n",
       "<p>5 rows × 54 columns</p>\n",
       "</div>"
      ],
      "text/plain": [
       "       info                                                                    \\\n",
       "  iteration                                               path   speaker word   \n",
       "                                                                                \n",
       "0         0  ../../Project/data/train/audio/bed/7846fd85_no...  7846fd85  bed   \n",
       "1         0  ../../Project/data/train/audio/bed/51995cea_no...  51995cea  bed   \n",
       "2         1  ../../Project/data/train/audio/bed/6a203e0e_no...  6a203e0e  bed   \n",
       "3         1  ../../Project/data/train/audio/bed/0474c92a_no...  0474c92a  bed   \n",
       "4         0  ../../Project/data/train/audio/bed/15c371c7_no...  15c371c7  bed   \n",
       "\n",
       "      mfcc                                                ...              \\\n",
       "  raw_mfcc                                                ...               \n",
       "         0        1        2        3        4        5   ...          40   \n",
       "0 -518.607 -219.421 -180.718 -190.083  -236.29   68.603   ...    -10.4221   \n",
       "1 -739.032 -568.546 -388.788 -395.509 -581.481  148.531   ...     2.73401   \n",
       "2  -357.19 -169.471 -178.325 -164.575 -344.926    68.12   ...     8.01755   \n",
       "3 -380.412 -164.692 -167.224 -183.987  -214.62  59.1119   ...      8.6284   \n",
       "4 -434.501  -166.17 -54.1217 -147.915 -346.463   82.594   ...     15.6221   \n",
       "\n",
       "                                                                           \\\n",
       "                                                                            \n",
       "        41       42       43       44       45       46       47       48   \n",
       "0  18.9384  24.1173  20.7235  18.4684 -5.64985  -19.628 -11.2644 -14.7974   \n",
       "1  1.84458 -22.0633  -13.625 -21.5049 -4.46863  -27.791 -4.70561  0.37106   \n",
       "2  6.55873  13.8552  13.5544 -8.86286  5.42373  14.5683  18.6055  21.0638   \n",
       "3  32.4299  33.6695  35.5856  31.1413   19.121  9.22734  11.7204  14.5851   \n",
       "4 -25.6132  -13.897 -41.8281  -10.606  4.44877 -27.8419 -22.7576 -11.8162   \n",
       "\n",
       "            \n",
       "            \n",
       "        49  \n",
       "0 -4.52644  \n",
       "1 -18.8352  \n",
       "2  12.8827  \n",
       "3  17.2044  \n",
       "4 -16.6746  \n",
       "\n",
       "[5 rows x 54 columns]"
      ]
     },
     "execution_count": 6,
     "metadata": {},
     "output_type": "execute_result"
    }
   ],
   "source": [
    "# Load features\n",
    "features_og = pd.read_pickle('./Features Data/cut_mfccs_raw_10_1028_5.pickle')\n",
    "features_og.head()"
   ]
  },
  {
   "cell_type": "code",
   "execution_count": 7,
   "metadata": {
    "collapsed": true
   },
   "outputs": [],
   "source": [
    "# drop features\n",
    "features = pd.DataFrame(features_og['mfcc'])\n",
    "features -= features.mean(axis=0)\n",
    "features /= features.std(axis=0)\n",
    "\n",
    "distances = spatial.distance.squareform(spatial.distance.pdist(features,'cosine'))\n",
    "\n",
    "n=distances.shape[0]\n",
    "kernel_width = distances.mean()\n",
    "weights = np.exp(np.divide(-np.square(distances),kernel_width**2))\n",
    "np.fill_diagonal(weights,0)"
   ]
  },
  {
   "cell_type": "code",
   "execution_count": 8,
   "metadata": {},
   "outputs": [
    {
     "data": {
      "image/png": "[encoded data removed]",
      "text/plain": [
       "<matplotlib.figure.Figure at 0x146bc217e80>"
      ]
     },
     "metadata": {},
     "output_type": "display_data"
    }
   ],
   "source": [
    "\n",
    "fix, axes = plt.subplots(2, 2, figsize=(17, 8))\n",
    "def plot(weights, axes):\n",
    "    axes[0].spy(weights)\n",
    "    axes[1].hist(weights[weights > 0].reshape(-1), bins=50);\n",
    "plot(weights, axes[:, 0])\n",
    "\n",
    "NEIGHBORS = 400\n",
    "\n",
    "for i in range(weights.shape[0]):\n",
    "    idx = weights[i,:].argsort()[:-NEIGHBORS]\n",
    "    weights[i,idx] = 0\n",
    "    weights[idx,i] = 0\n",
    "\n",
    "plot(weights, axes[:, 1])\n",
    "   "
   ]
  },
  {
   "cell_type": "code",
   "execution_count": 9,
   "metadata": {},
   "outputs": [
    {
     "data": {
      "image/png": "[encoded data removed]",
      "text/plain": [
       "<matplotlib.figure.Figure at 0x146bc7e55c0>"
      ]
     },
     "metadata": {},
     "output_type": "display_data"
    }
   ],
   "source": [
    "degrees = np.sum(weights,axis=0)\n",
    "laplacian = np.diag(degrees**-0.5) @ (np.diag(degrees) - weights) @ np.diag(degrees**-0.5)\n",
    "laplacian = sparse.csr_matrix(laplacian)\n",
    "plt.spy(laplacian.todense());"
   ]
  },
  {
   "cell_type": "code",
   "execution_count": 10,
   "metadata": {},
   "outputs": [
    {
     "data": {
      "image/png": "[encoded data removed]",
      "text/plain": [
       "<matplotlib.figure.Figure at 0x146b9afa2e8>"
      ]
     },
     "metadata": {},
     "output_type": "display_data"
    }
   ],
   "source": [
    "eigenvalues, eigenvectors = sparse.linalg.eigsh(A=laplacian,k=100,which='SM')\n",
    "plt.plot(eigenvalues, '.-', markersize=15);\n"
   ]
  },
  {
   "cell_type": "code",
   "execution_count": 11,
   "metadata": {},
   "outputs": [
    {
     "data": {
      "text/plain": [
       "<matplotlib.axes._subplots.AxesSubplot at 0x146bc578390>"
      ]
     },
     "execution_count": 11,
     "metadata": {},
     "output_type": "execute_result"
    },
    {
     "data": {
      "image/png": "[encoded data removed]",
      "text/plain": [
       "<matplotlib.figure.Figure at 0x146bc5486a0>"
      ]
     },
     "metadata": {},
     "output_type": "display_data"
    }
   ],
   "source": [
    "# Build Label vector\n",
    "# Define class name vector, the index will correspond to the class label\n",
    "class_names = features_og['info']['word'].unique()\n",
    "label_vec = np.ones(len(features_og))\n",
    "for i in range(0,len(class_names)):\n",
    "    label_vec +=(features_og['info','word'] == class_names[i]) * i\n",
    "    \n",
    "label_vec.plot()"
   ]
  },
  {
   "cell_type": "code",
   "execution_count": 12,
   "metadata": {
    "collapsed": true
   },
   "outputs": [],
   "source": [
    "# sample classes such as test and train have equal proportion of classes\n",
    "train_size = 80\n",
    "test_size = 20\n",
    "\n",
    "train_x = np.array([])\n",
    "train_y = np.array([])\n",
    "\n",
    "test_x = np.array([])\n",
    "test_y = np.array([])\n",
    "\n",
    "for i in range(len(class_names)):\n",
    "    class_index = np.where(label_vec == (i+1))[0]\n",
    "    random_index = np.random.choice(range(len(class_index)), size=train_size+test_size, replace=False)\n",
    "    \n",
    "    train_x_class = class_index[random_index[:train_size]]\n",
    "    train_y_class = label_vec[train_x_class]\n",
    "    train_x = np.append(train_x, train_x_class)\n",
    "    train_y = np.append(train_y, train_y_class)\n",
    "\n",
    "    test_x_class = class_index[random_index[train_size:train_size+test_size]]\n",
    "    test_y_class = label_vec[test_x_class]\n",
    "    test_x = np.append(test_x, test_x_class)\n",
    "    test_y = np.append(test_y, test_y_class)\n",
    "    "
   ]
  },
  {
   "cell_type": "code",
   "execution_count": 13,
   "metadata": {
    "collapsed": true
   },
   "outputs": [],
   "source": [
    "# get features\n",
    "train_features = eigenvectors[train_x.astype(int),:]\n",
    "test_features = eigenvectors[test_x.astype(int),:]"
   ]
  },
  {
   "cell_type": "code",
   "execution_count": 14,
   "metadata": {
    "collapsed": true
   },
   "outputs": [],
   "source": [
    "clf  = GaussianNB()"
   ]
  },
  {
   "cell_type": "code",
   "execution_count": 15,
   "metadata": {},
   "outputs": [
    {
     "data": {
      "text/plain": [
       "GaussianNB(priors=None)"
      ]
     },
     "execution_count": 15,
     "metadata": {},
     "output_type": "execute_result"
    }
   ],
   "source": [
    "clf.fit(train_features, train_y)"
   ]
  },
  {
   "cell_type": "code",
   "execution_count": 16,
   "metadata": {},
   "outputs": [
    {
     "name": "stdout",
     "output_type": "stream",
     "text": [
      "accuracy :  0.491666666667\n"
     ]
    }
   ],
   "source": [
    "predict_y = clf.predict(test_features)\n",
    "print('accuracy : ', np.sum(test_y==predict_y)/len(test_y))"
   ]
  },
  {
   "cell_type": "code",
   "execution_count": 31,
   "metadata": {},
   "outputs": [
    {
     "data": {
      "text/plain": [
       "<matplotlib.colorbar.Colorbar at 0x1eaea191630>"
      ]
     },
     "execution_count": 31,
     "metadata": {},
     "output_type": "execute_result"
    },
    {
     "data": {
      "image/png": "[encoded data removed]",
      "text/plain": [
       "<matplotlib.figure.Figure at 0x1eae5d7bb70>"
      ]
     },
     "metadata": {},
     "output_type": "display_data"
    }
   ],
   "source": [
    "# confusion matrix from ADA\n",
    "conf_mat=confusion_matrix(test_y,predict_y)\n",
    "\n",
    "plt.figure(figsize=(10,10))\n",
    "plt.imshow(conf_mat/np.sum(conf_mat,axis=1),cmap=plt.cm.hot)\n",
    "tick = np.arange(len(class_names))\n",
    "plt.xticks(tick, class_names,rotation=90)\n",
    "plt.yticks(tick, class_names)\n",
    "plt.ylabel('ground truth')\n",
    "plt.xlabel('prediction')\n",
    "plt.title('Confusion matrix')\n",
    "plt.colorbar()"
   ]
  },
  {
   "cell_type": "code",
   "execution_count": null,
   "metadata": {
    "collapsed": true
   },
   "outputs": [],
   "source": []
  },
  {
   "cell_type": "code",
   "execution_count": null,
   "metadata": {
    "collapsed": true
   },
   "outputs": [],
   "source": []
  }
 ],
 "metadata": {
  "kernelspec": {
   "display_name": "Python 3",
   "language": "python",
   "name": "python3"
  },
  "language_info": {
   "codemirror_mode": {
    "name": "ipython",
    "version": 3
   },
   "file_extension": ".py",
   "mimetype": "text/x-python",
   "name": "python",
   "nbconvert_exporter": "python",
   "pygments_lexer": "ipython3",
   "version": "3.6.3"
  }
 },
 "nbformat": 4,
 "nbformat_minor": 2
}
