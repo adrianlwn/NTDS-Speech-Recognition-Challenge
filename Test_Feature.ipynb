{
 "cells": [
  {
   "cell_type": "code",
   "execution_count": 1,
   "metadata": {},
   "outputs": [],
   "source": [
    "import os\n",
    "from os.path import isdir, join\n",
    "from pathlib import Path\n",
    "import pandas as pd\n",
    "from tqdm import tqdm\n",
    "\n",
    "# Math\n",
    "import numpy as np\n",
    "import scipy.stats\n",
    "from scipy.fftpack import fft\n",
    "from scipy import signal\n",
    "from scipy.io import wavfile\n",
    "import librosa\n",
    "import librosa.display\n",
    "from scipy import sparse, stats, spatial\n",
    "import scipy.sparse.linalg\n",
    "\n",
    "# Machine learning\n",
    "from sklearn.neural_network import MLPClassifier\n",
    "from sklearn.svm import SVC\n",
    "from sklearn.utils import shuffle\n",
    "from sklearn.metrics import  confusion_matrix\n",
    "from sklearn.naive_bayes import GaussianNB\n",
    "from sklearn.model_selection import cross_val_score\n",
    "\n",
    "# Visualization\n",
    "import matplotlib.pyplot as plt\n",
    "import seaborn as sns\n",
    "import IPython.display as ipd\n",
    "import pandas as pd\n",
    "\n",
    "# Cutting \n",
    "\n",
    "from cut_audio import *\n",
    "\n",
    "%matplotlib inline"
   ]
  },
  {
   "cell_type": "markdown",
   "metadata": {},
   "source": [
    "## Import Data"
   ]
  },
  {
   "cell_type": "code",
   "execution_count": 111,
   "metadata": {},
   "outputs": [],
   "source": [
    "N = 100\n",
    "\n",
    "train_audio_path = join('..','Project','data','train','audio')\n",
    "dirs = [f for f in os.listdir(train_audio_path) if isdir(join(train_audio_path, f))]\n",
    "dirs.sort()\n",
    "\n",
    "path = []\n",
    "word = []\n",
    "speaker = []\n",
    "iteration = []\n",
    "\n",
    "for direct in dirs:\n",
    "    if not direct.startswith('_'):\n",
    "        # Random selection of N files per folder \n",
    "        list_files = os.listdir(join(train_audio_path, direct))\n",
    "        wave_selected  = list(np.random.choice([ f for f in list_files if f.endswith('.wav')],N,replace=False))\n",
    "        \n",
    "        # Extraction of file informations for dataframe\n",
    "        word.extend(list(np.repeat(direct,N,axis=0)))\n",
    "        speaker.extend([wave_selected[f].split('.')[0].split('_')[0] for f in range(N) ])\n",
    "        iteration.extend([wave_selected[f].split('.')[0].split('_')[-1] for f in range(N) ])\n",
    "        path.extend([train_audio_path + '/' + direct + '/' + wave_selected[f] for f in range(N)])"
   ]
  },
  {
   "cell_type": "code",
   "execution_count": 112,
   "metadata": {},
   "outputs": [
    {
     "name": "stdout",
     "output_type": "stream",
     "text": [
      "Number of signals : 3000\n"
     ]
    }
   ],
   "source": [
    "features_og = pd.DataFrame({('info','word',''): word,\n",
    "                            ('info','speaker',''): speaker,\n",
    "                            ('info','iteration',''): iteration,\n",
    "                            ('info','path',''): path})\n",
    "index_og = [('info','word',''),('info','speaker',''),('info','iteration','')]\n",
    "#features_og.set_index(index_og,inplace=True)\n",
    "print('Number of signals : ' + str(len(features_og)))"
   ]
  },
  {
   "cell_type": "code",
   "execution_count": 113,
   "metadata": {},
   "outputs": [],
   "source": [
    "def load_audio_file(features_og):\n",
    "    audio_df = pd.DataFrame(columns=pd.MultiIndex.from_tuples([('audio','raw',''),('audio','sr',''),('audio','cut','')]),index=features_og.index)\n",
    "\n",
    "    for w in tqdm(range(len(features_og)),total=len(features_og),unit='waves'):\n",
    "      \n",
    "        audio, sampling_rate = librosa.load(features_og[('info','path')].iloc[w], sr=None, mono=True)\n",
    "        audio_df.loc[w,('audio','raw','')] = audio\n",
    "        audio_df.loc[w,('audio','sr','')] = sampling_rate\n",
    "        audio_df.loc[w,('audio','cut','')] = cut_signal(audio)\n",
    "\n",
    "        \n",
    "    audio_df = features_og.merge(audio_df,left_index=True,right_index=True)\n",
    "        \n",
    "    return audio_df\n",
    "\n"
   ]
  },
  {
   "cell_type": "code",
   "execution_count": null,
   "metadata": {
    "collapsed": true
   },
   "outputs": [],
   "source": []
  },
  {
   "cell_type": "code",
   "execution_count": 114,
   "metadata": {},
   "outputs": [
    {
     "name": "stderr",
     "output_type": "stream",
     "text": [
      "100%|██████████| 3000/3000 [07:13<00:00,  6.92waves/s]\n"
     ]
    }
   ],
   "source": [
    "raw_audio_df = load_audio_file(features_og)\n",
    "raw_audio_df.to_pickle('./Features Data/raw_audio_100.pickle')\n"
   ]
  },
  {
   "cell_type": "markdown",
   "metadata": {},
   "source": [
    "## Extract the Features"
   ]
  },
  {
   "cell_type": "code",
   "execution_count": 2,
   "metadata": {
    "collapsed": true
   },
   "outputs": [],
   "source": [
    "### MFCC & STATS FUNCTION : \n",
    "\n",
    "def compute_mfcc_stat(features_og,N_MFCC,cut=True):\n",
    "    ''' \n",
    "    This function computes the raw MFCC parameters with default parameters and the the stats\n",
    "    '''\n",
    "    \n",
    "    stat_name= ['mean','std','skew','kurtosis','median']\n",
    "    col_names = [('mfcc',stat_name[i],j) for i in range(len(stat_name))  for j in range(N_MFCC)]\n",
    "    \n",
    "    features_mfcc = pd.DataFrame(columns=pd.MultiIndex.from_tuples(col_names),index=features_og.index)\n",
    "    # sorting the columns in order to improve index performances (see lexsort errors)\n",
    "    features_mfcc.sort_index(axis=1,inplace=True,sort_remaining=True)\n",
    "\n",
    "    # MFCC FEATURES :\n",
    "    for w in tqdm(range(len(features_og)),total=len(features_og),unit='waves'):\n",
    "        # Handling the cut version of the signal : \n",
    "        if cut == True :  \n",
    "            audio = features_og.loc[w,('audio','cut','')]\n",
    "        else : \n",
    "            audio = features_og.loc[w,('audio','raw','')]\n",
    "            \n",
    "        sampling_rate = features_og.loc[w,('audio','sr','')]\n",
    "        \n",
    "        # Computing the MFCC for each signal : \n",
    "        mfcc = librosa.feature.mfcc(y=audio,sr=sampling_rate, n_mfcc=N_MFCC)\n",
    "        \n",
    "        # Computing the MFCC stats for each signal : \n",
    "        features_mfcc.loc[w, ('mfcc', 'mean')] = np.mean(mfcc,axis=1)\n",
    "        features_mfcc.loc[w, ('mfcc', 'std')] = np.std(mfcc,axis=1)\n",
    "        features_mfcc.loc[w, ('mfcc', 'skew')] = scipy.stats.skew(mfcc,axis=1)\n",
    "        features_mfcc.loc[w, ('mfcc', 'kurtosis')] = scipy.stats.kurtosis(mfcc,axis=1)\n",
    "        features_mfcc.loc[w, ('mfcc', 'median')] = np.median(mfcc,axis=1)\n",
    "\n",
    "    features_og = features_og.merge(features_mfcc,left_index=True,right_index=True)    \n",
    "    return features_og\n",
    "\n",
    "### RAW MFCC FUNCTION : \n",
    "\n",
    "def compute_mfcc_raw(features_og,N_MFCC,N_FFT,NUM_MFCCS_VEC,cut=True):\n",
    "    ''' \n",
    "    This function computes the raw MFCC parameters for and allow the choice of parameters\n",
    "    '''\n",
    "    \n",
    "    stat_name= ['raw_mfcc']\n",
    "    col_names = [('mfcc',stat_name[i],j) for i in range(len(stat_name))  for j in range(N_MFCC*NUM_MFCCS_VEC)]\n",
    "\n",
    "    features_mfcc = pd.DataFrame(columns=pd.MultiIndex.from_tuples(col_names),index=features_og.index)\n",
    "    # sorting the columns in order to improve index performances (see lexsort errors)\n",
    "    features_mfcc.sort_index(axis=1,inplace=True,sort_remaining=True)\n",
    "\n",
    "    # MFCC FEATURES :\n",
    "    for w in tqdm(range(len(features_og)),total=len(features_og),unit='waves'):\n",
    "        # Handling the cut version of the signal : \n",
    "        if cut == True :  \n",
    "            audio = features_og.loc[w,('audio','cut','')]\n",
    "        else : \n",
    "            audio = features_og.loc[w,('audio','raw','')]   \n",
    "            \n",
    "        sampling_rate = features_og.loc[w,('audio','sr','')]\n",
    "        \n",
    "        # Computing the MFCC for each signal : \n",
    "        mfcc = librosa.feature.mfcc(y=audio,sr=sampling_rate, n_mfcc=N_MFCC, n_fft = N_FFT, hop_length = int(np.floor(len(audio)/NUM_MFCCS_VEC)))\n",
    "     \n",
    "        features_mfcc.loc[w, ('mfcc', 'raw_mfcc')] = mfcc[:,:-1].reshape(-1,)\n",
    "\n",
    "    features_og = features_og.merge(features_mfcc,left_index=True,right_index=True)    \n",
    "    return features_og\n"
   ]
  },
  {
   "cell_type": "markdown",
   "metadata": {},
   "source": [
    "### Loading Raw Audio DF : "
   ]
  },
  {
   "cell_type": "code",
   "execution_count": 451,
   "metadata": {},
   "outputs": [
    {
     "data": {
      "text/html": [
       "<div>\n",
       "<style scoped>\n",
       "    .dataframe tbody tr th:only-of-type {\n",
       "        vertical-align: middle;\n",
       "    }\n",
       "\n",
       "    .dataframe tbody tr th {\n",
       "        vertical-align: top;\n",
       "    }\n",
       "\n",
       "    .dataframe thead tr th {\n",
       "        text-align: left;\n",
       "    }\n",
       "</style>\n",
       "<table border=\"1\" class=\"dataframe\">\n",
       "  <thead>\n",
       "    <tr>\n",
       "      <th></th>\n",
       "      <th colspan=\"4\" halign=\"left\">info</th>\n",
       "      <th colspan=\"3\" halign=\"left\">audio</th>\n",
       "    </tr>\n",
       "    <tr>\n",
       "      <th></th>\n",
       "      <th>iteration</th>\n",
       "      <th>path</th>\n",
       "      <th>speaker</th>\n",
       "      <th>word</th>\n",
       "      <th>raw</th>\n",
       "      <th>sr</th>\n",
       "      <th>cut</th>\n",
       "    </tr>\n",
       "    <tr>\n",
       "      <th></th>\n",
       "      <th></th>\n",
       "      <th></th>\n",
       "      <th></th>\n",
       "      <th></th>\n",
       "      <th></th>\n",
       "      <th></th>\n",
       "      <th></th>\n",
       "    </tr>\n",
       "  </thead>\n",
       "  <tbody>\n",
       "    <tr>\n",
       "      <th>0</th>\n",
       "      <td>1</td>\n",
       "      <td>../Project/data/train/audio/bed/26e9ae6b_nohas...</td>\n",
       "      <td>26e9ae6b</td>\n",
       "      <td>bed</td>\n",
       "      <td>[0.00012207, 0.000152588, 0.00012207, 0.000183...</td>\n",
       "      <td>16000</td>\n",
       "      <td>[-6.10352e-05, -0.00012207, -9.15527e-05, -6.1...</td>\n",
       "    </tr>\n",
       "    <tr>\n",
       "      <th>1</th>\n",
       "      <td>0</td>\n",
       "      <td>../Project/data/train/audio/bed/c1eebc0b_nohas...</td>\n",
       "      <td>c1eebc0b</td>\n",
       "      <td>bed</td>\n",
       "      <td>[-0.0022583, -0.00372314, -0.00448608, -0.0041...</td>\n",
       "      <td>16000</td>\n",
       "      <td>[-0.000488281, -0.000946045, -0.000274658, 0.0...</td>\n",
       "    </tr>\n",
       "    <tr>\n",
       "      <th>2</th>\n",
       "      <td>0</td>\n",
       "      <td>../Project/data/train/audio/bed/888a0c49_nohas...</td>\n",
       "      <td>888a0c49</td>\n",
       "      <td>bed</td>\n",
       "      <td>[0.00283813, 0.00305176, 0.00296021, 0.0027771...</td>\n",
       "      <td>16000</td>\n",
       "      <td>[6.10352e-05, -0.000305176, 0.0010376, 0.00155...</td>\n",
       "    </tr>\n",
       "    <tr>\n",
       "      <th>3</th>\n",
       "      <td>0</td>\n",
       "      <td>../Project/data/train/audio/bed/413997c1_nohas...</td>\n",
       "      <td>413997c1</td>\n",
       "      <td>bed</td>\n",
       "      <td>[0.00213623, 0.00354004, 0.00323486, 0.0036010...</td>\n",
       "      <td>16000</td>\n",
       "      <td>[0.000854492, 0.000305176, 0.0, -0.000183105, ...</td>\n",
       "    </tr>\n",
       "    <tr>\n",
       "      <th>4</th>\n",
       "      <td>1</td>\n",
       "      <td>../Project/data/train/audio/bed/2be08ce4_nohas...</td>\n",
       "      <td>2be08ce4</td>\n",
       "      <td>bed</td>\n",
       "      <td>[0.000976562, 0.00231934, 0.00180054, 0.001068...</td>\n",
       "      <td>16000</td>\n",
       "      <td>[-0.00253296, -0.00140381, 0.000823975, 0.0029...</td>\n",
       "    </tr>\n",
       "  </tbody>\n",
       "</table>\n",
       "</div>"
      ],
      "text/plain": [
       "       info                                                                    \\\n",
       "  iteration                                               path   speaker word   \n",
       "                                                                                \n",
       "0         1  ../Project/data/train/audio/bed/26e9ae6b_nohas...  26e9ae6b  bed   \n",
       "1         0  ../Project/data/train/audio/bed/c1eebc0b_nohas...  c1eebc0b  bed   \n",
       "2         0  ../Project/data/train/audio/bed/888a0c49_nohas...  888a0c49  bed   \n",
       "3         0  ../Project/data/train/audio/bed/413997c1_nohas...  413997c1  bed   \n",
       "4         1  ../Project/data/train/audio/bed/2be08ce4_nohas...  2be08ce4  bed   \n",
       "\n",
       "                                               audio         \\\n",
       "                                                 raw     sr   \n",
       "                                                              \n",
       "0  [0.00012207, 0.000152588, 0.00012207, 0.000183...  16000   \n",
       "1  [-0.0022583, -0.00372314, -0.00448608, -0.0041...  16000   \n",
       "2  [0.00283813, 0.00305176, 0.00296021, 0.0027771...  16000   \n",
       "3  [0.00213623, 0.00354004, 0.00323486, 0.0036010...  16000   \n",
       "4  [0.000976562, 0.00231934, 0.00180054, 0.001068...  16000   \n",
       "\n",
       "                                                      \n",
       "                                                 cut  \n",
       "                                                      \n",
       "0  [-6.10352e-05, -0.00012207, -9.15527e-05, -6.1...  \n",
       "1  [-0.000488281, -0.000946045, -0.000274658, 0.0...  \n",
       "2  [6.10352e-05, -0.000305176, 0.0010376, 0.00155...  \n",
       "3  [0.000854492, 0.000305176, 0.0, -0.000183105, ...  \n",
       "4  [-0.00253296, -0.00140381, 0.000823975, 0.0029...  "
      ]
     },
     "execution_count": 451,
     "metadata": {},
     "output_type": "execute_result"
    }
   ],
   "source": [
    "# Load raw audio files :\n",
    "raw_audio_df = pd.read_pickle(join('..','Project','data','raw_audio_100.pickle'))\n",
    "raw_audio_df.head()"
   ]
  },
  {
   "cell_type": "markdown",
   "metadata": {},
   "source": [
    "### MFCCS  statistics (cut)"
   ]
  },
  {
   "cell_type": "code",
   "execution_count": 4,
   "metadata": {
    "scrolled": true
   },
   "outputs": [
    {
     "name": "stderr",
     "output_type": "stream",
     "text": [
      "100%|██████████| 3000/3000 [01:45<00:00, 28.45waves/s]\n",
      "/Users/adrian/anaconda3/envs/ntds/lib/python3.6/site-packages/pandas/core/generic.py:2530: PerformanceWarning: dropping on a non-lexsorted multi-index without a level parameter may impact performance.\n",
      "  obj = obj._drop_axis(labels, axis, level=level, errors=errors)\n"
     ]
    },
    {
     "data": {
      "text/html": [
       "<div>\n",
       "<style scoped>\n",
       "    .dataframe tbody tr th:only-of-type {\n",
       "        vertical-align: middle;\n",
       "    }\n",
       "\n",
       "    .dataframe tbody tr th {\n",
       "        vertical-align: top;\n",
       "    }\n",
       "\n",
       "    .dataframe thead tr th {\n",
       "        text-align: left;\n",
       "    }\n",
       "</style>\n",
       "<table border=\"1\" class=\"dataframe\">\n",
       "  <thead>\n",
       "    <tr>\n",
       "      <th></th>\n",
       "      <th colspan=\"4\" halign=\"left\">info</th>\n",
       "      <th colspan=\"3\" halign=\"left\">audio</th>\n",
       "      <th colspan=\"14\" halign=\"left\">mfcc</th>\n",
       "    </tr>\n",
       "    <tr>\n",
       "      <th></th>\n",
       "      <th>iteration</th>\n",
       "      <th>path</th>\n",
       "      <th>speaker</th>\n",
       "      <th>word</th>\n",
       "      <th>raw</th>\n",
       "      <th>sr</th>\n",
       "      <th>cut</th>\n",
       "      <th colspan=\"3\" halign=\"left\">kurtosis</th>\n",
       "      <th>...</th>\n",
       "      <th colspan=\"10\" halign=\"left\">std</th>\n",
       "    </tr>\n",
       "    <tr>\n",
       "      <th></th>\n",
       "      <th></th>\n",
       "      <th></th>\n",
       "      <th></th>\n",
       "      <th></th>\n",
       "      <th></th>\n",
       "      <th></th>\n",
       "      <th></th>\n",
       "      <th>0</th>\n",
       "      <th>1</th>\n",
       "      <th>2</th>\n",
       "      <th>...</th>\n",
       "      <th>0</th>\n",
       "      <th>1</th>\n",
       "      <th>2</th>\n",
       "      <th>3</th>\n",
       "      <th>4</th>\n",
       "      <th>5</th>\n",
       "      <th>6</th>\n",
       "      <th>7</th>\n",
       "      <th>8</th>\n",
       "      <th>9</th>\n",
       "    </tr>\n",
       "  </thead>\n",
       "  <tbody>\n",
       "    <tr>\n",
       "      <th>0</th>\n",
       "      <td>1</td>\n",
       "      <td>../Project/data/train/audio/bed/26e9ae6b_nohas...</td>\n",
       "      <td>26e9ae6b</td>\n",
       "      <td>bed</td>\n",
       "      <td>[0.00012207, 0.000152588, 0.00012207, 0.000183...</td>\n",
       "      <td>16000</td>\n",
       "      <td>[-6.10352e-05, -0.00012207, -9.15527e-05, -6.1...</td>\n",
       "      <td>-0.388538</td>\n",
       "      <td>0.0570015</td>\n",
       "      <td>-0.324685</td>\n",
       "      <td>...</td>\n",
       "      <td>71.6021</td>\n",
       "      <td>13.3322</td>\n",
       "      <td>11.7367</td>\n",
       "      <td>11.5543</td>\n",
       "      <td>12.0264</td>\n",
       "      <td>17.0065</td>\n",
       "      <td>6.15603</td>\n",
       "      <td>6.95215</td>\n",
       "      <td>4.60925</td>\n",
       "      <td>5.42101</td>\n",
       "    </tr>\n",
       "    <tr>\n",
       "      <th>1</th>\n",
       "      <td>0</td>\n",
       "      <td>../Project/data/train/audio/bed/c1eebc0b_nohas...</td>\n",
       "      <td>c1eebc0b</td>\n",
       "      <td>bed</td>\n",
       "      <td>[-0.0022583, -0.00372314, -0.00448608, -0.0041...</td>\n",
       "      <td>16000</td>\n",
       "      <td>[-0.000488281, -0.000946045, -0.000274658, 0.0...</td>\n",
       "      <td>-0.930505</td>\n",
       "      <td>-0.842281</td>\n",
       "      <td>-0.596858</td>\n",
       "      <td>...</td>\n",
       "      <td>57.9914</td>\n",
       "      <td>5.61058</td>\n",
       "      <td>21.6393</td>\n",
       "      <td>14.2288</td>\n",
       "      <td>10.4504</td>\n",
       "      <td>5.32182</td>\n",
       "      <td>5.04889</td>\n",
       "      <td>8.28786</td>\n",
       "      <td>3.23084</td>\n",
       "      <td>7.90562</td>\n",
       "    </tr>\n",
       "  </tbody>\n",
       "</table>\n",
       "<p>2 rows × 57 columns</p>\n",
       "</div>"
      ],
      "text/plain": [
       "       info                                                                    \\\n",
       "  iteration                                               path   speaker word   \n",
       "                                                                                \n",
       "0         1  ../Project/data/train/audio/bed/26e9ae6b_nohas...  26e9ae6b  bed   \n",
       "1         0  ../Project/data/train/audio/bed/c1eebc0b_nohas...  c1eebc0b  bed   \n",
       "\n",
       "                                               audio         \\\n",
       "                                                 raw     sr   \n",
       "                                                              \n",
       "0  [0.00012207, 0.000152588, 0.00012207, 0.000183...  16000   \n",
       "1  [-0.0022583, -0.00372314, -0.00448608, -0.0041...  16000   \n",
       "\n",
       "                                                          mfcc             \\\n",
       "                                                 cut  kurtosis              \n",
       "                                                             0          1   \n",
       "0  [-6.10352e-05, -0.00012207, -9.15527e-05, -6.1... -0.388538  0.0570015   \n",
       "1  [-0.000488281, -0.000946045, -0.000274658, 0.0... -0.930505  -0.842281   \n",
       "\n",
       "              ...                                                           \\\n",
       "              ...         std                                                \n",
       "          2   ...           0        1        2        3        4        5   \n",
       "0 -0.324685   ...     71.6021  13.3322  11.7367  11.5543  12.0264  17.0065   \n",
       "1 -0.596858   ...     57.9914  5.61058  21.6393  14.2288  10.4504  5.32182   \n",
       "\n",
       "                                       \n",
       "                                       \n",
       "         6        7        8        9  \n",
       "0  6.15603  6.95215  4.60925  5.42101  \n",
       "1  5.04889  8.28786  3.23084  7.90562  \n",
       "\n",
       "[2 rows x 57 columns]"
      ]
     },
     "execution_count": 4,
     "metadata": {},
     "output_type": "execute_result"
    }
   ],
   "source": [
    "N_MFCC = 10\n",
    "\n",
    "features_og = compute_mfcc_stat(raw_audio_df,N_MFCC)\n",
    "\n",
    "# Save features as pickle\n",
    "features_og.drop(axis=1,columns=('audio')).to_pickle('./Features Data/cut_mfccs_10.pickle')\n",
    "features_og.head(2)"
   ]
  },
  {
   "cell_type": "markdown",
   "metadata": {},
   "source": [
    "### MFCCs raw (cut)"
   ]
  },
  {
   "cell_type": "code",
   "execution_count": 156,
   "metadata": {
    "scrolled": false
   },
   "outputs": [
    {
     "name": "stderr",
     "output_type": "stream",
     "text": [
      "100%|██████████| 3000/3000 [06:18<00:00,  7.92waves/s]\n",
      "/Users/adrian/anaconda3/envs/ntds/lib/python3.6/site-packages/pandas/core/generic.py:2530: PerformanceWarning: dropping on a non-lexsorted multi-index without a level parameter may impact performance.\n",
      "  obj = obj._drop_axis(labels, axis, level=level, errors=errors)\n"
     ]
    },
    {
     "data": {
      "text/html": [
       "<div>\n",
       "<style scoped>\n",
       "    .dataframe tbody tr th:only-of-type {\n",
       "        vertical-align: middle;\n",
       "    }\n",
       "\n",
       "    .dataframe tbody tr th {\n",
       "        vertical-align: top;\n",
       "    }\n",
       "\n",
       "    .dataframe thead tr th {\n",
       "        text-align: left;\n",
       "    }\n",
       "</style>\n",
       "<table border=\"1\" class=\"dataframe\">\n",
       "  <thead>\n",
       "    <tr>\n",
       "      <th></th>\n",
       "      <th colspan=\"4\" halign=\"left\">info</th>\n",
       "      <th colspan=\"3\" halign=\"left\">audio</th>\n",
       "      <th colspan=\"14\" halign=\"left\">mfcc</th>\n",
       "    </tr>\n",
       "    <tr>\n",
       "      <th></th>\n",
       "      <th>iteration</th>\n",
       "      <th>path</th>\n",
       "      <th>speaker</th>\n",
       "      <th>word</th>\n",
       "      <th>raw</th>\n",
       "      <th>sr</th>\n",
       "      <th>cut</th>\n",
       "      <th colspan=\"14\" halign=\"left\">raw_mfcc</th>\n",
       "    </tr>\n",
       "    <tr>\n",
       "      <th></th>\n",
       "      <th></th>\n",
       "      <th></th>\n",
       "      <th></th>\n",
       "      <th></th>\n",
       "      <th></th>\n",
       "      <th></th>\n",
       "      <th></th>\n",
       "      <th>0</th>\n",
       "      <th>1</th>\n",
       "      <th>2</th>\n",
       "      <th>...</th>\n",
       "      <th>190</th>\n",
       "      <th>191</th>\n",
       "      <th>192</th>\n",
       "      <th>193</th>\n",
       "      <th>194</th>\n",
       "      <th>195</th>\n",
       "      <th>196</th>\n",
       "      <th>197</th>\n",
       "      <th>198</th>\n",
       "      <th>199</th>\n",
       "    </tr>\n",
       "  </thead>\n",
       "  <tbody>\n",
       "    <tr>\n",
       "      <th>0</th>\n",
       "      <td>1</td>\n",
       "      <td>../Project/data/train/audio/bed/26e9ae6b_nohas...</td>\n",
       "      <td>26e9ae6b</td>\n",
       "      <td>bed</td>\n",
       "      <td>[0.00012207, 0.000152588, 0.00012207, 0.000183...</td>\n",
       "      <td>16000</td>\n",
       "      <td>[-6.10352e-05, -0.00012207, -9.15527e-05, -6.1...</td>\n",
       "      <td>-792.254</td>\n",
       "      <td>-791.569</td>\n",
       "      <td>-653.606</td>\n",
       "      <td>...</td>\n",
       "      <td>8.99248</td>\n",
       "      <td>-0.756628</td>\n",
       "      <td>17.4112</td>\n",
       "      <td>15.4035</td>\n",
       "      <td>11.7633</td>\n",
       "      <td>10.9093</td>\n",
       "      <td>5.36816</td>\n",
       "      <td>3.15201</td>\n",
       "      <td>-6.68231</td>\n",
       "      <td>9.00637</td>\n",
       "    </tr>\n",
       "    <tr>\n",
       "      <th>1</th>\n",
       "      <td>0</td>\n",
       "      <td>../Project/data/train/audio/bed/c1eebc0b_nohas...</td>\n",
       "      <td>c1eebc0b</td>\n",
       "      <td>bed</td>\n",
       "      <td>[-0.0022583, -0.00372314, -0.00448608, -0.0041...</td>\n",
       "      <td>16000</td>\n",
       "      <td>[-0.000488281, -0.000946045, -0.000274658, 0.0...</td>\n",
       "      <td>-489.321</td>\n",
       "      <td>-152.981</td>\n",
       "      <td>-85.343</td>\n",
       "      <td>...</td>\n",
       "      <td>-5.74764</td>\n",
       "      <td>4.22596</td>\n",
       "      <td>-1.49707</td>\n",
       "      <td>-9.19094</td>\n",
       "      <td>-13.1783</td>\n",
       "      <td>-15.0401</td>\n",
       "      <td>-15.5017</td>\n",
       "      <td>-15.5715</td>\n",
       "      <td>-15.8891</td>\n",
       "      <td>-18.9999</td>\n",
       "    </tr>\n",
       "  </tbody>\n",
       "</table>\n",
       "<p>2 rows × 207 columns</p>\n",
       "</div>"
      ],
      "text/plain": [
       "       info                                                                    \\\n",
       "  iteration                                               path   speaker word   \n",
       "                                                                                \n",
       "0         1  ../Project/data/train/audio/bed/26e9ae6b_nohas...  26e9ae6b  bed   \n",
       "1         0  ../Project/data/train/audio/bed/c1eebc0b_nohas...  c1eebc0b  bed   \n",
       "\n",
       "                                               audio         \\\n",
       "                                                 raw     sr   \n",
       "                                                              \n",
       "0  [0.00012207, 0.000152588, 0.00012207, 0.000183...  16000   \n",
       "1  [-0.0022583, -0.00372314, -0.00448608, -0.0041...  16000   \n",
       "\n",
       "                                                         mfcc           \\\n",
       "                                                 cut raw_mfcc            \n",
       "                                                            0        1   \n",
       "0  [-6.10352e-05, -0.00012207, -9.15527e-05, -6.1... -792.254 -791.569   \n",
       "1  [-0.000488281, -0.000946045, -0.000274658, 0.0... -489.321 -152.981   \n",
       "\n",
       "             ...                                                            \\\n",
       "             ...                                                             \n",
       "         2   ...         190       191      192      193      194      195   \n",
       "0 -653.606   ...     8.99248 -0.756628  17.4112  15.4035  11.7633  10.9093   \n",
       "1  -85.343   ...    -5.74764   4.22596 -1.49707 -9.19094 -13.1783 -15.0401   \n",
       "\n",
       "                                       \n",
       "                                       \n",
       "       196      197      198      199  \n",
       "0  5.36816  3.15201 -6.68231  9.00637  \n",
       "1 -15.5017 -15.5715 -15.8891 -18.9999  \n",
       "\n",
       "[2 rows x 207 columns]"
      ]
     },
     "execution_count": 156,
     "metadata": {},
     "output_type": "execute_result"
    }
   ],
   "source": [
    "N_MFCC = 20\n",
    "N_FFT =  int(2048/2)\n",
    "NUM_MFCCS_VEC = 10\n",
    "\n",
    "features_og = compute_mfcc_raw(raw_audio_df,N_MFCC,N_FFT,NUM_MFCCS_VEC,cut=True)\n",
    "\n",
    "# Save features as pickle\n",
    "features_og.drop(axis=1,columns=('audio')).to_pickle('./Features Data/cut_mfccs_raw_20_1028_10.pickle')\n",
    "features_og.head(2)"
   ]
  },
  {
   "cell_type": "markdown",
   "metadata": {},
   "source": [
    "## Spectral clustering"
   ]
  },
  {
   "cell_type": "code",
   "execution_count": 434,
   "metadata": {},
   "outputs": [
    {
     "data": {
      "text/html": [
       "<div>\n",
       "<style scoped>\n",
       "    .dataframe tbody tr th:only-of-type {\n",
       "        vertical-align: middle;\n",
       "    }\n",
       "\n",
       "    .dataframe tbody tr th {\n",
       "        vertical-align: top;\n",
       "    }\n",
       "\n",
       "    .dataframe thead tr th {\n",
       "        text-align: left;\n",
       "    }\n",
       "</style>\n",
       "<table border=\"1\" class=\"dataframe\">\n",
       "  <thead>\n",
       "    <tr>\n",
       "      <th></th>\n",
       "      <th colspan=\"4\" halign=\"left\">info</th>\n",
       "      <th colspan=\"17\" halign=\"left\">mfcc</th>\n",
       "    </tr>\n",
       "    <tr>\n",
       "      <th></th>\n",
       "      <th>iteration</th>\n",
       "      <th>path</th>\n",
       "      <th>speaker</th>\n",
       "      <th>word</th>\n",
       "      <th colspan=\"17\" halign=\"left\">raw_mfcc</th>\n",
       "    </tr>\n",
       "    <tr>\n",
       "      <th></th>\n",
       "      <th></th>\n",
       "      <th></th>\n",
       "      <th></th>\n",
       "      <th></th>\n",
       "      <th>0</th>\n",
       "      <th>1</th>\n",
       "      <th>2</th>\n",
       "      <th>3</th>\n",
       "      <th>4</th>\n",
       "      <th>5</th>\n",
       "      <th>...</th>\n",
       "      <th>190</th>\n",
       "      <th>191</th>\n",
       "      <th>192</th>\n",
       "      <th>193</th>\n",
       "      <th>194</th>\n",
       "      <th>195</th>\n",
       "      <th>196</th>\n",
       "      <th>197</th>\n",
       "      <th>198</th>\n",
       "      <th>199</th>\n",
       "    </tr>\n",
       "  </thead>\n",
       "  <tbody>\n",
       "    <tr>\n",
       "      <th>0</th>\n",
       "      <td>1</td>\n",
       "      <td>../Project/data/train/audio/bed/26e9ae6b_nohas...</td>\n",
       "      <td>26e9ae6b</td>\n",
       "      <td>bed</td>\n",
       "      <td>-792.254</td>\n",
       "      <td>-787.7</td>\n",
       "      <td>-791.539</td>\n",
       "      <td>-789.665</td>\n",
       "      <td>-654.321</td>\n",
       "      <td>-601.683</td>\n",
       "      <td>...</td>\n",
       "      <td>8.70598</td>\n",
       "      <td>2.59404</td>\n",
       "      <td>0.659452</td>\n",
       "      <td>5.04189</td>\n",
       "      <td>2.56198</td>\n",
       "      <td>13.0749</td>\n",
       "      <td>8.08766</td>\n",
       "      <td>14.1877</td>\n",
       "      <td>24.2039</td>\n",
       "      <td>18.5999</td>\n",
       "    </tr>\n",
       "    <tr>\n",
       "      <th>1</th>\n",
       "      <td>0</td>\n",
       "      <td>../Project/data/train/audio/bed/c1eebc0b_nohas...</td>\n",
       "      <td>c1eebc0b</td>\n",
       "      <td>bed</td>\n",
       "      <td>-489.317</td>\n",
       "      <td>-281.411</td>\n",
       "      <td>-153.447</td>\n",
       "      <td>-96.2069</td>\n",
       "      <td>-85.2913</td>\n",
       "      <td>-99.3898</td>\n",
       "      <td>...</td>\n",
       "      <td>21.8332</td>\n",
       "      <td>19.6169</td>\n",
       "      <td>17.4731</td>\n",
       "      <td>15.8701</td>\n",
       "      <td>14.147</td>\n",
       "      <td>11.3736</td>\n",
       "      <td>8.31899</td>\n",
       "      <td>-0.998932</td>\n",
       "      <td>-6.97295</td>\n",
       "      <td>-4.75059</td>\n",
       "    </tr>\n",
       "    <tr>\n",
       "      <th>2</th>\n",
       "      <td>0</td>\n",
       "      <td>../Project/data/train/audio/bed/888a0c49_nohas...</td>\n",
       "      <td>888a0c49</td>\n",
       "      <td>bed</td>\n",
       "      <td>-551.097</td>\n",
       "      <td>-514.938</td>\n",
       "      <td>-492.838</td>\n",
       "      <td>-486.028</td>\n",
       "      <td>-497.269</td>\n",
       "      <td>-272.339</td>\n",
       "      <td>...</td>\n",
       "      <td>9.25921</td>\n",
       "      <td>12.553</td>\n",
       "      <td>9.90252</td>\n",
       "      <td>15.5926</td>\n",
       "      <td>10.9931</td>\n",
       "      <td>10.1983</td>\n",
       "      <td>11.9801</td>\n",
       "      <td>15.2197</td>\n",
       "      <td>7.28049</td>\n",
       "      <td>-5.99168</td>\n",
       "    </tr>\n",
       "    <tr>\n",
       "      <th>3</th>\n",
       "      <td>0</td>\n",
       "      <td>../Project/data/train/audio/bed/413997c1_nohas...</td>\n",
       "      <td>413997c1</td>\n",
       "      <td>bed</td>\n",
       "      <td>-561.107</td>\n",
       "      <td>-313.113</td>\n",
       "      <td>-226.13</td>\n",
       "      <td>-243.191</td>\n",
       "      <td>-254.779</td>\n",
       "      <td>-258.498</td>\n",
       "      <td>...</td>\n",
       "      <td>21.6845</td>\n",
       "      <td>22.4279</td>\n",
       "      <td>21.6987</td>\n",
       "      <td>-0.481375</td>\n",
       "      <td>-5.69828</td>\n",
       "      <td>-1.02575</td>\n",
       "      <td>-1.86343</td>\n",
       "      <td>2.16876</td>\n",
       "      <td>-1.24089</td>\n",
       "      <td>-7.62565</td>\n",
       "    </tr>\n",
       "    <tr>\n",
       "      <th>4</th>\n",
       "      <td>1</td>\n",
       "      <td>../Project/data/train/audio/bed/2be08ce4_nohas...</td>\n",
       "      <td>2be08ce4</td>\n",
       "      <td>bed</td>\n",
       "      <td>-471.951</td>\n",
       "      <td>-397.382</td>\n",
       "      <td>-295.359</td>\n",
       "      <td>-241.427</td>\n",
       "      <td>-219.029</td>\n",
       "      <td>-215.649</td>\n",
       "      <td>...</td>\n",
       "      <td>35.6558</td>\n",
       "      <td>33.4182</td>\n",
       "      <td>35.1405</td>\n",
       "      <td>36.9393</td>\n",
       "      <td>35.4168</td>\n",
       "      <td>30.4814</td>\n",
       "      <td>26.2262</td>\n",
       "      <td>22.3652</td>\n",
       "      <td>20.4492</td>\n",
       "      <td>21.4971</td>\n",
       "    </tr>\n",
       "  </tbody>\n",
       "</table>\n",
       "<p>5 rows × 204 columns</p>\n",
       "</div>"
      ],
      "text/plain": [
       "       info                                                                    \\\n",
       "  iteration                                               path   speaker word   \n",
       "                                                                                \n",
       "0         1  ../Project/data/train/audio/bed/26e9ae6b_nohas...  26e9ae6b  bed   \n",
       "1         0  ../Project/data/train/audio/bed/c1eebc0b_nohas...  c1eebc0b  bed   \n",
       "2         0  ../Project/data/train/audio/bed/888a0c49_nohas...  888a0c49  bed   \n",
       "3         0  ../Project/data/train/audio/bed/413997c1_nohas...  413997c1  bed   \n",
       "4         1  ../Project/data/train/audio/bed/2be08ce4_nohas...  2be08ce4  bed   \n",
       "\n",
       "      mfcc                                                ...              \\\n",
       "  raw_mfcc                                                ...               \n",
       "         0        1        2        3        4        5   ...         190   \n",
       "0 -792.254   -787.7 -791.539 -789.665 -654.321 -601.683   ...     8.70598   \n",
       "1 -489.317 -281.411 -153.447 -96.2069 -85.2913 -99.3898   ...     21.8332   \n",
       "2 -551.097 -514.938 -492.838 -486.028 -497.269 -272.339   ...     9.25921   \n",
       "3 -561.107 -313.113  -226.13 -243.191 -254.779 -258.498   ...     21.6845   \n",
       "4 -471.951 -397.382 -295.359 -241.427 -219.029 -215.649   ...     35.6558   \n",
       "\n",
       "                                                                              \\\n",
       "                                                                               \n",
       "       191       192       193      194      195      196       197      198   \n",
       "0  2.59404  0.659452   5.04189  2.56198  13.0749  8.08766   14.1877  24.2039   \n",
       "1  19.6169   17.4731   15.8701   14.147  11.3736  8.31899 -0.998932 -6.97295   \n",
       "2   12.553   9.90252   15.5926  10.9931  10.1983  11.9801   15.2197  7.28049   \n",
       "3  22.4279   21.6987 -0.481375 -5.69828 -1.02575 -1.86343   2.16876 -1.24089   \n",
       "4  33.4182   35.1405   36.9393  35.4168  30.4814  26.2262   22.3652  20.4492   \n",
       "\n",
       "            \n",
       "            \n",
       "       199  \n",
       "0  18.5999  \n",
       "1 -4.75059  \n",
       "2 -5.99168  \n",
       "3 -7.62565  \n",
       "4  21.4971  \n",
       "\n",
       "[5 rows x 204 columns]"
      ]
     },
     "execution_count": 434,
     "metadata": {},
     "output_type": "execute_result"
    }
   ],
   "source": [
    "# Load features\n",
    "features_og = pd.read_pickle('./Features Data/cut_mfccs_raw_10_1028_20.pickle')\n",
    "features_og.head()"
   ]
  },
  {
   "cell_type": "code",
   "execution_count": 435,
   "metadata": {},
   "outputs": [],
   "source": [
    "# drop features\n",
    "features = pd.DataFrame(features_og['mfcc'])\n",
    "features -= features.mean(axis=0)\n",
    "features /= features.std(axis=0)\n",
    "\n",
    "distances = spatial.distance.squareform(spatial.distance.pdist(features,'cosine'))\n",
    "\n",
    "n=distances.shape[0]\n",
    "kernel_width = distances.mean()\n",
    "weights = np.exp(np.divide(-np.square(distances),kernel_width**2))\n",
    "np.fill_diagonal(weights,0)"
   ]
  },
  {
   "cell_type": "code",
   "execution_count": 436,
   "metadata": {},
   "outputs": [
    {
     "data": {
      "image/png": "[encoded data removed]",
      "text/plain": [
       "<matplotlib.figure.Figure at 0x139029668>"
      ]
     },
     "metadata": {},
     "output_type": "display_data"
    }
   ],
   "source": [
    "\n",
    "fix, axes = plt.subplots(2, 2, figsize=(17, 8))\n",
    "def plot(weights, axes):\n",
    "    axes[0].spy(weights)\n",
    "    axes[1].hist(weights[weights > 0].reshape(-1), bins=50);\n",
    "plot(weights, axes[:, 0])\n",
    "\n",
    "NEIGHBORS = 3000\n",
    "\n",
    "for i in range(weights.shape[0]):\n",
    "    idx = weights[i,:].argsort()[:-NEIGHBORS]\n",
    "    weights[i,idx] = 0\n",
    "    weights[idx,i] = 0\n",
    "\n",
    "plot(weights, axes[:, 1])\n",
    "   "
   ]
  },
  {
   "cell_type": "code",
   "execution_count": 437,
   "metadata": {},
   "outputs": [
    {
     "data": {
      "image/png": "[encoded data removed]",
      "text/plain": [
       "<matplotlib.figure.Figure at 0x14a5061d0>"
      ]
     },
     "metadata": {},
     "output_type": "display_data"
    }
   ],
   "source": [
    "degrees = np.sum(weights,axis=0)\n",
    "laplacian = np.diag(degrees**-0.5) @ (np.diag(degrees) - weights) @ np.diag(degrees**-0.5)\n",
    "laplacian = sparse.csr_matrix(laplacian)\n",
    "plt.spy(laplacian.todense());"
   ]
  },
  {
   "cell_type": "code",
   "execution_count": null,
   "metadata": {},
   "outputs": [],
   "source": []
  },
  {
   "cell_type": "code",
   "execution_count": 438,
   "metadata": {},
   "outputs": [
    {
     "data": {
      "image/png": "[encoded data removed]",
      "text/plain": [
       "<matplotlib.figure.Figure at 0x12ed0edd8>"
      ]
     },
     "metadata": {},
     "output_type": "display_data"
    }
   ],
   "source": [
    "eigenvalues, eigenvectors = sparse.linalg.eigsh(A=laplacian,k=100,which='SM')\n",
    "plt.plot(eigenvalues, '.-', markersize=15);\n"
   ]
  },
  {
   "cell_type": "code",
   "execution_count": 439,
   "metadata": {},
   "outputs": [
    {
     "data": {
      "text/plain": [
       "<matplotlib.axes._subplots.AxesSubplot at 0x1439a90b8>"
      ]
     },
     "execution_count": 439,
     "metadata": {},
     "output_type": "execute_result"
    },
    {
     "data": {
      "image/png": "[encoded data removed]",
      "text/plain": [
       "<matplotlib.figure.Figure at 0x145a55908>"
      ]
     },
     "metadata": {},
     "output_type": "display_data"
    }
   ],
   "source": [
    "# Build Label vector\n",
    "# Define class name vector, the index will correspond to the class label\n",
    "class_names = features_og['info']['word'].unique()\n",
    "label_vec = np.ones(len(features_og))\n",
    "for i in range(0,len(class_names)):\n",
    "    label_vec +=(features_og['info','word'] == class_names[i]) * i\n",
    "    \n",
    "label_vec.plot()"
   ]
  },
  {
   "cell_type": "code",
   "execution_count": 440,
   "metadata": {
    "collapsed": true
   },
   "outputs": [],
   "source": [
    "# sample classes such as test and train have equal proportion of classes\n",
    "train_size = 80\n",
    "test_size = 20\n",
    "\n",
    "train_x = np.array([])\n",
    "train_y = np.array([])\n",
    "\n",
    "test_x = np.array([])\n",
    "test_y = np.array([])\n",
    "\n",
    "for i in range(len(class_names)):\n",
    "    class_index = np.where(label_vec == (i+1))[0]\n",
    "    random_index = np.random.choice(range(len(class_index)), size=train_size+test_size, replace=False)\n",
    "    \n",
    "    train_x_class = class_index[random_index[:train_size]]\n",
    "    train_y_class = label_vec[train_x_class]\n",
    "    train_x = np.append(train_x, train_x_class)\n",
    "    train_y = np.append(train_y, train_y_class)\n",
    "\n",
    "    test_x_class = class_index[random_index[train_size:train_size+test_size]]\n",
    "    test_y_class = label_vec[test_x_class]\n",
    "    test_x = np.append(test_x, test_x_class)\n",
    "    test_y = np.append(test_y, test_y_class)\n",
    "    "
   ]
  },
  {
   "cell_type": "code",
   "execution_count": 441,
   "metadata": {
    "collapsed": true
   },
   "outputs": [],
   "source": [
    "# get features\n",
    "train_features = eigenvectors[train_x.astype(int),:]\n",
    "test_features = eigenvectors[test_x.astype(int),:]"
   ]
  },
  {
   "cell_type": "code",
   "execution_count": 442,
   "metadata": {
    "collapsed": true
   },
   "outputs": [],
   "source": [
    "clf  = GaussianNB()"
   ]
  },
  {
   "cell_type": "code",
   "execution_count": 443,
   "metadata": {},
   "outputs": [
    {
     "data": {
      "text/plain": [
       "GaussianNB(priors=None)"
      ]
     },
     "execution_count": 443,
     "metadata": {},
     "output_type": "execute_result"
    }
   ],
   "source": [
    "clf.fit(train_features, train_y)"
   ]
  },
  {
   "cell_type": "code",
   "execution_count": 444,
   "metadata": {},
   "outputs": [
    {
     "name": "stdout",
     "output_type": "stream",
     "text": [
      "accuracy :  0.636666666667\n"
     ]
    }
   ],
   "source": [
    "predict_y = clf.predict(test_features)\n",
    "print('accuracy : ', np.sum(test_y==predict_y)/len(test_y))"
   ]
  },
  {
   "cell_type": "code",
   "execution_count": 445,
   "metadata": {},
   "outputs": [
    {
     "data": {
      "text/plain": [
       "<matplotlib.colorbar.Colorbar at 0x143dd10f0>"
      ]
     },
     "execution_count": 445,
     "metadata": {},
     "output_type": "execute_result"
    },
    {
     "data": {
      "image/png": "[encoded data removed]",
      "text/plain": [
       "<matplotlib.figure.Figure at 0x1446e0cf8>"
      ]
     },
     "metadata": {},
     "output_type": "display_data"
    }
   ],
   "source": [
    "# confusion matrix from ADA\n",
    "conf_mat=confusion_matrix(test_y,predict_y)\n",
    "\n",
    "plt.figure(figsize=(10,10))\n",
    "plt.imshow(conf_mat/np.sum(conf_mat,axis=1),cmap=plt.cm.hot)\n",
    "tick = np.arange(len(class_names))\n",
    "plt.xticks(tick, class_names,rotation=90)\n",
    "plt.yticks(tick, class_names)\n",
    "plt.ylabel('ground truth')\n",
    "plt.xlabel('prediction')\n",
    "plt.title('Confusion matrix')\n",
    "plt.colorbar()"
   ]
  },
  {
   "cell_type": "code",
   "execution_count": 446,
   "metadata": {},
   "outputs": [
    {
     "name": "stdout",
     "output_type": "stream",
     "text": [
      "The average accuracy with CV is : 0.671666666667 (+/-) 0.159547972584\n"
     ]
    }
   ],
   "source": [
    "# Cross Validation for all the words :\n",
    "cv_accuracies = cross_val_score(clf, eigenvectors, label_vec, cv=100)\n",
    "print('The average accuracy with CV is :' ,cv_accuracies.mean() , \"(+/-)\" ,cv_accuracies.std()* 2)"
   ]
  },
  {
   "cell_type": "code",
   "execution_count": 447,
   "metadata": {
    "collapsed": true
   },
   "outputs": [],
   "source": [
    "# Real accuracy considering only the main words :\n",
    "class_names_list = [\"yes\", \"no\", \"up\", \"down\", \"left\", \"right\", \"on\", \"off\", \"stop\", \"go\", \"zero\", \"one\", \"two\", \"three\", \"four\", \"five\", \"six\", \"seven\", \"eight\", \"nine\"]\n",
    "mask_names_main = [True if name in class_names_list else False for name in class_names]\n",
    "index_names_main = [i for i in range(len(mask_names_main)) if mask_names_main[i] == True]\n",
    "inverted_index_names = dict(zip(index_names_main,range(len(index_names_main))))\n",
    "\n",
    "# Creating the label names :\n",
    "class_names_main = class_names[mask_names_main].tolist()\n",
    "class_names_main.extend([\"unknown\"])\n",
    "\n",
    "# Adapting the labels in the test and prediction sets :\n",
    "test_y_adapted = np.array([inverted_index_names[int(test_y[i])] if test_y[i] in index_names_main else len(class_names_main)-1 for i in range(len(test_y)) ])\n",
    "predict_y_adapted = np.array([inverted_index_names[int(predict_y[i])] if predict_y[i] in index_names_main else len(class_names_main)-1 for i in range(len(predict_y)) ])\n"
   ]
  },
  {
   "cell_type": "code",
   "execution_count": 448,
   "metadata": {},
   "outputs": [
    {
     "name": "stdout",
     "output_type": "stream",
     "text": [
      "accuracy for main words classification :  0.673333333333\n"
     ]
    }
   ],
   "source": [
    "acc_adapted = np.sum(test_y_adapted==predict_y_adapted)/len(test_y_adapted)\n",
    "print('accuracy for main words classification : ', acc_adapted)"
   ]
  },
  {
   "cell_type": "code",
   "execution_count": 449,
   "metadata": {},
   "outputs": [
    {
     "data": {
      "text/plain": [
       "<matplotlib.colorbar.Colorbar at 0x146431278>"
      ]
     },
     "execution_count": 449,
     "metadata": {},
     "output_type": "execute_result"
    },
    {
     "data": {
      "image/png": "[encoded data removed]",
      "text/plain": [
       "<matplotlib.figure.Figure at 0x134fe24e0>"
      ]
     },
     "metadata": {},
     "output_type": "display_data"
    }
   ],
   "source": [
    "# Confusion matrix from ADA\n",
    "conf_mat=confusion_matrix(test_y_adapted,predict_y_adapted)\n",
    "\n",
    "plt.figure(figsize=(10,10))\n",
    "plt.imshow(conf_mat/np.sum(conf_mat,axis=1),cmap=plt.cm.hot)\n",
    "tick = np.arange(len(class_names_main))\n",
    "plt.xticks(tick, class_names_main,rotation=90)\n",
    "plt.yticks(tick, class_names_main)\n",
    "plt.ylabel('ground truth')\n",
    "plt.xlabel('prediction')\n",
    "plt.title('Confusion matrix')\n",
    "plt.colorbar()"
   ]
  },
  {
   "cell_type": "code",
   "execution_count": null,
   "metadata": {
    "collapsed": true
   },
   "outputs": [],
   "source": []
  },
  {
   "cell_type": "code",
   "execution_count": null,
   "metadata": {
    "collapsed": true
   },
   "outputs": [],
   "source": []
  },
  {
   "cell_type": "code",
   "execution_count": null,
   "metadata": {
    "collapsed": true
   },
   "outputs": [],
   "source": []
  }
 ],
 "metadata": {
  "kernelspec": {
   "display_name": "Python [conda env:ntds]",
   "language": "python",
   "name": "conda-env-ntds-py"
  },
  "language_info": {
   "codemirror_mode": {
    "name": "ipython",
    "version": 3
   },
   "file_extension": ".py",
   "mimetype": "text/x-python",
   "name": "python",
   "nbconvert_exporter": "python",
   "pygments_lexer": "ipython3",
   "version": "3.6.3"
  }
 },
 "nbformat": 4,
 "nbformat_minor": 2
}
