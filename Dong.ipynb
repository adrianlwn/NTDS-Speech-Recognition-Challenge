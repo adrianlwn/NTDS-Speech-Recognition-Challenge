{
 "cells": [
  {
   "cell_type": "code",
   "execution_count": 1,
   "metadata": {},
   "outputs": [],
   "source": [
    "# Math\n",
    "import numpy as np\n",
    "import scipy.sparse.linalg\n",
    "from scipy import optimize\n"
   ]
  },
  {
   "cell_type": "markdown",
   "metadata": {},
   "source": [
    "### GL-SigRep"
   ]
  },
  {
   "cell_type": "markdown",
   "metadata": {},
   "source": [
    "#### Inputs : \n",
    "- Input signal X : X\n",
    "- number of iterations iter\n",
    "- parameters α, β"
   ]
  },
  {
   "cell_type": "code",
   "execution_count": 2,
   "metadata": {},
   "outputs": [],
   "source": [
    "# test variables to run code\n",
    "\n",
    "m = 10\n",
    "n = 10\n",
    "alpha = 0.1\n",
    "beta = 0.1\n",
    "\n",
    "x = np.random.rand(m,n)\n",
    "l = np.random.rand(m,m)"
   ]
  },
  {
   "cell_type": "code",
   "execution_count": 3,
   "metadata": {},
   "outputs": [],
   "source": [
    "max_iter = 5\n",
    "\n",
    "y = x"
   ]
  },
  {
   "cell_type": "code",
   "execution_count": 4,
   "metadata": {},
   "outputs": [],
   "source": [
    "# minimize L s.t alpha * trace(Y.T * L * Y) + beta * (norm_F(L))^2 s.t trace(L) = n; L_ij = L_ji <= 0; L * ones = zeros\n",
    "def con_sum_zero(l):\n",
    "    l2 = l.reshape(m,m)\n",
    "    return l2.sum(axis=0)\n",
    "\n",
    "def con_trace(l):\n",
    "    l2 = l.reshape(m,m)\n",
    "    return np.trace(l2) - m\n",
    "\n",
    "def con_sym(l):\n",
    "    l2 = l.reshape(m,m)\n",
    "    return ((l2 - l2.T)**2).sum()\n",
    "\n",
    "cons = [{'type':'eq', 'fun': con_sum_zero},\n",
    "        {'type':'eq', 'fun': con_trace},\n",
    "        {'type':'eq', 'fun': con_sym}]\n",
    "\n",
    "def func_1(l, alpha, beta):\n",
    "    l2 = l.reshape(m, m)\n",
    "    return alpha * np.trace(y.T * l2 * y) + beta * (l2**2).sum()\n",
    "\n",
    "# minimize Y s.t norm_F(X-Y)^2 + alpha * trace(Y.T * L * Y)\n",
    "def func_2(y, alpha):\n",
    "    y2 = y.reshape(m, n)\n",
    "    return ((x-y2)**2).sum() + alpha * np.trace(y2.T * l * y2)\n"
   ]
  },
  {
   "cell_type": "code",
   "execution_count": 5,
   "metadata": {},
   "outputs": [],
   "source": [
    "for t in range(max_iter):   \n",
    "    # step to update Graph Laplacian\n",
    "    res = optimize.minimize(func_1, l.reshape(m*m,1), args=(alpha, beta), constraints=cons)\n",
    "    l = res.x.reshape(m,m)\n",
    "    \n",
    "    # step to update Y\n",
    "    res = optimize.minimize(func_2, y.reshape(m*n,1), args=(alpha,))\n",
    "    y = res.x.reshape(m,n)\n",
    "    "
   ]
  },
  {
   "cell_type": "code",
   "execution_count": 6,
   "metadata": {},
   "outputs": [
    {
     "data": {
      "text/plain": [
       "10.0"
      ]
     },
     "execution_count": 6,
     "metadata": {},
     "output_type": "execute_result"
    }
   ],
   "source": [
    "np.trace(l)"
   ]
  },
  {
   "cell_type": "code",
   "execution_count": 7,
   "metadata": {},
   "outputs": [
    {
     "data": {
      "text/plain": [
       "7.9912396660829535e-07"
      ]
     },
     "execution_count": 7,
     "metadata": {},
     "output_type": "execute_result"
    }
   ],
   "source": [
    "((l - l.T)**2).sum()"
   ]
  },
  {
   "cell_type": "code",
   "execution_count": 8,
   "metadata": {},
   "outputs": [
    {
     "data": {
      "text/plain": [
       "array([  2.77555756e-17,  -1.94289029e-16,   1.38777878e-16,\n",
       "        -8.32667268e-17,  -1.38777878e-17,   1.11022302e-16,\n",
       "         5.55111512e-17,  -9.71445147e-17,   3.88578059e-16,\n",
       "         0.00000000e+00])"
      ]
     },
     "execution_count": 8,
     "metadata": {},
     "output_type": "execute_result"
    }
   ],
   "source": [
    "l.sum(axis=0)"
   ]
  },
  {
   "cell_type": "code",
   "execution_count": 9,
   "metadata": {},
   "outputs": [
    {
     "data": {
      "text/plain": [
       "0"
      ]
     },
     "execution_count": 9,
     "metadata": {},
     "output_type": "execute_result"
    }
   ],
   "source": [
    "(l[np.where(~np.eye(l.shape[0],dtype=bool))] > 0).sum()"
   ]
  },
  {
   "cell_type": "code",
   "execution_count": 10,
   "metadata": {},
   "outputs": [
    {
     "data": {
      "text/plain": [
       "array([[ 0.98535916, -0.1174943 , -0.10765729, -0.11576445, -0.09477542,\n",
       "        -0.11614143, -0.09040606, -0.1068269 , -0.11744312, -0.11897343],\n",
       "       [-0.11742495,  1.06564124, -0.11761711, -0.12572303, -0.10473696,\n",
       "        -0.1261016 , -0.1003665 , -0.11678781, -0.1274026 , -0.12893268],\n",
       "       [-0.10765567, -0.11768252,  0.98688705, -0.11595303, -0.09496741,\n",
       "        -0.11633053, -0.09059645, -0.10701805, -0.11763192, -0.11916198],\n",
       "       [-0.11570725, -0.12573527, -0.11589903,  1.0517931 , -0.10301852,\n",
       "        -0.12438271, -0.09864782, -0.11507004, -0.1256853 , -0.12721511],\n",
       "       [-0.0948624 , -0.10488749, -0.09505078, -0.10315837,  0.88375689,\n",
       "        -0.1035359 , -0.07780116, -0.09422328, -0.10483827, -0.10636868],\n",
       "       [-0.11608293, -0.12610935, -0.11627422, -0.12438074, -0.10339369,\n",
       "         1.05481645, -0.09902254, -0.11544441, -0.12606034, -0.12759099],\n",
       "       [-0.09052037, -0.10054652, -0.09071033, -0.09881768, -0.07783045,\n",
       "        -0.09919565,  0.8487658 , -0.08988078, -0.10049722, -0.10202718],\n",
       "       [-0.10683324, -0.11685896, -0.10702251, -0.1151292 , -0.09414205,\n",
       "        -0.11550751, -0.08977318,  0.98024805, -0.11680785, -0.11833933],\n",
       "       [-0.11737625, -0.12740339, -0.11756783, -0.12567315, -0.10468632,\n",
       "        -0.1260508 , -0.10031595, -0.11673905,  1.0652401 , -0.12888278],\n",
       "       [-0.1188961 , -0.12892345, -0.11908794, -0.12719346, -0.10620607,\n",
       "        -0.12757033, -0.10183613, -0.11825775, -0.12887347,  1.07749215]])"
      ]
     },
     "execution_count": 10,
     "metadata": {},
     "output_type": "execute_result"
    }
   ],
   "source": [
    "l"
   ]
  },
  {
   "cell_type": "code",
   "execution_count": null,
   "metadata": {},
   "outputs": [],
   "source": []
  }
 ],
 "metadata": {
  "kernelspec": {
   "display_name": "Python 3",
   "language": "python",
   "name": "python3"
  },
  "language_info": {
   "codemirror_mode": {
    "name": "ipython",
    "version": 3
   },
   "file_extension": ".py",
   "mimetype": "text/x-python",
   "name": "python",
   "nbconvert_exporter": "python",
   "pygments_lexer": "ipython3",
   "version": "3.6.3"
  }
 },
 "nbformat": 4,
 "nbformat_minor": 2
}
